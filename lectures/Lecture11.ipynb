{
 "cells": [
  {
   "cell_type": "markdown",
   "metadata": {},
   "source": [
    "Lecture 11 will cover how to write actual applictions, the main function, input arguments, and beginning graphical user interfaces with layouts.\n",
    "\n",
    "Reference\n",
    " * PyQt and documentation"
   ]
  },
  {
   "cell_type": "markdown",
   "metadata": {},
   "source": [
    "# The entry point"
   ]
  },
  {
   "cell_type": "markdown",
   "metadata": {},
   "source": [
    "Before we venture into graphical user interfaces, we should first cover the `main` function.\n",
    "`main` is the common name for the entry point of executed programs. \n",
    "\n",
    "In C/C++ the main method reads as\n",
    "```cpp\n",
    "int main(int argc, const char* argv[]) {\n",
    "    ...\n",
    "}\n",
    "```\n",
    "in Java it's\n",
    "```java\n",
    "public static void main(String[] args) {\n",
    "    ...\n",
    "}\n",
    "```\n",
    "\n",
    "\n",
    "http://en.wikipedia.org/wiki/Entry_point"
   ]
  },
  {
   "cell_type": "markdown",
   "metadata": {},
   "source": [
    "## Input arguments"
   ]
  },
  {
   "cell_type": "markdown",
   "metadata": {},
   "source": [
    "What these main functions have in common, are the \"arg\" argument.\n",
    "This is the list of strings that are given as the program is executed by the the user. \n",
    "A typical example of running a console program would look like:\n",
    "```\n",
    "$ python myprogram.py -f somefilename.txt -o output.txt -l 4\n",
    "```\n",
    "The program then gets the list of strings `['-f', 'somefilename.txt', '-o', 'output.txt', '-l', '4']`, and is free to decide what to do with them.\n",
    "\n",
    "Since thousands of command line utilities use advanced input arguments, there exists libraries (often a standardized library for every language) that makes complex input arguments easier to handle.\n",
    "\n",
    "When you select to *open a file with ...* in graphical shells (i.e. Windows, OSX, Gnome, etc.), what actually happens is that\n",
    "```\n",
    "$ program path/to/filename\n",
    "```\n",
    "that is, the full path to the filename as sent to the main program as the only argument."
   ]
  },
  {
   "cell_type": "markdown",
   "metadata": {},
   "source": [
    "## Pythons entry point"
   ]
  },
  {
   "cell_type": "markdown",
   "metadata": {},
   "source": [
    "When you run a python script the special variable `__name__` is set to `\"__main__\"`.\n",
    "\n",
    "A common setup in Python looks like\n",
    "```python\n",
    "def main():\n",
    "    # my code here\n",
    "\n",
    "if __name__ == \"__main__\":\n",
    "    main()\n",
    "```\n",
    "which runs the `main()` function when the script is executed, but not with the file it included as a library."
   ]
  },
  {
   "cell_type": "markdown",
   "metadata": {},
   "source": [
    "## Pythons input arguments"
   ]
  },
  {
   "cell_type": "markdown",
   "metadata": {},
   "source": [
    "To access the input arguments, one has to import the `sys` module\n",
    "\n",
    "```python\n",
    "import sys\n",
    "\n",
    "def main():\n",
    "    # First we check for correct user input\n",
    "    if len(sys.argv) < 2:\n",
    "        print(\"Filename not supplied, giving up.\")\n",
    "        return\n",
    "    \n",
    "    # argv[0] is the name of the script itself\n",
    "    # and here we assume the user have input a \n",
    "    # filename as the second argument\n",
    "    filename = sys.argv[1]\n",
    "    do_more_stuff(filename)\n",
    "\n",
    "if __name__ == \"__main__\":\n",
    "    main()\n",
    "```"
   ]
  },
  {
   "cell_type": "markdown",
   "metadata": {},
   "source": [
    "### Complex input argument parsing"
   ]
  },
  {
   "cell_type": "markdown",
   "metadata": {},
   "source": [
    "The OptionParser package allows for the type of advanced input arguments found in many command line tools (e.g. compilers)\n",
    "\n",
    "```python\n",
    "from optparse import OptionParser\n",
    "\n",
    "parser = OptionParser()\n",
    "parser.add_option(\"-f\", \"--file\", dest=\"filename\",\n",
    "                  help=\"write report to FILE\", metavar=\"FILE\")\n",
    "parser.add_option(\"-q\", \"--quiet\",\n",
    "                  action=\"store_false\", dest=\"verbose\", default=True,\n",
    "                  help=\"don't print status messages to stdout\")\n",
    "\n",
    "(options, args) = parser.parse_args()\n",
    "```"
   ]
  },
  {
   "cell_type": "markdown",
   "metadata": {},
   "source": [
    "# Graphical User Interfaces (GUI)"
   ]
  },
  {
   "cell_type": "markdown",
   "metadata": {},
   "source": [
    "For developing GUI, several widget-toolkits exist, for example some cross-platform widgets toolkits are\n",
    "\n",
    " * Qt\n",
    " * GTK\n",
    " * wxWidgets\n",
    " * FLTK\n",
    " \n",
    "A `widget` is a *graphical control element*, such as a button, windows, textboxes, layout schemes, color selection input.\n",
    " \n",
    "Designing the layouts in widget based software is often done with graphical tools, for example QtCreator:\n",
    "<img src=\"designer_example.png\">"
   ]
  },
  {
   "cell_type": "markdown",
   "metadata": {},
   "source": [
    "### Language bindings"
   ]
  },
  {
   "cell_type": "markdown",
   "metadata": {},
   "source": [
    "To use these toolkits in you either use the language they are written in (Qt being written in C++), or you use a language binding to what you prefer/need to use. The language binding supplies the glue code to the toolkit.\n",
    "\n",
    "There are primarily 2 options for Python and Qt, *PyQt* and *PySide*, which are very similar."
   ]
  },
  {
   "cell_type": "markdown",
   "metadata": {},
   "source": [
    "### Non widget based toolkits"
   ]
  },
  {
   "cell_type": "markdown",
   "metadata": {},
   "source": [
    "If you need to make something graphical, but not with widgets (such as a game), then there are libraries like SDL (Simple Directmedia Layer) which enables convenient use of drawing areas (cross platform) where you are free to draw whatever you need yourself."
   ]
  },
  {
   "cell_type": "markdown",
   "metadata": {},
   "source": [
    "## Application = GUI + library"
   ]
  },
  {
   "cell_type": "markdown",
   "metadata": {},
   "source": [
    "To keep development manageable, it is important to seperate the *engine* from the *graphics*. In most applications, this means to create a library that does the business logic, and a GUI-code that uses the library and simply presents the information to the user.\n",
    "\n",
    "Many applications have multiple interfaces, supporting both a GTK and Qt GUI, and even command line and console interfaces, all using the same library. \n",
    "\n",
    "The next lecture will cover this in detail."
   ]
  },
  {
   "cell_type": "markdown",
   "metadata": {},
   "source": [
    "# Licenses"
   ]
  },
  {
   "cell_type": "markdown",
   "metadata": {},
   "source": [
    "Here is a good idea to briefly discuss licensing.\n",
    "\n",
    "Just like when you write a song or take a photo, you own the copyright on the code that you write.\n",
    "You may grant others the right to use what you have created, and this is called as *licensing* your work. A license mean to give permission. A license can never retract legal rights, such as fair use.\n",
    "\n",
    "Common licenses for open source codes are GPL, BSD-license, MIT-license. The main difference are the conditions set for use of this code when it comes to closed source software (i.e. you wish to sell your program, and not share the source code).\n",
    "\n",
    "The GPL (and many GPL-like licenses) allows for selling the software, but under the condition that the *entire* source code of that software is also made available to whomever buys it (under the same conditions). PyQt is under the GPL license.\n",
    "\n",
    "The BSD and MIT licenses are called *permissive* as they allow projects to use the source code but remain closed source themselves.\n",
    "\n",
    "PySide and Qt are licensed under LGPL, which only requires you to share any modifications you have made to PySide itself (for example, fixing a bug in PySide for your application, then you are only required to share that bug fix). You can buy a commersial license for the software as well, where no sharing is required.\n",
    "\n",
    "PyQt is licensed under GPL or alternatively an commercial license."
   ]
  },
  {
   "cell_type": "markdown",
   "metadata": {},
   "source": [
    "# Documentation"
   ]
  },
  {
   "cell_type": "markdown",
   "metadata": {},
   "source": [
    "PySide and PyQt offers complete (?) access to all of Qt. When reading documentation, you can also refer to the documentation of Qt 4.8, which the functionality of the widgets as well. Qt is more than just the graphical elements, and the overview of all the modules is available at http://pyside.github.io/docs/pyside/index.html\n",
    "\n",
    "The extensive documentation on all the widgets can be found in the API documentation:\n",
    "http://pyside.github.io/docs/pyside/PySide/QtGui/index.html\n",
    "\n",
    "However, without great intuition, this doesn't teach you how the pieces fit together.\n",
    "\n",
    "Tutorials and examples can be found at\n",
    "http://qt-project.org/wiki/PySide\n",
    "\n",
    "PyQt documentation \n",
    "http://pyqt.sourceforge.net/Docs/PyQt4/\n",
    "http://pyqt.sourceforge.net/Docs/PyQt4/classes.html"
   ]
  },
  {
   "cell_type": "markdown",
   "metadata": {},
   "source": [
    "# Qt - Hello world"
   ]
  },
  {
   "cell_type": "markdown",
   "metadata": {},
   "source": [
    "The Qt library is divided into several modules. Here, all the components we might end up using are located in the `QtCore`, `QtGui`, `QtWidgets` modules."
   ]
  },
  {
   "cell_type": "code",
   "execution_count": 1,
   "metadata": {
    "collapsed": false
   },
   "outputs": [],
   "source": [
    "# PySide works almost identically, just by changing the module name:\n",
    "#from PySide.QtCore import *\n",
    "#from PySide.QtGui import *\n",
    "#from PyQt4.QtCore import *\n",
    "#from PyQt4.QtGui import *\n",
    "from PyQt5.QtCore import *\n",
    "from PyQt5.QtGui import *\n",
    "from PyQt5.QtWidgets import *\n",
    "import sys"
   ]
  },
  {
   "cell_type": "markdown",
   "metadata": {},
   "source": [
    "Now, we can create the simplest of graphical interfaces"
   ]
  },
  {
   "cell_type": "code",
   "execution_count": 2,
   "metadata": {
    "collapsed": false
   },
   "outputs": [],
   "source": [
    "# Every Qt application must have one and only one QApplication object;\n",
    "# it receives the command line arguments passed to the script, as they\n",
    "# can be used to customize the application's appearance and behavior\n",
    "qt_app = QApplication(sys.argv)"
   ]
  },
  {
   "cell_type": "code",
   "execution_count": 3,
   "metadata": {
    "collapsed": false
   },
   "outputs": [
    {
     "name": "stdout",
     "output_type": "stream",
     "text": [
      "0\n"
     ]
    }
   ],
   "source": [
    "# Normally, one would just use the qt_app created above, but since I want to run applicaitons multiple times\n",
    "# I have to create new instances of the app in this notebook document\n",
    "qt_app = QApplication.instance() # Only necessary when you wish to start multiple separate applications!\n",
    "\n",
    "# Create a label widget with our text\n",
    "label = QLabel('Hello world!')\n",
    " \n",
    "# Show it as a standalone widget (this makes the widget become a minimal window)\n",
    "label.show()\n",
    "\n",
    "# Run the application's event loop. The application can return \n",
    "print( qt_app.exec_() )"
   ]
  },
  {
   "cell_type": "markdown",
   "metadata": {},
   "source": [
    "We see that the application returns an integer. This is often passed directly to the exit function:\n",
    "```python\n",
    "sys.exit( qt_app.exec_() )\n",
    "```\n",
    "\n",
    "I will not do this here, as it would mess up the active notebook!\n",
    "\n",
    "There is also the `qt_app.quit` method that exists the application, closing any window that are still left over."
   ]
  },
  {
   "cell_type": "markdown",
   "metadata": {},
   "source": [
    "# Standard widgets"
   ]
  },
  {
   "cell_type": "markdown",
   "metadata": {},
   "source": [
    "Extensive documentation on Qt can be found at\n",
    "* http://doc.qt.io/\n",
    "* http://doc.qt.io/qt-4.8/\n",
    "* http://doc.qt.io/qt-5.6/\n",
    "\n",
    "An overview of the common widgets is available at\n",
    "* http://doc.qt.io/qt-4.8/widgets-and-layouts.html\n",
    "* http://doc.qt.io/qt-5/widget-classes.html\n",
    "\n",
    "\n",
    "There is also common dialog boxes, such as the `QMessageBox` to create popups that alerts the user or ask the user for various inputs."
   ]
  },
  {
   "cell_type": "markdown",
   "metadata": {},
   "source": [
    "# Examples"
   ]
  },
  {
   "cell_type": "markdown",
   "metadata": {},
   "source": [
    "A wealth of examples is available at\n",
    "https://wiki.python.org/moin/PyQt/Tutorials\n",
    "https://github.com/PySide/Examples/tree/master/examples\n",
    "\n",
    "Looking at example code is sometimes to fastest way to learn."
   ]
  },
  {
   "cell_type": "markdown",
   "metadata": {},
   "source": [
    "## Minimal example of interactivity"
   ]
  },
  {
   "cell_type": "markdown",
   "metadata": {},
   "source": [
    "Lets have a look at a minimal example that actually does something interactive"
   ]
  },
  {
   "cell_type": "code",
   "execution_count": 11,
   "metadata": {
    "collapsed": false
   },
   "outputs": [
    {
     "name": "stdout",
     "output_type": "stream",
     "text": [
      "Hi\n",
      "Hello World!\n",
      "Hi\n",
      "Hello World!\n",
      "0\n"
     ]
    }
   ],
   "source": [
    "def sayHello():\n",
    "    print(\"Hello World!\")\n",
    "\n",
    "def sayHi():\n",
    "    print(\"Hi\")\n",
    "# Create a button, connect it and show it\n",
    "button = QPushButton(\"Click me\")\n",
    "button.pressed.connect(sayHi)\n",
    "button.clicked.connect(sayHello)\n",
    "button.show()\n",
    "print( qt_app.exec_() )"
   ]
  },
  {
   "cell_type": "markdown",
   "metadata": {},
   "source": [
    "This method can't actually pass anything to the function, but in Python we can store data inside objects and pass methods for that specific object. Lets have a look at another small example"
   ]
  },
  {
   "cell_type": "code",
   "execution_count": 12,
   "metadata": {
    "collapsed": false
   },
   "outputs": [
    {
     "data": {
      "text/plain": [
       "0"
      ]
     },
     "execution_count": 12,
     "metadata": {},
     "output_type": "execute_result"
    }
   ],
   "source": [
    "class ButtonPainter:\n",
    "  def __init__(self, button):\n",
    "    self.button = button\n",
    "\n",
    "  def choose_color(self):\n",
    "    # Select color\n",
    "    color = QColorDialog().getColor()\n",
    "    \n",
    "    if color.isValid():\n",
    "        self.button.setStyleSheet(u'background-color:' + color.name())\n",
    "    else:\n",
    "        msgbox = QMessageBox()\n",
    "        msgbox.setWindowTitle(u'No Color was Selected')\n",
    "        msgbox.exec_()\n",
    "\n",
    "\n",
    "# Create top level window/button\n",
    "button = QPushButton('Choose Color')\n",
    "# button.clicked.connect() doesn't support passing custom parameters to\n",
    "# handler function (reference to the  button that we want to paint), so we\n",
    "# create object that will hold this parameter\n",
    "button_painter = ButtonPainter(button)\n",
    "button.clicked.connect(button_painter.choose_color)\n",
    "button.show()\n",
    "\n",
    "qt_app.exec_()"
   ]
  },
  {
   "cell_type": "markdown",
   "metadata": {},
   "source": [
    "# Building layouts"
   ]
  },
  {
   "cell_type": "markdown",
   "metadata": {},
   "source": [
    "Rarely applications only have a single widget, and we can add widgets to other widgets:"
   ]
  },
  {
   "cell_type": "code",
   "execution_count": 13,
   "metadata": {
    "collapsed": false
   },
   "outputs": [],
   "source": [
    "window = QWidget() # Create the simplest widget, just an empty window.\n",
    "\n",
    "lbl1 = QLabel('Hello', window) # The QLabel is owned by the window now\n",
    "lbl1.move(15, 10)\n",
    "\n",
    "lbl2 = QLabel('world!', window)\n",
    "lbl2.move(35, 40)\n",
    "\n",
    "window.setGeometry(30, 30, 100, 70)\n",
    "window.setWindowTitle('Hello world agian!')\n",
    "window.show()\n",
    "\n",
    "ret = qt_app.exec_()"
   ]
  },
  {
   "cell_type": "markdown",
   "metadata": {},
   "source": [
    "For useability it's nice to be able to place buttons in a flexible manner\n",
    "\n",
    "For this purpose, layouts exist"
   ]
  },
  {
   "cell_type": "code",
   "execution_count": 16,
   "metadata": {
    "collapsed": false
   },
   "outputs": [],
   "source": [
    "window = QWidget()\n",
    "\n",
    "okButton = QPushButton(\"OK\")\n",
    "cancelButton = QPushButton(\"Cancel\")\n",
    "\n",
    "hbox = QHBoxLayout()\n",
    "hbox.addStretch(1)\n",
    "hbox.addWidget(okButton)\n",
    "hbox.addWidget(cancelButton)\n",
    "\n",
    "vbox = QVBoxLayout()\n",
    "vbox.addLayout(hbox)\n",
    "vbox.addStretch(10)\n",
    "        \n",
    "window.setLayout(vbox)    \n",
    "        \n",
    "window.setGeometry(300, 300, 300, 150)\n",
    "window.setWindowTitle('Buttons')    \n",
    "window.show()\n",
    "\n",
    "ret = qt_app.exec_()"
   ]
  },
  {
   "cell_type": "markdown",
   "metadata": {},
   "source": [
    "There are many types of layout containers. Grid layouts and box layouts are very common.\n",
    "They all inherit from QLayout: http://qt-project.org/doc/qt-4.8/qlayout.html\n",
    "\n",
    "The last assignment will require you to think over how you want to design your poker game. You can probably make do with the QHBoxLayout and QVBoxLayout, but other schemes might be suitable.\n",
    "\n",
    "Layouts are **not** the only widgets that contain other widgets. For example, the `QGroupBox` draws a border around a region of widgets, and would be pointless if it could not contain anything. The base class of all widgets, `QWidget` has the core method `setLayout`, so for any widget you can add a layout, and the layout can in turn contain any number of widgets.\n",
    "\n",
    "Applications are typically built up from heirarchies of layout containers."
   ]
  },
  {
   "cell_type": "code",
   "execution_count": 17,
   "metadata": {
    "collapsed": false
   },
   "outputs": [],
   "source": [
    "window = QGroupBox(\"Box with layout inside!\")\n",
    "\n",
    "okButton = QPushButton(\"OK\")\n",
    "cancelButton = QPushButton(\"Cancel\")\n",
    "\n",
    "hbox = QHBoxLayout()\n",
    "hbox.addStretch(1)\n",
    "hbox.addWidget(okButton)\n",
    "hbox.addWidget(cancelButton)\n",
    "\n",
    "vbox = QVBoxLayout()\n",
    "vbox.addStretch(1)\n",
    "vbox.addLayout(hbox)\n",
    "        \n",
    "window.setLayout(vbox)\n",
    "        \n",
    "window.setGeometry(300, 300, 300, 150)\n",
    "window.setWindowTitle('Buttons')    \n",
    "window.show()\n",
    "\n",
    "ret = qt_app.exec_()"
   ]
  },
  {
   "cell_type": "markdown",
   "metadata": {},
   "source": [
    "# Customizing widgets"
   ]
  },
  {
   "cell_type": "markdown",
   "metadata": {},
   "source": [
    "We may inherit and extend the widgets available to us by creating new classes.\n",
    "This is typically done for (*at least*) the main window"
   ]
  },
  {
   "cell_type": "code",
   "execution_count": 14,
   "metadata": {
    "collapsed": false
   },
   "outputs": [
    {
     "data": {
      "text/plain": [
       "0"
      ]
     },
     "execution_count": 14,
     "metadata": {},
     "output_type": "execute_result"
    }
   ],
   "source": [
    "class MyWindow(QGroupBox): \n",
    "    def __init__(self):\n",
    "        super().__init__(\"My window content\") # Call the QWidget initialization as well!\n",
    "\n",
    "        okButton = QPushButton(\"OK\")\n",
    "        cancelButton = QPushButton(\"Cancel\")\n",
    "\n",
    "        hbox = QHBoxLayout()\n",
    "        hbox.addStretch(1)\n",
    "        hbox.addWidget(okButton)\n",
    "        hbox.addWidget(cancelButton)\n",
    "\n",
    "        vbox = QVBoxLayout()\n",
    "        vbox.addStretch(1)\n",
    "        vbox.addLayout(hbox)\n",
    "        \n",
    "        self.setLayout(vbox)    \n",
    "\n",
    "        self.setGeometry(300, 300, 300, 150)\n",
    "        self.setWindowTitle('Buttons')    \n",
    "\n",
    "win = MyWindow()\n",
    "win.show()\n",
    "qt_app.exec_()"
   ]
  },
  {
   "cell_type": "code",
   "execution_count": null,
   "metadata": {
    "collapsed": false
   },
   "outputs": [],
   "source": []
  }
 ],
 "metadata": {
  "anaconda-cloud": {},
  "kernelspec": {
   "display_name": "Python [default]",
   "language": "python",
   "name": "python3"
  },
  "language_info": {
   "codemirror_mode": {
    "name": "ipython",
    "version": 3
   },
   "file_extension": ".py",
   "mimetype": "text/x-python",
   "name": "python",
   "nbconvert_exporter": "python",
   "pygments_lexer": "ipython3",
   "version": "3.5.2"
  }
 },
 "nbformat": 4,
 "nbformat_minor": 0
}

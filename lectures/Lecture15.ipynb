{
 "cells": [
  {
   "cell_type": "markdown",
   "metadata": {},
   "source": [
    "Lecture 15 is an example exam."
   ]
  },
  {
   "cell_type": "markdown",
   "metadata": {},
   "source": [
    "# Question 1. Strings and files (6p)"
   ]
  },
  {
   "cell_type": "markdown",
   "metadata": {},
   "source": [
    "The ultimate goal is to convert a color image file to a greyscale image file."
   ]
  },
  {
   "cell_type": "markdown",
   "metadata": {},
   "source": [
    "### Part A: 1 point"
   ]
  },
  {
   "cell_type": "markdown",
   "metadata": {},
   "source": [
    "Colors are often defined by red green and blue color channels. \n",
    "One can compute the luminance (greyscale value) with:\n",
    "$$\n",
    "luminance = 0.2126\\; R + 0.7152\\; G + 0.0722\\; B\n",
    "$$\n",
    "\n",
    "Write a function to converts integer red green and blue color values to integer greyscale.\n",
    "Example usage\n",
    "```python\n",
    ">>> print(luminance(red=40, green=200, blue=130))\n",
    "161\n",
    "```"
   ]
  },
  {
   "cell_type": "markdown",
   "metadata": {},
   "source": [
    "##### Solution proposal:"
   ]
  },
  {
   "cell_type": "code",
   "execution_count": 7,
   "metadata": {},
   "outputs": [],
   "source": [
    "def luminance(red, green, blue):\n",
    "    return round(0.2126 * red + 0.7152 * green + 0.0722 * blue)"
   ]
  },
  {
   "cell_type": "markdown",
   "metadata": {},
   "source": [
    "### Part B: 5 points"
   ]
  },
  {
   "cell_type": "markdown",
   "metadata": {},
   "source": [
    "The PPM image format (file.ppm) is a simple text based image format \n",
    "```bash\n",
    "P3\n",
    "# The P3 means colors are in ASCII, then 3 columns and 2 rows,\n",
    "# then 255 for max color, then RGB triplets\n",
    "3 2\n",
    "255\n",
    "103 217 103    43  95 181   219 219 219\n",
    "244  83 106   255 255 255     0  83 106\n",
    "```\n",
    "The lines starting with `#` are commented (ignored).\n",
    "The first characters `P3` denote the file format, and these are followd by the size (width and height). The next number denotes the maximum value of the channels (in this case, 0 to 255).\n",
    "The rest is the values of the colors, pixel by pixel (in this case, R=103, G=217, B=103 for the first pixel)\n",
    "\n",
    "Linebreaks are optional; any whitespace seperator works. This is also a valid PPM file:\n",
    "```bash\n",
    "P3\n",
    "3 2\n",
    "255\n",
    "103 217 103 43 95 181 219 219 219 244 83 106 255 255\n",
    "255 0 83 106\n",
    "```\n",
    "\n",
    "\n",
    "The PGM image format looks very similar, but has only 1 channel per pixel (the luminance / greyscale)\n",
    "```bash\n",
    "P2\n",
    "# Greyscale version\n",
    "3 2\n",
    "255\n",
    "185 90 219\n",
    "119 255 67\n",
    "```"
   ]
  },
  {
   "cell_type": "markdown",
   "metadata": {},
   "source": [
    "##### Solution proposal:"
   ]
  },
  {
   "cell_type": "code",
   "execution_count": 22,
   "metadata": {},
   "outputs": [],
   "source": [
    "def read_ppm(filename):\n",
    "    with open(filename) as f:\n",
    "        data = []\n",
    "        for line in f:\n",
    "            if line.startswith(\"#\"):  # Ignore comments\n",
    "                continue\n",
    "            for word in line.strip().split():\n",
    "                data.append(int(word))\n",
    "\n",
    "    size_x = data[0]\n",
    "    size_y = data[1]\n",
    "    max_val = data[2]\n",
    "    data = data[3:]\n",
    "    return size_x, size_y, max_val, data\n",
    "\n",
    "def write_pgm(filename, data, max_val, size_x, size_y):\n",
    "    with open(filename, \"w\") as f:\n",
    "        f.write(\"P2\\n\")\n",
    "        f.write(\"# Greyscale version\\n\")\n",
    "        f.write(str(size_x) + \" \" + str(size_y) + \"\\n\")\n",
    "        f.write(str(max_val) + \"\\n\")\n",
    "        for illum in data:\n",
    "            f.write(str(illum) + \"\\n\")\n",
    "\n",
    "def ppm2pgm(filename):\n",
    "    size_x, size_y, max_val, data = read_ppm(filename)\n",
    "\n",
    "    grays = []\n",
    "    n_pixels = size_x * size_y\n",
    "    for i in range(0, 3 * n_pixels, 3):\n",
    "        R = data[i]\n",
    "        G = data[i + 1]\n",
    "        B = data[i + 2]\n",
    "        grays.append(luminance(R, G, B))\n",
    "\n",
    "    write_pgm(filename[:-4] + \".pgm\", grays, max_val, size_x, size_y)"
   ]
  },
  {
   "cell_type": "markdown",
   "metadata": {},
   "source": [
    "# Question 2. Numpy  (5p)"
   ]
  },
  {
   "cell_type": "markdown",
   "metadata": {},
   "source": [
    "Hastigheten för en kropp (initialt i vila) längs ett lutande plan i en viskös vätska kan skrivas som:\n",
    "\n",
    "$$ v(t) = \\frac{m  g}{\\eta}  \\sin(\\theta) \\times \\left(1 - \\exp(- \\frac{\\eta}{m} t) \\right) $$\n",
    "\n",
    "Här är:\n",
    "- $m$ massan för kroppen\n",
    "- $g$ gravitationsaccelerationen\n",
    "- $\\theta$ lutningen på planet räknat från horisontalplanet\n",
    "- $\\eta$ viskositeten hos vätskan\n",
    "\n",
    "\n",
    "I vårt exempel ska följande värden användas: $m$ = 1 kg, $g$ = 9.81 m/s², $\\theta$ = 60°, $\\eta$ = 0.05 kg/s\n",
    "\n",
    "I denna uppgift _skall_ NumPy, SciPy och Matplotlib användas!\n",
    "\n",
    "a) Vid vilken tidpunkt har kroppen uppnått hastigheten v = v1 = 100 m/s?\n",
    "Tips: använd lämplig rutin från SciPY för att lösa ekvationen v(t) - v1 = 0\n",
    "\n",
    "b) Använd matplotlib för att plotta v(t) och lösningen till a)\n",
    "\n",
    "c) Använd resultatet från b) för att uppskatta sluthastigheten (terminal velocity) för kroppen"
   ]
  },
  {
   "cell_type": "markdown",
   "metadata": {},
   "source": [
    "##### Solution proposal:"
   ]
  },
  {
   "cell_type": "code",
   "execution_count": 23,
   "metadata": {},
   "outputs": [
    {
     "name": "stdout",
     "output_type": "stream",
     "text": [
      "V is 100 at time 17.760499212265167 (check: 99.99999999999946)\n"
     ]
    },
    {
     "data": {
      "image/png": "[encoded data removed]",
      "text/plain": [
       "<matplotlib.figure.Figure at 0x7f704bb39c18>"
      ]
     },
     "metadata": {},
     "output_type": "display_data"
    },
    {
     "name": "stdout",
     "output_type": "stream",
     "text": [
      "Terminal velocity: 169.914184223\n"
     ]
    }
   ],
   "source": [
    "import numpy as np\n",
    "from scipy.optimize import fsolve\n",
    "import math\n",
    "import matplotlib.pyplot as plt\n",
    "\n",
    "# Define constants\n",
    "g = 9.81\n",
    "theta = 60 * math.pi / 180\n",
    "m = 1\n",
    "eta = 0.05\n",
    "\n",
    "# Part A, find the time when v = 100 m/s\n",
    "v1 = 100\n",
    "vf = lambda t : m * g * math.sin(theta) / eta * (1 - np.exp(- eta / m * t)) - v1\n",
    "\n",
    "t_solve = fsolve(vf, x0 = 0.0)\n",
    "ts = t_solve[0]\n",
    "\n",
    "print('V is {} at time {} (check: {})'.format(v1, ts, v1+vf(ts)))\n",
    "\n",
    "\n",
    "# Part B\n",
    "t = np.linspace(0, 100, 1000)\n",
    "\n",
    "v = v1 + vf(t)\n",
    "\n",
    "plt.plot(t, v)\n",
    "plt.plot(ts, v1, 'ro')\n",
    "plt.grid()\n",
    "plt.xlabel('time t (s)')\n",
    "plt.ylabel('velovity v (m/s)')\n",
    "plt.show()\n",
    "\n",
    "# Part c, terminal velocity\n",
    "# See graph\n",
    "\n",
    "vt = v1 + vf(ts*1000)\n",
    "print('Terminal velocity:', vt)"
   ]
  },
  {
   "cell_type": "markdown",
   "metadata": {},
   "source": [
    "# Question 3. Designing some class (6p)"
   ]
  },
  {
   "cell_type": "markdown",
   "metadata": {},
   "source": [
    "\n",
    "A common type matrix pattern is of matrix has the form:\n",
    "$$\n",
    "A = \\begin{pmatrix} K & G \\\\ G^T & 0 \\end{pmatrix}\n",
    "$$\n",
    "where the $K$ matrix is the main system of equations for some problem, and the $G$ matrix is a set of additional constraints on the system.\n",
    "\n",
    "Part A (4p)\n",
    "-------\n",
    "Write a class `ConstrainedMatrix` which takes references to a matrix `k` and a matrix `g` and represents the $A$ matrix described above.\n",
    "We wish to save memory here, so do not store any unnecessary copies of the matrices.\n",
    "\n",
    "Implement:\n",
    "\n",
    " * the method `size()` which returns a tuple of the total matrix size.\n",
    " * the method `dot_product(x)` which takes a vector $x$ and returns the dot product $A \\cdot x$.\n",
    "\n",
    "The sub-matrices `k` and `g` and the vector `x` must be numpy arrays. The return value from the dot product should be a numpy array as well.\n",
    " \n",
    "The dot product (skalärprodukt) is computed by:\n",
    "$$\n",
    "\\begin{aligned}\n",
    "M \\cdot x &= \\sum_j M_{ij} x_j \\\\\n",
    "M^T \\cdot x &= \\sum_j M_{ji} x_j\n",
    "\\end{aligned}\n",
    "$$\n",
    "\n",
    "In `dot_product`, make use the fact that\n",
    "$$\n",
    "\\begin{aligned}\n",
    "A \\cdot x = \\begin{pmatrix} K & G \\\\ G^T & 0 \\end{pmatrix} \\cdot \\begin{pmatrix} x_k \\\\ x_g \\end{pmatrix} = \\begin{pmatrix} K \\cdot x_k + G \\cdot x_g \\\\ G^T \\cdot x_k \\end{pmatrix}\n",
    "\\end{aligned}\n",
    "$$\n",
    "\n",
    "*Hint: You can determine the shape of a numpy array by using `k.shape` which is a tuple with the sizes.*\n",
    "\n",
    "Part B (2p)\n",
    "-----------\n",
    "Write a custom exception `MatrixSizeMismatch`. Have the initialization of `ConstrainedMatrix` return this error with an informative error message if `k` and `g` doesn't have the same number of rows.\n",
    "**Also** write a simple test code that catches the exception.\n",
    "\n",
    "\n",
    "Example:\n",
    "```python\n",
    "k = np.array([[1,2,3],[4,5,6],[7,8,9]])\n",
    "g = np.array([[1,0],[0,-1],[-1,1]])\n",
    "x = np.array([1,0,2,3,0])\n",
    "\n",
    "a = ConstrainedMatrix(k, g)\n",
    "v = a.dot_product(x) \n",
    "print(v) # should be [10, 16, 22, -1, 2]\n",
    "```"
   ]
  },
  {
   "cell_type": "markdown",
   "metadata": {},
   "source": [
    "##### Solution proposal:"
   ]
  },
  {
   "cell_type": "code",
   "execution_count": 24,
   "metadata": {
    "collapsed": true
   },
   "outputs": [],
   "source": [
    "class MatrixSizeMismatch(Exception):\n",
    "    pass\n",
    "\n",
    "class ConstrainedMatrix:\n",
    "    def __init__(self, k, g):\n",
    "        if k.shape[1] != g.shape[0] or k.shape[0] != g.shape[0]:\n",
    "            raise MatrixSizeMismatch(\"Incompatible matrices: k = {}x{} but g has {} rows\".format(*k.shape, g.shape[0]))\n",
    "\n",
    "        self.k = k\n",
    "        self.g = g\n",
    "\n",
    "    def size(self):\n",
    "        rows = k.shape[0] + g.shape[1]\n",
    "        cols = k.shape[1] + g.shape[1]\n",
    "        return (rows, cols)\n",
    "\n",
    "    def dot_product(self, x):\n",
    "        pos = k.shape[1]\n",
    "        # It would be find to implement as a nested loop as well:\n",
    "        v_k = np.dot(self.k, x[:pos]) + np.dot(self.g, x[pos:])\n",
    "        v_g = np.dot(x[:pos], self.g)\n",
    "        return np.concatenate((v_k, v_g))"
   ]
  },
  {
   "cell_type": "code",
   "execution_count": 25,
   "metadata": {},
   "outputs": [
    {
     "name": "stdout",
     "output_type": "stream",
     "text": [
      "[10 16 22 -1  2]\n",
      "doh\n"
     ]
    }
   ],
   "source": [
    "# Small random test case:\n",
    "\n",
    "k = np.array([[1,2,3],[4,5,6],[7,8,9]])\n",
    "g = np.array([[1,0],[0,-1],[-1,1]])\n",
    "x = np.array([1,0,2,3,0])\n",
    "\n",
    "a = ConstrainedMatrix(k, g)\n",
    "v = a.dot_product(x) \n",
    "print(v) # should be [10, 16, 22, -1, 2]\n",
    "\n",
    "# This should raise an exception:\n",
    "k2 = np.array([[1,2],[3,4],[5,6]])\n",
    "try:\n",
    "    b = ConstrainedMatrix(k2, g)\n",
    "except MatrixSizeMismatch:\n",
    "    print(\"doh\")"
   ]
  },
  {
   "cell_type": "markdown",
   "metadata": {},
   "source": [
    "# Question 4. Designing a class hierarchy (8p)"
   ]
  },
  {
   "cell_type": "markdown",
   "metadata": {},
   "source": [
    "Do not use any NumPy or SciPy for this question. You will need the `math` library for `sqrt`.\n",
    "\n",
    "Vectors are critical part of almost any software. In many applications, we can use OOP to make special versions of vectors for practical and performance reasons. \n",
    "\n",
    "Part A (0.5p)\n",
    "-------------\n",
    "\n",
    "Write a base class `BaseVector` with an abstract method `norm()`.\n",
    "\n",
    "The `norm` is computed by $\\sqrt{\\sum_i a_i^2}$\n",
    "\n",
    "Part B (1p)\n",
    "-----------\n",
    "\n",
    "Write the (trivial) subclass `ZeroVector` (a vector of all zeros) that takes a length, and nothing else.\n",
    "Add suitable implementations to the `len` operator, and the `norm` and `x[i]` (getitem) methods.\n",
    "`x[i]` should raise an `IndexError` if `i` is outside of the size.\n",
    "\n",
    "```python\n",
    ">>> x = ZeroVector(10)\n",
    ">>> print(x.norm())\n",
    "0\n",
    ">>> print(x[5])\n",
    "0\n",
    ">>> x[15]\n",
    "...\n",
    "IndexError: bla bla bla\n",
    "```\n",
    "\n",
    "*Hint: `len` support through `__len__(self)`*\n",
    "\n",
    "*Hint: `x[item]` support through `__getitem__(self, item)`*\n",
    "\n",
    "\n",
    "Part C (2p)\n",
    "-----------\n",
    "\n",
    "Write a subclass `Vector` that is a ordinary vector using a `list` to store its values.\n",
    "Add the implementations to the `len` operator the `norm` and `x[i]` (getitem) methods.\n",
    "\n",
    "```python\n",
    ">>> x = Vector([3, 2, 6, 4, 2, 8])\n",
    ">>> y = Vector([2, 7, 1, 1, 4, 3])\n",
    ">>> print(x.norm())\n",
    "11.533\n",
    "```\n",
    "\n",
    "\n",
    "Part D (3p)\n",
    "-----------\n",
    "\n",
    "Write a subclass `VectorSlice` that takes a `Vector` and a sub-range (slice) **without copying** any data from original `Vector`.\n",
    "Instead it simple stores a reference to the original, and uses the range to determine what part of the vector to represent.\n",
    "\n",
    "Add the implementations to the `len` operator, the `norm` and `x[i]` (getitem) methods.\n",
    "`x[i]` should raise an `IndexError` if `i` is outside the slice range.\n",
    "\n",
    "```python\n",
    ">>> x = Vector([1, 3, 5, 7, 9, 11, 13, 15, 17, 19])\n",
    ">>> y = VectorSlice(x, 3, 6)  # will represent [7, 9, 11]\n",
    ">>> print(y.norm())\n",
    "15.843\n",
    ">>> print(y[1])\n",
    "9\n",
    "```\n",
    "\n",
    "\n",
    "Part E (1.5p)\n",
    "-------------\n",
    "\n",
    "Add a new method `slice(a, b)` to all three classes `Vector`, `VectorSlice`, `ZeroVector` and a corrsponding abstract method in `BaseVector`.\n",
    "Make use of the `VectorSlice` class where it is suitable.\n",
    "\n",
    "```python\n",
    ">>> x = Vector([0, 1, 2, 3, 4, 5, 6, 7, 8, 9])\n",
    ">>> y = x.slice(2, 7) # y will contain values 2, 3, 4, 5, 6\n",
    ">>> z = y.slice(3, 5) # z will contain values 5, 6\n",
    ">>> u = ZeroVector(10)\n",
    ">>> v = u.slice(2, 5) # v will contain only zeroes length\n",
    "```\n",
    "\n",
    "*Hint: The zero vector is a bit special! The `slice` method does not have to return a `VectorSlice` type.*\n",
    "\n",
    "*Hint: A slice of a slice is still just a slice.*"
   ]
  },
  {
   "cell_type": "markdown",
   "metadata": {},
   "source": [
    "##### Solution proposal:"
   ]
  },
  {
   "cell_type": "code",
   "execution_count": 14,
   "metadata": {},
   "outputs": [],
   "source": [
    "from math import sqrt\n",
    "import abc\n",
    "\n",
    "class BaseVector(metaclass=abc.ABCMeta):\n",
    "    @abc.abstractmethod\n",
    "    def norm(self):\n",
    "        pass\n",
    "\n",
    "    @abc.abstractmethod\n",
    "    def slice(self, start, end):\n",
    "        pass\n",
    "\n",
    "\n",
    "class ZeroVector(BaseVector):\n",
    "    def __init__(self, size):\n",
    "        self.size = size\n",
    "\n",
    "    def __len__(self):\n",
    "        return self.size\n",
    "\n",
    "    def __getitem__(self, item):\n",
    "        if item < 0 or item > self.size:\n",
    "            raise IndexError(\"Index {} outside range for size {}\".format(item, len(self)))\n",
    "        return 0.\n",
    "\n",
    "    def norm(self):\n",
    "        return 0.\n",
    "\n",
    "    def slice(self, start, end):\n",
    "        return ZeroVector(end - start)\n",
    "\n",
    "\n",
    "class Vector(BaseVector):\n",
    "    def __init__(self, values):\n",
    "        self.values = values\n",
    "\n",
    "    def __len__(self):\n",
    "        return len(self.values)\n",
    "\n",
    "    def __getitem__(self, item):\n",
    "        return self.values[item]\n",
    "\n",
    "    def norm(self):\n",
    "        x = 0.\n",
    "        for v in self.values:\n",
    "            x += v*v\n",
    "        return sqrt(x)\n",
    "\n",
    "    def slice(self, start, end):\n",
    "        # Optional:\n",
    "        if start > len(self) or end > len(self):\n",
    "            raise IndexError(\"Slice index {},{} outside range\".format(start, end) )\n",
    "        return VectorSlice(self, start, end)\n",
    "\n",
    "\n",
    "class VectorSlice(BaseVector):\n",
    "    def __init__(self, vector, start, end):\n",
    "        self.values = vector\n",
    "        self.start = start\n",
    "        self.end = end\n",
    "\n",
    "    def __len__(self):\n",
    "        return self.end - self.start\n",
    "\n",
    "    def __getitem__(self, item):\n",
    "        if item < 0 or item > len(self):\n",
    "            raise IndexError(\"Index {} outside range for size {}\".format(item, len(self)))\n",
    "        return self.vector[self.start + item]\n",
    "\n",
    "    def norm(self):\n",
    "        x = 0.\n",
    "        for i in range(self.start, self.end):\n",
    "            x += self.vector[i] ** 2\n",
    "        return sqrt(x)\n",
    "\n",
    "    def slice(self, start, end):\n",
    "        # Optional:\n",
    "        if start > len(self) or end > len(self):\n",
    "            raise IndexError(\"Slice index {},{} outside range\".format(start, end) )\n",
    "        return VectorSlice(self.vector, self.start + start, self.start + end)"
   ]
  },
  {
   "cell_type": "code",
   "execution_count": null,
   "metadata": {
    "collapsed": true
   },
   "outputs": [],
   "source": []
  }
 ],
 "metadata": {
  "anaconda-cloud": {},
  "kernelspec": {
   "display_name": "Python 3",
   "language": "python",
   "name": "python3"
  },
  "language_info": {
   "codemirror_mode": {
    "name": "ipython",
    "version": 3
   },
   "file_extension": ".py",
   "mimetype": "text/x-python",
   "name": "python",
   "nbconvert_exporter": "python",
   "pygments_lexer": "ipython3",
   "version": "3.6.3"
  }
 },
 "nbformat": 4,
 "nbformat_minor": 1
}

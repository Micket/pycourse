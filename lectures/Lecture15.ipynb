{
 "cells": [
  {
   "cell_type": "markdown",
   "metadata": {},
   "source": [
    "Lecture 16: Repetition and outlook"
   ]
  },
  {
   "cell_type": "markdown",
   "metadata": {},
   "source": [
    "# Repetition"
   ]
  },
  {
   "cell_type": "markdown",
   "metadata": {},
   "source": [
    "I received no specific questions from anyone, so I will just mention the things I think are relevant!"
   ]
  },
  {
   "cell_type": "markdown",
   "metadata": {},
   "source": [
    "## References"
   ]
  },
  {
   "cell_type": "markdown",
   "metadata": {},
   "source": [
    "Remember how references work!\n",
    "\n",
    "Why is\n",
    "```python\n",
    "x += [4, 5]\n",
    "```\n",
    "not the same as\n",
    "```python\n",
    "x = x + [4, 5]\n",
    "```"
   ]
  },
  {
   "cell_type": "code",
   "execution_count": 1,
   "metadata": {},
   "outputs": [
    {
     "name": "stdout",
     "output_type": "stream",
     "text": [
      "[1, 2, 3, 4, 5]\n"
     ]
    }
   ],
   "source": [
    "x = [1,2,3]\n",
    "y = x\n",
    "x += [4, 5]\n",
    "print(y)"
   ]
  },
  {
   "cell_type": "code",
   "execution_count": 2,
   "metadata": {},
   "outputs": [
    {
     "name": "stdout",
     "output_type": "stream",
     "text": [
      "[1, 2, 3]\n"
     ]
    }
   ],
   "source": [
    "x = [1,2,3]\n",
    "y = x\n",
    "x = x + [4, 5]\n",
    "print(y)"
   ]
  },
  {
   "cell_type": "markdown",
   "metadata": {},
   "source": [
    "Know the difference when a function should *modify* the input data, or when it should *return a modified copy*. For example, a method that modifies values in place might look like:"
   ]
  },
  {
   "cell_type": "code",
   "execution_count": 3,
   "metadata": {
    "collapsed": true
   },
   "outputs": [],
   "source": [
    "def increment_one(values):\n",
    "    for i in range(len(values)):\n",
    "        values[i] += 1"
   ]
  },
  {
   "cell_type": "markdown",
   "metadata": {},
   "source": [
    "## Immutable types"
   ]
  },
  {
   "cell_type": "markdown",
   "metadata": {},
   "source": [
    "Remember that some types are immutable. Tuples and strings are fixed (though, the object they point at can change internally).\n",
    "To modify them, you have to copy."
   ]
  },
  {
   "cell_type": "markdown",
   "metadata": {},
   "source": [
    "## List, set, and dictionary"
   ]
  },
  {
   "cell_type": "markdown",
   "metadata": {},
   "source": [
    "Many of you have used list comprehensions in the labs so far. It might have been something along the lines of:"
   ]
  },
  {
   "cell_type": "code",
   "execution_count": 4,
   "metadata": {},
   "outputs": [
    {
     "name": "stdout",
     "output_type": "stream",
     "text": [
      "[25, 16, 9, 4, 1, 0, 1, 4, 9, 16]\n"
     ]
    }
   ],
   "source": [
    "x = [a**2 for a in range(-5, 5)]\n",
    "print(x)"
   ]
  },
  {
   "cell_type": "markdown",
   "metadata": {},
   "source": [
    "The same can be done for sets (remember, sets store only unique values):"
   ]
  },
  {
   "cell_type": "code",
   "execution_count": 5,
   "metadata": {},
   "outputs": [
    {
     "name": "stdout",
     "output_type": "stream",
     "text": [
      "{0, 1, 4, 9, 16, 25}\n"
     ]
    }
   ],
   "source": [
    "x = {a**2 for a in range(-5,5)}\n",
    "print(x)"
   ]
  },
  {
   "cell_type": "markdown",
   "metadata": {},
   "source": [
    "and dictionaries:"
   ]
  },
  {
   "cell_type": "code",
   "execution_count": 6,
   "metadata": {},
   "outputs": [
    {
     "name": "stdout",
     "output_type": "stream",
     "text": [
      "{-5: 25, -4: 16, -3: 9, -2: 4, -1: 1, 0: 0, 1: 1, 2: 4, 3: 9, 4: 16}\n"
     ]
    }
   ],
   "source": [
    "x = {a:a**2 for a in range(-5, 5)}\n",
    "print(x)"
   ]
  },
  {
   "cell_type": "markdown",
   "metadata": {},
   "source": [
    "When is it good idea to use dictionaries or sets?"
   ]
  },
  {
   "cell_type": "markdown",
   "metadata": {},
   "source": [
    "### Indexing (and slicing)"
   ]
  },
  {
   "cell_type": "markdown",
   "metadata": {},
   "source": [
    "In lists (strings, sets, tuples) we can give slices and indices. See lecture 2 and 3. Know how to work negative indices. Know the difference when indexing inside NumPy-arrays and lists."
   ]
  },
  {
   "cell_type": "markdown",
   "metadata": {},
   "source": [
    "## The less common operators"
   ]
  },
  {
   "cell_type": "markdown",
   "metadata": {},
   "source": [
    "Make sure to know what the modulus operator (%) does. You should also be aware of the integer division (//)."
   ]
  },
  {
   "cell_type": "markdown",
   "metadata": {},
   "source": [
    "## Reading error messages"
   ]
  },
  {
   "cell_type": "markdown",
   "metadata": {},
   "source": [
    "### Example 1"
   ]
  },
  {
   "cell_type": "markdown",
   "metadata": {},
   "source": [
    "What has gone wrong when you get:\n",
    "\n",
    "`AttributeError: 'list' object has no attribute 'add_card'`\n",
    "    \n",
    "It should be immediately clear what has caused this.\n",
    "* Is the problem that `list` is missing a method we expect it to have? No, of course, good old `list` doesn't know anything about cards.\n",
    "* Did we use the wrong method on our `list`? Very unlikely that we would confuse `list`s `append` with `add_card`.\n",
    "* Did we call the method `add_card` on the wrong variable? Yes, that must be it.\n",
    "\n",
    "Looking at the offending line, we might find:\n",
    "```python\n",
    "player.hand.cards.add_card(c)\n",
    "```\n",
    "where we meant to do\n",
    "```python\n",
    "player.hand.add_card(c)\n",
    "```\n",
    "i.e., calling our own `add_card` method on our own class `Hand`."
   ]
  },
  {
   "cell_type": "markdown",
   "metadata": {},
   "source": [
    "### Example 2"
   ]
  },
  {
   "cell_type": "markdown",
   "metadata": {},
   "source": [
    "In another case, we might get:\n",
    "`AttributeError: 'tuple' object has no attribute 'sort'`\n",
    "and looking at the offending line, we might find:\n",
    "```python\n",
    "poker_hands.sort()\n",
    "winning_hand = poker_hands[0]\n",
    "```\n",
    "* Did we call the method `sort` on the wrong variable? No, it seems correct.\n",
    "* Did we use the wrong method on our `tuple`? No, sorting seems like a suitable action from the context.\n",
    "* Is the problem that `tuple` is missing a method we expect it to have? Yes. Tuples are immutable, and cannot be modified in-place with a `sort`.\n",
    "We could look at where we assign `poker_hands` and perhaps switch to a list, and not a `tuple`, if we wish to modify it."
   ]
  },
  {
   "cell_type": "markdown",
   "metadata": {},
   "source": [
    "## Exceptions"
   ]
  },
  {
   "cell_type": "markdown",
   "metadata": {},
   "source": [
    "You should know how to use **raise**, **try**, **except**. Review the previous lecture on lectures if you are unsure!\n",
    "\n",
    "You should know how to create a custom error with a relevant message (and storing other relevant data for exception handling, when suitable)"
   ]
  },
  {
   "cell_type": "markdown",
   "metadata": {},
   "source": [
    "## Files"
   ]
  },
  {
   "cell_type": "markdown",
   "metadata": {},
   "source": [
    "Know to close files that you have opened! Prefer using `with open(filename) as f` whenever possible (which is basically always)\n",
    "\n",
    "Leaving this out might actually **deduct points**, if the question focused on reading the contents of a file."
   ]
  },
  {
   "cell_type": "markdown",
   "metadata": {},
   "source": [
    "## Lambda functions"
   ]
  },
  {
   "cell_type": "code",
   "execution_count": 8,
   "metadata": {},
   "outputs": [
    {
     "name": "stdout",
     "output_type": "stream",
     "text": [
      "67\n"
     ]
    }
   ],
   "source": [
    "x = lambda a, b: a+b**a\n",
    "print(x(3, 4))"
   ]
  },
  {
   "cell_type": "markdown",
   "metadata": {},
   "source": [
    "## Classes"
   ]
  },
  {
   "cell_type": "markdown",
   "metadata": {},
   "source": [
    "Know when you should\n",
    "* Inherit from a class or keep an instance variable of another class (is B an A? or is does B have an A?)\n",
    "* use a static method\n",
    "* use static (class) variables\n",
    "* make a base class\n",
    "* overload an abstract method\n",
    "\n",
    "Operator overloading: \\*, /, +, -, ==, !=, >, <, >=, <=, in, get/setitem, len, str/repr, float\n",
    "\n",
    "Understand the jargon:\n",
    "* Base class\n",
    "* Sub class\n",
    "* Inherit from X\n",
    "* Overload\n",
    "* Abstract\n",
    "* Super(class)\n",
    "* Instance\n",
    "* Method vs Function\n",
    "* Member variables"
   ]
  },
  {
   "cell_type": "markdown",
   "metadata": {},
   "source": [
    "## Name the variables in a sensible way"
   ]
  },
  {
   "cell_type": "markdown",
   "metadata": {},
   "source": [
    "Please stick to \n",
    "* english!\n",
    "* `function_names_like_this` (variables also)\n",
    "* `ClassesLikeThis`\n",
    "\n",
    "You are writing code that other should read to. Showing intent (and code style certainly shows intent) is the best thing you can do to help others understand your code."
   ]
  },
  {
   "cell_type": "markdown",
   "metadata": {},
   "source": [
    "## Help"
   ]
  },
  {
   "cell_type": "markdown",
   "metadata": {},
   "source": [
    "Remember the `help` function in the python terminal! It's a convenient way to access information.\n",
    "\n",
    "Tab-completion isn't always perfect in PyCharm (though, most of the time, it's great). Running examples in the ipython console is always perfect w.r.t completion, and is a useful tool for rapid coding."
   ]
  },
  {
   "cell_type": "markdown",
   "metadata": {},
   "source": [
    "# Outlook"
   ]
  },
  {
   "cell_type": "markdown",
   "metadata": {},
   "source": [
    "What should you learn next to be a profficient programmer?\n",
    "\n",
    "1. Version control system: Absolutely essential for all programmers. I would have covered it in the course if not for the lack of time. You should *definitely* learn **git** (with **github.com**). \n",
    "2. Learn a statically typed (and compiled) language: C++, Java, C#, Go\n",
    "\n",
    "If you try to have a look at C++, beware of outdated tutorials and guides.\n",
    "\n",
    "You should also learn a functional language (like Haskell or Scheme) for something completely different.\n",
    "\n",
    "What do you want to use programming for? Depending on what you want:\n",
    "1. Web programming: Check out Django, JavaScript \n",
    "2. Parallel programming: Check out the course \"High performance computing\" (Högprestandaberäkningar) MMA620\n",
    "3. Bigger, more advanced GUIs: Check out Qt designer (WYSIWYG editor for GUI layouts).\n",
    "\n",
    "There are many other courses; datastructures, algorithms, functional programming.\n",
    "\n",
    "Finding a small open source project and contributing is a very good practice."
   ]
  },
  {
   "cell_type": "code",
   "execution_count": null,
   "metadata": {
    "collapsed": true
   },
   "outputs": [],
   "source": []
  }
 ],
 "metadata": {
  "anaconda-cloud": {},
  "kernelspec": {
   "display_name": "Python 3",
   "language": "python",
   "name": "python3"
  },
  "language_info": {
   "codemirror_mode": {
    "name": "ipython",
    "version": 3
   },
   "file_extension": ".py",
   "mimetype": "text/x-python",
   "name": "python",
   "nbconvert_exporter": "python",
   "pygments_lexer": "ipython3",
   "version": "3.7.1"
  }
 },
 "nbformat": 4,
 "nbformat_minor": 1
}

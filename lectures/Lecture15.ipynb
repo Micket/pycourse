{
 "metadata": {
  "name": "",
  "signature": "sha256:477114bd0d88bfd4abeae77d73e6f60dd3c7f361261053eb73d6896419b0548b"
 },
 "nbformat": 3,
 "nbformat_minor": 0,
 "worksheets": [
  {
   "cells": [
    {
     "cell_type": "markdown",
     "metadata": {},
     "source": [
      "Lecture 15 is an example exam."
     ]
    },
    {
     "cell_type": "heading",
     "level": 1,
     "metadata": {},
     "source": [
      "Question 1. Strings and files (5p)"
     ]
    },
    {
     "cell_type": "heading",
     "level": 3,
     "metadata": {},
     "source": [
      "Part A: 3 points"
     ]
    },
    {
     "cell_type": "markdown",
     "metadata": {},
     "source": [
      "Read the file 'multivac.txt' and count the frequency of the words inside.\n",
      "You may treat contractions as single words, but you must consider case and punctuations (points, comma, citationsmarks, colons, dashes).\n",
      "\n",
      "* Which are the 10 most common words?\n",
      "* How many unique words are there?\n",
      "\n",
      "*Hint: Check the 'collections' module*"
     ]
    },
    {
     "cell_type": "heading",
     "level": 5,
     "metadata": {},
     "source": [
      "Solution proposal:"
     ]
    },
    {
     "cell_type": "code",
     "collapsed": false,
     "input": [
      "import collections as c\n",
      "\n",
      "with open('multivac.txt') as f:\n",
      "    text = f.read().lower() # Get the text, in all lower case\n",
      "    # Split the text into words and strip of all the extra characters we want to ignore.\n",
      "    words = [w.strip('\".,:-') for w in text.split()]\n",
      "\n",
      "    counter = c.Counter()\n",
      "    for w in words:\n",
      "        counter[w] += 1\n",
      "\n",
      "print(counter.most_common(10))\n",
      "print(len(counter))"
     ],
     "language": "python",
     "metadata": {},
     "outputs": [
      {
       "output_type": "stream",
       "stream": "stdout",
       "text": [
        "[('the', 240), ('of', 133), ('and', 120), ('a', 103), ('to', 98), ('it', 67), ('in', 60), ('was', 56), ('said', 48), ('all', 48)]\n",
        "1166\n"
       ]
      }
     ],
     "prompt_number": 10
    },
    {
     "cell_type": "heading",
     "level": 3,
     "metadata": {},
     "source": [
      "Part B: 2 points"
     ]
    },
    {
     "cell_type": "markdown",
     "metadata": {},
     "source": [
      "Write a function `pretty_print_values` that prints a dictionary of names + ages in a nicely formatted, indented way (left justified keys, and right justified values) as shown in the example of how it should work:\n",
      "```python\n",
      ">>> x = {'John': 103, 'Robert': 7, 'Ben': 34}\n",
      ">>> pretty_print_values(x)\n",
      "John   : 103\n",
      "Robert :   7\n",
      "Ben    :  34\n",
      "```"
     ]
    },
    {
     "cell_type": "heading",
     "level": 5,
     "metadata": {},
     "source": [
      "Solution proposal:"
     ]
    },
    {
     "cell_type": "code",
     "collapsed": false,
     "input": [
      "def pretty_print_values(people):\n",
      "    # Compute the maximum length for keys and items.\n",
      "    max_name = 0\n",
      "    max_age = 0\n",
      "    for name, age in people.items():\n",
      "        max_name = max(max_name, len(name))\n",
      "        max_age = max(max_age, len(str(age)))\n",
      "\n",
      "    # Now print, with padding (many other options here)\n",
      "    for name, age in people.items():\n",
      "        print(('{: <' + str(max_name) +'} : {: >' + str(max_age) + '}').format(name, age))\n",
      "                \n",
      "x = {'John': 103, 'Robert': 7, 'Ben': 34}\n",
      "pretty_print_values(x)"
     ],
     "language": "python",
     "metadata": {},
     "outputs": [
      {
       "output_type": "stream",
       "stream": "stdout",
       "text": [
        "Robert :   7\n",
        "Ben    :  34\n",
        "John   : 103\n"
       ]
      }
     ],
     "prompt_number": 11
    },
    {
     "cell_type": "heading",
     "level": 1,
     "metadata": {},
     "source": [
      "Question 2. Numpy  (5p)"
     ]
    },
    {
     "cell_type": "markdown",
     "metadata": {},
     "source": [
      "Hastigheten f\u00f6r en kropp (initialt i vila) l\u00e4ngs ett lutande plan i en visk\u00f6s v\u00e4tska kan skrivas som:\n",
      "\n",
      "$$ v(t) = \\frac{m  g}{\\eta}  \\sin(\\theta) \\times \\left(1 - \\exp(- \\frac{\\eta}{m} t) \\right) $$\n",
      "\n",
      "H\u00e4r \u00e4r:\n",
      "- $m$ massan f\u00f6r kroppen\n",
      "- $g$ gravitationsaccelerationen\n",
      "- $\\theta$ lutningen p\u00e5 planet r\u00e4knat fr\u00e5n horisontalplanet\n",
      "- $\\eta$ viskositeten hos v\u00e4tskan\n",
      "\n",
      "\n",
      "I v\u00e5rt exempel ska f\u00f6ljande v\u00e4rden anv\u00e4ndas: $m$ = 1 kg, $g$ = 9.81 m/s\u00b2, $\\theta$ = 60\u00b0, $\\eta$ = 0.05 kg/s\n",
      "\n",
      "I denna uppgift _skall_ NumPy, SciPy och Matplotlib anv\u00e4ndas!\n",
      "\n",
      "a) Vid vilken tidpunkt har kroppen uppn\u00e5tt hastigheten v = v1 = 100 m/s?\n",
      "Tips: anv\u00e4nd l\u00e4mplig rutin fr\u00e5n SciPY f\u00f6r att l\u00f6sa ekvationen v(t) - v1 = 0\n",
      "\n",
      "b) Anv\u00e4nd matplotlib f\u00f6r att plotta v(t) och l\u00f6sningen till a)\n",
      "\n",
      "c) Anv\u00e4nd resultatet fr\u00e5n b) f\u00f6r att uppskatta sluthastigheten (terminal velocity) f\u00f6r kroppen"
     ]
    },
    {
     "cell_type": "heading",
     "level": 5,
     "metadata": {},
     "source": [
      "Solution proposal:"
     ]
    },
    {
     "cell_type": "code",
     "collapsed": false,
     "input": [
      "import numpy as np\n",
      "from scipy.optimize import fsolve\n",
      "import math\n",
      "import matplotlib.pyplot as plt\n",
      "\n",
      "# Definiera konstanter\n",
      "g = 9.81\n",
      "theta = 60 * math.pi / 180\n",
      "m = 1\n",
      "eta = 0.05\n",
      "\n",
      "# Deluppgift a, hitta tiden d\u00e5 v = 100 m/s\n",
      "v1 = 100\n",
      "vf = lambda t : m * g * math.sin(theta) / eta * (1 - np.exp(- eta / m * t)) - v1\n",
      "\n",
      "t_solve = fsolve(vf, x0 = 0.0)\n",
      "ts = t_solve[0]\n",
      "\n",
      "print('V is {} at time {} (check: {})'.format(v1, ts, v1+vf(ts)))\n",
      "\n",
      "\n",
      "# Deluppgift b, plotta\n",
      "t = np.linspace(0, 100, 1000)\n",
      "\n",
      "v = v1 + vf(t)\n",
      "\n",
      "plt.plot(t, v)\n",
      "plt.plot(ts, v1, 'ro')\n",
      "plt.grid()\n",
      "plt.xlabel('time t (s)')\n",
      "plt.ylabel('velovity v (m/s)')\n",
      "plt.show()\n",
      "\n",
      "# Deluppgift c, terminal velocity\n",
      "# Se grafen\n",
      "\n",
      "vt = v1 + vf(ts*1000)\n",
      "print('Terminal velocity:', vt)"
     ],
     "language": "python",
     "metadata": {},
     "outputs": [
      {
       "output_type": "stream",
       "stream": "stdout",
       "text": [
        "V is 100 at time 17.760499212265167 (check: 99.99999999999946)\n",
        "Terminal velocity:"
       ]
      },
      {
       "output_type": "stream",
       "stream": "stdout",
       "text": [
        " 169.914184223\n"
       ]
      }
     ],
     "prompt_number": 6
    },
    {
     "cell_type": "heading",
     "level": 1,
     "metadata": {},
     "source": [
      "Question 3. "
     ]
    },
    {
     "cell_type": "markdown",
     "metadata": {},
     "source": [
      "Using `enumerate()` is very useful for looping, but perhaps we need something a bit more specialized in some applications;\n",
      "Write a class that computes the cumulative sum of the input sequence.\n",
      "\n",
      "Write a class `CumulativeSum` that works as an iterator in a for-loop (see lecture notes for more details on iterators).\n",
      "The iterator should use the generate new values as needed (whenever next() is called).\n",
      "\n",
      "\n",
      "Example output of your program should be:\n",
      "```python\n",
      ">>> xlist = [3, 10, 3, 5, 7]\n",
      ">>> for s, x in CumulativeSum(xlist, 100): # 100 is the initial value for the sum!\n",
      ">>>     print(s, x)\n",
      "103 3\n",
      "113 10\n",
      "116 3\n",
      "121 5\n",
      "128 7\n",
      "```"
     ]
    },
    {
     "cell_type": "heading",
     "level": 5,
     "metadata": {},
     "source": [
      "Solution proposal:"
     ]
    },
    {
     "cell_type": "code",
     "collapsed": false,
     "input": [
      "class CumulativeSum:\n",
      "    def __init__(self, values, initial):\n",
      "        self.values = values\n",
      "        self.initial = initial\n",
      "    \n",
      "    def __iter__(self):\n",
      "        # When iter is called, we use another iterator to wrap it inside:.\n",
      "        class CumulativeSumIterator:\n",
      "            def __init__(self, it, initial):\n",
      "                self.it = it\n",
      "                self.s = initial\n",
      "            \n",
      "            def __next__(self):\n",
      "                val = next(self.it)\n",
      "                self.s += val\n",
      "                return (self.s, val)\n",
      "\n",
      "        return CumulativeSumIterator(iter(self.values), self.initial)\n",
      "\n",
      "# Test it out:\n",
      "xlist = [3, 10, 3, 5, 7]\n",
      "for s, x in CumulativeSum(xlist, 100):\n",
      "    print(s, x)"
     ],
     "language": "python",
     "metadata": {},
     "outputs": [
      {
       "output_type": "stream",
       "stream": "stdout",
       "text": [
        "103 3\n",
        "113 10\n",
        "116 3\n",
        "121 5\n",
        "128 7\n"
       ]
      }
     ],
     "prompt_number": 50
    },
    {
     "cell_type": "heading",
     "level": 1,
     "metadata": {},
     "source": [
      "Question 4. (6p)"
     ]
    },
    {
     "cell_type": "markdown",
     "metadata": {},
     "source": [
      "A *Trie* is a type of tree structure that define word lists hierarchically.\n",
      "This is useful for when you, for example, want to auto-complete a word based on it's first few letters.\n",
      "\n",
      "Write a class that stores many words in this heirarchical way, so that you have easy access to word suggestions by asking for \"ju\"\n",
      "you get \"just\", \"justice\", \"justifiability\". Call this class WordNode\n",
      "\n",
      "Example usage:\n",
      "```python\n",
      "wordlist = ['a', 'to', 'tea', 'ted', 'ten', 'i', 'in', 'inn']\n",
      "wordtrie = WordNode()\n",
      "for word in wordlist:\n",
      "    wordtrie.add_word(word)\n",
      "\n",
      "suggestions = wordtrie.begin_with('te')\n",
      "\n",
      "print(suggestions)\n",
      "```\n",
      "should print `['tea', 'ted', 'ten']` (not necessarily in this order). Calling `wordtrie.begin_with('')` should match all words.\n",
      "\n",
      "The wordlist above would look like (ignore the stored values, which are not necessary for our dictionary application)\n",
      "<img src='Trie_example.png'>\n",
      "\n",
      "Test also against a more wordlist like `['to', 'eternal', 'tear', 'ted', 'teen', 'tee', 'end']` which when searching for `'te'` should match `['tear', 'ted', 'teen', 'tee']`.\n",
      "\n",
      "\n",
      "Highly recommended to start the class with\n",
      "```python\n",
      "import collections\n",
      "class WordNode:\n",
      "    def __init__(self):\n",
      "        # Dictionary of sub-WordNodes for the words that continue on\n",
      "        self.children = collections.defaultdict(WordNode)\n",
      "        # And a separate list for the words that end in this node\n",
      "        self.words = []\n",
      "```\n",
      "and add the 'add_word' and 'begins_with' methods.\n",
      "(defaultdict just creates entries by calling WordNode() when needed)"
     ]
    },
    {
     "cell_type": "heading",
     "level": 5,
     "metadata": {},
     "source": [
      "Solution proposal:"
     ]
    },
    {
     "cell_type": "code",
     "collapsed": false,
     "input": [
      "class WordNode:\n",
      "    def __init__(self):\n",
      "        self.children = defaultdict(WordNode) # For the words that continue\n",
      "        self.words = [] # For the words that end in this node (their last letter stored here)\n",
      "    \n",
      "    def add_word(self, word):\n",
      "        if len(word) == 1:\n",
      "            self.words.append(word)\n",
      "        elif len(word) > 0:\n",
      "            self.children[word[0]].add_word(word[1:])\n",
      "\n",
      "    def begins_with(self, prefix):\n",
      "        if len(prefix) == 0:\n",
      "            return self.all_words()\n",
      "        elif prefix[0] in self.children:\n",
      "            # Find the suitable sub-node:\n",
      "            child = self.children[prefix[0]]\n",
      "            # and get all it's strings:\n",
      "            substrs = child.begins_with(prefix[1:])\n",
      "            # and append the prefix letter to them:\n",
      "            return [prefix[0] + c for c in substrs]\n",
      "        else: # No match!\n",
      "            return []\n",
      "\n",
      "    def all_words(self):\n",
      "        # Fetch all words contained from this node (and deeper):\n",
      "        words = []\n",
      "        for letter, node in self.children.items():\n",
      "            words += [letter + w for w in node.all_words()]\n",
      "        # and lets not forget the words that ended in this node:\n",
      "        words += self.words\n",
      "        return words\n",
      "\n",
      "# Test it out:\n",
      "wordlist = [\"to\", \"eternal\", \"tea\", \"teds\", \"teen\", \"tee\", \"end\"]\n",
      "wordtrie = WordNode()\n",
      "for word in wordlist:\n",
      "    wordtrie.add_word(word)\n",
      "\n",
      "suggestions = wordtrie.begins_with(\"te\")\n",
      "print(suggestions)"
     ],
     "language": "python",
     "metadata": {},
     "outputs": [
      {
       "output_type": "stream",
       "stream": "stdout",
       "text": [
        "['teen', 'teds', 'tea', 'tee']\n"
       ]
      }
     ],
     "prompt_number": 169
    },
    {
     "cell_type": "heading",
     "level": 1,
     "metadata": {},
     "source": [
      "Question 5. (5p)"
     ]
    },
    {
     "cell_type": "markdown",
     "metadata": {},
     "source": [
      "Write a *Logger* class. *Logger* should be a base class that defines a set of abstract methods:\n",
      "* `warning`\n",
      "* `error`\n",
      "* `print_summary`\n",
      "and have access to (at least) these instance variables:\n",
      "* `number_of_errors`\n",
      "* `number_of_warnings`\n",
      "that counts each occurance of an error/warning.\n",
      "\n",
      "Write two classes `FileLogger` (which writes the output to the filename given in the constructor) and `ConsoleLogger` (which prints the output in the console with suitable output)."
     ]
    },
    {
     "cell_type": "heading",
     "level": 5,
     "metadata": {},
     "source": [
      "Solution proposal:"
     ]
    },
    {
     "cell_type": "code",
     "collapsed": false,
     "input": [
      "class Logger:\n",
      "    def __init__(self):\n",
      "        number_of_errors = 0\n",
      "        number_of_warnings = 0\n",
      "\n",
      "    def warning(self, message):\n",
      "        raise NotImplementedError(\"warning message support not implemented\")\n",
      "    \n",
      "    def error(self, message):\n",
      "        raise NotImplementedError(\"error message support not implemented\")\n",
      "        \n",
      "    def print_summary(self):\n",
      "        raise NotImplementedError(\"print_summary not implemented\")\n",
      "\n",
      "def ConsoleLogger(Logger):\n",
      "    def __init__(self):\n",
      "        super().__init__()\n",
      "\n",
      "    def warning(self, message):\n",
      "        print('Error occured:\\n' + message + '\\n' + '-'*10)\n",
      "    \n",
      "    def warning(self, message):\n",
      "        print('Warning:\\n' + message + '\\n' + '-'*10)\n",
      "        \n",
      "    def print_summary(self):\n",
      "        print('Number of errors: {}\\n Number of warnings: {}'.format(number_of_errors, number_of_warnings))\n",
      "\n",
      "def FileLogger(Logger):\n",
      "    def __init__(self):\n",
      "        super().__init__()\n",
      "\n",
      "        etc"
     ],
     "language": "python",
     "metadata": {},
     "outputs": [],
     "prompt_number": 13
    }
   ],
   "metadata": {}
  }
 ]
}
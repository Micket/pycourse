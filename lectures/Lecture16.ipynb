{
 "metadata": {
  "name": "",
  "signature": "sha256:2d5ade6c3ec04fcfae4882afc6bfc6051dacc52e39329b98b2ad2162a7a85a13"
 },
 "nbformat": 3,
 "nbformat_minor": 0,
 "worksheets": [
  {
   "cells": [
    {
     "cell_type": "markdown",
     "metadata": {},
     "source": [
      "Lecture 16: Repetition and outlook"
     ]
    },
    {
     "cell_type": "heading",
     "level": 1,
     "metadata": {},
     "source": [
      "Repetition"
     ]
    },
    {
     "cell_type": "markdown",
     "metadata": {},
     "source": [
      "I received no specific questions from anyone, so I will just mention the things I think are relevant!"
     ]
    },
    {
     "cell_type": "heading",
     "level": 2,
     "metadata": {},
     "source": [
      "References"
     ]
    },
    {
     "cell_type": "markdown",
     "metadata": {},
     "source": [
      "Remember how references work!\n",
      "\n",
      "Why is\n",
      "```python\n",
      "x += [4, 5]\n",
      "```\n",
      "not the same as\n",
      "```python\n",
      "x = x + [4, 5]\n",
      "```"
     ]
    },
    {
     "cell_type": "code",
     "collapsed": false,
     "input": [
      "x = [1,2,3]\n",
      "y = x\n",
      "x += [4, 5]\n",
      "print(y)"
     ],
     "language": "python",
     "metadata": {},
     "outputs": [
      {
       "output_type": "stream",
       "stream": "stdout",
       "text": [
        "[1, 2, 3, 4, 5]\n"
       ]
      }
     ],
     "prompt_number": 7
    },
    {
     "cell_type": "code",
     "collapsed": false,
     "input": [
      "x = [1,2,3]\n",
      "y = x\n",
      "x = x + [4, 5]\n",
      "print(y)"
     ],
     "language": "python",
     "metadata": {},
     "outputs": [
      {
       "output_type": "stream",
       "stream": "stdout",
       "text": [
        "[1, 2, 3]\n"
       ]
      }
     ],
     "prompt_number": 8
    },
    {
     "cell_type": "markdown",
     "metadata": {},
     "source": [
      "Know the difference when a function should *modify* the input data, or when it should *return a modified copy*. For example, a method that modifies values in place might look like:"
     ]
    },
    {
     "cell_type": "code",
     "collapsed": false,
     "input": [
      "def increment_one(values):\n",
      "    for i in range(len(values)):\n",
      "        values[i] += 1"
     ],
     "language": "python",
     "metadata": {},
     "outputs": [],
     "prompt_number": 43
    },
    {
     "cell_type": "heading",
     "level": 2,
     "metadata": {},
     "source": [
      "Immutable types"
     ]
    },
    {
     "cell_type": "markdown",
     "metadata": {},
     "source": [
      "Remember that some types are immutable. Tuples and strings are fixed (though, the object they point at can change internally).\n",
      "To modify them, you have to copy."
     ]
    },
    {
     "cell_type": "heading",
     "level": 2,
     "metadata": {},
     "source": [
      "List, set, and dictionary"
     ]
    },
    {
     "cell_type": "markdown",
     "metadata": {},
     "source": [
      "Many of you have used list comprehensions in the labs so far. It might have been something along the lines of:"
     ]
    },
    {
     "cell_type": "code",
     "collapsed": false,
     "input": [
      "x = [a**2 for a in range(-5, 5)]\n",
      "print(x)"
     ],
     "language": "python",
     "metadata": {},
     "outputs": [
      {
       "output_type": "stream",
       "stream": "stdout",
       "text": [
        "[25, 16, 9, 4, 1, 0, 1, 4, 9, 16]\n"
       ]
      }
     ],
     "prompt_number": 20
    },
    {
     "cell_type": "markdown",
     "metadata": {},
     "source": [
      "The same can be done for sets (remember, sets store only unique values):"
     ]
    },
    {
     "cell_type": "code",
     "collapsed": false,
     "input": [
      "x = {a**2 for a in range(-5,5)}\n",
      "print(x)"
     ],
     "language": "python",
     "metadata": {},
     "outputs": [
      {
       "output_type": "stream",
       "stream": "stdout",
       "text": [
        "{0, 1, 4, 9, 16, 25}\n"
       ]
      }
     ],
     "prompt_number": 29
    },
    {
     "cell_type": "markdown",
     "metadata": {},
     "source": [
      "and dictionaries:"
     ]
    },
    {
     "cell_type": "code",
     "collapsed": false,
     "input": [
      "x = {a:a**2 for a in range(-5, 5)}\n",
      "print(x)"
     ],
     "language": "python",
     "metadata": {},
     "outputs": [
      {
       "output_type": "stream",
       "stream": "stdout",
       "text": [
        "{0: 0, 1: 1, 2: 4, 3: 9, 4: 16, -2: 4, -5: 25, -4: 16, -3: 9, -1: 1}\n"
       ]
      }
     ],
     "prompt_number": 39
    },
    {
     "cell_type": "markdown",
     "metadata": {},
     "source": [
      "When is it good idea to use dictionaries or sets?"
     ]
    },
    {
     "cell_type": "heading",
     "level": 3,
     "metadata": {},
     "source": [
      "Indexing (and slicing)"
     ]
    },
    {
     "cell_type": "markdown",
     "metadata": {},
     "source": [
      "In lists (strings, sets, tuples) we can give slices and indices. See lecture 2 and 3. Know how to work negative indices. Know the difference when indexing inside NumPy-arrays and lists."
     ]
    },
    {
     "cell_type": "heading",
     "level": 2,
     "metadata": {},
     "source": [
      "The less common operators"
     ]
    },
    {
     "cell_type": "markdown",
     "metadata": {},
     "source": [
      "Make sure to know what the modulus operator (%) does. You should also be aware of the integer division (//)."
     ]
    },
    {
     "cell_type": "heading",
     "level": 2,
     "metadata": {},
     "source": [
      "Reading error messages"
     ]
    },
    {
     "cell_type": "heading",
     "level": 3,
     "metadata": {},
     "source": [
      "Example 1"
     ]
    },
    {
     "cell_type": "markdown",
     "metadata": {},
     "source": [
      "What has gone wrong when you get:\n",
      "\n",
      "`AttributeError: 'list' object has no attribute 'add_card'`\n",
      "    \n",
      "It should be immediately clear what has caused this.\n",
      "* Is the problem that `list` is missing a method we expect it to have? No, of course, good old `list` doesn't know anything about cards.\n",
      "* Did we use the wrong method on our `list`? Very unlikely that we would confuse `list`s `append` with `add_card`.\n",
      "* Did we call the method `add_card` on the wrong variable? Yes, that must be it.\n",
      "\n",
      "Looking at the offending line, we might find:\n",
      "```python\n",
      "player.hand.cards.add_card(c)\n",
      "```\n",
      "where we meant to do\n",
      "```python\n",
      "player.hand.add_card(c)\n",
      "```\n",
      "i.e., calling our own `add_card` method on our own class `Hand`."
     ]
    },
    {
     "cell_type": "heading",
     "level": 3,
     "metadata": {},
     "source": [
      "Example 2"
     ]
    },
    {
     "cell_type": "markdown",
     "metadata": {},
     "source": [
      "In another case, we might get:\n",
      "`AttributeError: 'tuple' object has no attribute 'sort'`\n",
      "and looking at the offending line, we might find:\n",
      "```python\n",
      "poker_hands.sort()\n",
      "winning_hand = poker_hands[0]\n",
      "```\n",
      "* Did we call the method `sort` on the wrong variable? No, it seems correct.\n",
      "* Did we use the wrong method on our `tuple`? No, sorting seems like a suitable action from the context.\n",
      "* Is the problem that `tuple` is missing a method we expect it to have? Yes. Tuples are immutable, and cannot be modified in-place with a `sort`.\n",
      "We should look at where we assign `poker_hands` and ensure that it is a list, and not a `tuple`, if we wish to modify it."
     ]
    },
    {
     "cell_type": "heading",
     "level": 2,
     "metadata": {},
     "source": [
      "Exceptions"
     ]
    },
    {
     "cell_type": "markdown",
     "metadata": {},
     "source": [
      "You should know how to use **raise**, **try**, **except**. Review the previous lecture on lectures if you are unsure!"
     ]
    },
    {
     "cell_type": "heading",
     "level": 2,
     "metadata": {},
     "source": [
      "Files"
     ]
    },
    {
     "cell_type": "markdown",
     "metadata": {},
     "source": [
      "Know to close files that you have opened! Prefer using `with open(filename) as f` whenever possible.\n",
      "\n",
      "Leaving this out might actually **deduct points**, if the question focused on reading the contents of a file."
     ]
    },
    {
     "cell_type": "heading",
     "level": 2,
     "metadata": {},
     "source": [
      "Lambda functions"
     ]
    },
    {
     "cell_type": "code",
     "collapsed": false,
     "input": [
      "x = lambda a, b: a+b**a\n",
      "print(x(3, 4))"
     ],
     "language": "python",
     "metadata": {},
     "outputs": [
      {
       "output_type": "stream",
       "stream": "stdout",
       "text": [
        "67\n"
       ]
      }
     ],
     "prompt_number": 42
    },
    {
     "cell_type": "heading",
     "level": 2,
     "metadata": {},
     "source": [
      "Classes"
     ]
    },
    {
     "cell_type": "markdown",
     "metadata": {},
     "source": [
      "Know when you should\n",
      "* Inherit from a class or keep an instance variable of another class (is B an A? or is does B have an A?)\n",
      "* When static methods apply\n",
      "* When to use static (class) variables\n",
      "* When to make a base class\n",
      "* When to overload an abstract method (when you extend)\n",
      "\n",
      "Also, an empty list is not the default variable assignment. E.g."
     ]
    },
    {
     "cell_type": "code",
     "collapsed": false,
     "input": [
      "class Person:\n",
      "    def __init__(self):\n",
      "        # We don't know the name yet!\n",
      "        self.name = []\n",
      "        self.age = 0\n",
      "    \n",
      "    def choose_name(self, name):\n",
      "        self.name = name\n",
      "    \n",
      "    def have_birthday(self):\n",
      "        self.age += 1"
     ],
     "language": "python",
     "metadata": {},
     "outputs": [],
     "prompt_number": 38
    },
    {
     "cell_type": "markdown",
     "metadata": {},
     "source": [
      "is just wrong. The name isn't a list, and having it be a list at first, and then (presumeably) change it to a string later makes no sense.\n",
      "\n",
      "Use an empty string; `self.name = ''`, or if no sensible default value exists:\n",
      "1. Rethink your strategy. It really seems like the parameter should somehow be sent to the constructor directly.\n",
      "2. If nothing else, use the `None` value, which better represents the intent of the code."
     ]
    },
    {
     "cell_type": "heading",
     "level": 2,
     "metadata": {},
     "source": [
      "Name the variables in a sensible way"
     ]
    },
    {
     "cell_type": "markdown",
     "metadata": {},
     "source": [
      "Please stick to \n",
      "* english!\n",
      "* `function_names_like_this` (variables also)\n",
      "* `ClassesLikeThis`\n",
      "\n",
      "You are writing code that other should read to. Showing intent (and code style certainly shows intent) is the best thing you can do to help others understand your code."
     ]
    },
    {
     "cell_type": "heading",
     "level": 2,
     "metadata": {},
     "source": [
      "Help"
     ]
    },
    {
     "cell_type": "markdown",
     "metadata": {},
     "source": [
      "Remember the `help` function in the python terminal! It's a convenient way to access information.\n",
      "\n",
      "Tab-completion isn't always perfect in PyCharm (though, most of the time, it's great). Running examples in the ipython console is always perfect w.r.t completion, and is a useful tool for rapid coding."
     ]
    },
    {
     "cell_type": "heading",
     "level": 1,
     "metadata": {},
     "source": [
      "Outlook"
     ]
    },
    {
     "cell_type": "markdown",
     "metadata": {},
     "source": [
      "What should you learn next to be a profficient programmer?\n",
      "\n",
      "1. Version control system: Absolutely essential for all programmers. I would have covered it in the course if not for the lack of time. You should *definitely* learn **git** (with **github.com**). \n",
      "2. Learn a statically typed (and compiled) language: C++, Java, C#, Go\n",
      "\n",
      "You should also learn a functional language (like Haskell or Scheme) for something completely different.\n",
      "\n",
      "What do you want to use programming for? Depending on what you want:\n",
      "1. Web programming: Check out Django\n",
      "2. Parallel programming: Check out the course \"High performance computing\" (H\u00f6gprestandaber\u00e4kning)\n",
      "3. Bigger, more advanced GUIs: Check out Qt designer (WYSIWYG editor for GUI layouts).\n",
      "\n",
      "\n",
      "Finding a small open source project and contributing is a very good practice."
     ]
    },
    {
     "cell_type": "code",
     "collapsed": false,
     "input": [],
     "language": "python",
     "metadata": {},
     "outputs": []
    }
   ],
   "metadata": {}
  }
 ]
}
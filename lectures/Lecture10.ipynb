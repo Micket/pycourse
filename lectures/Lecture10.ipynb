{
 "cells": [
  {
   "cell_type": "markdown",
   "metadata": {},
   "source": [
    "Lecture 10 will cover exceptions, decorators\n",
    "\n",
    "Reference\n",
    " * [2] Section 9.8-9.10"
   ]
  },
  {
   "cell_type": "markdown",
   "metadata": {},
   "source": [
    "# Static methods"
   ]
  },
  {
   "cell_type": "markdown",
   "metadata": {},
   "source": [
    "Static methods are methods that don't require the object itself.\n",
    "\n",
    "Why are these needed?\n",
    "\n",
    "Usually helper functions that \"belong\" to the class itself (i.e. are independent of actual instances)"
   ]
  },
  {
   "cell_type": "code",
   "execution_count": 1,
   "metadata": {},
   "outputs": [],
   "source": [
    "from numpy.linalg import norm\n",
    "\n",
    "class Car:\n",
    "    america = True\n",
    "\n",
    "    @staticmethod\n",
    "    def kph2mph(speed):\n",
    "        return speed / 1.60934\n",
    "\n",
    "    def __init__(self, model, plate, vel):\n",
    "        self.model = model\n",
    "        self.velocity = vel\n",
    "\n",
    "    def __str__(self):\n",
    "        speed = norm(self.velocity)\n",
    "        if self.america:\n",
    "            speed = self.kph2mph(speed)\n",
    "        return \"Model:\" + self.model + \" going at \" + str(speed)"
   ]
  },
  {
   "cell_type": "code",
   "execution_count": 2,
   "metadata": {},
   "outputs": [
    {
     "name": "stdout",
     "output_type": "stream",
     "text": [
      "Model:saab going at 86.99218313097295\n"
     ]
    }
   ],
   "source": [
    "car1 = Car(\"saab\", \"XZ123\", 140)\n",
    "print(car1)"
   ]
  },
  {
   "cell_type": "code",
   "execution_count": 3,
   "metadata": {},
   "outputs": [
    {
     "data": {
      "text/plain": [
       "86.99218313097295"
      ]
     },
     "execution_count": 3,
     "metadata": {},
     "output_type": "execute_result"
    }
   ],
   "source": [
    "Car.kph2mph(140)"
   ]
  },
  {
   "cell_type": "markdown",
   "metadata": {},
   "source": [
    "# Decorators"
   ]
  },
  {
   "cell_type": "markdown",
   "metadata": {},
   "source": [
    "We've seen two uses of decorators already:\n",
    "\n",
    "```python\n",
    "    @staticmethod\n",
    "    def kph2mph(speed):\n",
    "        return speed / 1.60934\n",
    "        \n",
    "    @abc.abstractmethod\n",
    "    def calories(self):\n",
    "        \"\"\" Returns the number of calories in the pizza \"\"\"\n",
    "```"
   ]
  },
  {
   "cell_type": "markdown",
   "metadata": {},
   "source": [
    "In the broadest terms, decorators modify functionality. The code using `@`:\n",
    "```python\n",
    "@my_decorator\n",
    "def my_function():\n",
    "    return compute_stuff()\n",
    "```\n",
    "is basically the same as doing:\n",
    "```python\n",
    "def my_function():\n",
    "    return compute_stuff()\n",
    "my_function = my_decorator(my_function)\n",
    "```"
   ]
  },
  {
   "cell_type": "markdown",
   "metadata": {},
   "source": [
    "We can make a silly example of what it could do:"
   ]
  },
  {
   "cell_type": "code",
   "execution_count": 25,
   "metadata": {},
   "outputs": [],
   "source": [
    "class always_print_hello:\n",
    "    def __init__(self, f):\n",
    "        self.f = f\n",
    "\n",
    "    def __call__(self, x):\n",
    "        print(\"Hello!\")\n",
    "        return self.f(x)"
   ]
  },
  {
   "cell_type": "code",
   "execution_count": 26,
   "metadata": {},
   "outputs": [
    {
     "name": "stdout",
     "output_type": "stream",
     "text": [
      "Hello!\n",
      "10\n"
     ]
    }
   ],
   "source": [
    "def my_function(x):\n",
    "    return x+7\n",
    "\n",
    "my_function = always_print_hello(my_function)\n",
    "print(my_function(3))"
   ]
  },
  {
   "cell_type": "markdown",
   "metadata": {},
   "source": [
    "The usefulness of decorators are perhaps not immeditaly obvious. But with some ingenuity they can be used to enrich the language itself. For example, enforcing an IntEnum to be unique:"
   ]
  },
  {
   "cell_type": "code",
   "execution_count": 3,
   "metadata": {},
   "outputs": [
    {
     "ename": "ValueError",
     "evalue": "duplicate values found in <enum 'GameState2'>: paused -> ended",
     "output_type": "error",
     "traceback": [
      "\u001b[0;31m---------------------------------------------------------------------------\u001b[0m",
      "\u001b[0;31mValueError\u001b[0m                                Traceback (most recent call last)",
      "\u001b[0;32m<ipython-input-3-3c96af22f8f2>\u001b[0m in \u001b[0;36m<module>\u001b[0;34m\u001b[0m\n\u001b[1;32m      1\u001b[0m \u001b[0;32mimport\u001b[0m \u001b[0menum\u001b[0m\u001b[0;34m\u001b[0m\u001b[0;34m\u001b[0m\u001b[0m\n\u001b[1;32m      2\u001b[0m \u001b[0;34m@\u001b[0m\u001b[0menum\u001b[0m\u001b[0;34m.\u001b[0m\u001b[0munique\u001b[0m\u001b[0;34m\u001b[0m\u001b[0;34m\u001b[0m\u001b[0m\n\u001b[0;32m----> 3\u001b[0;31m \u001b[0;32mclass\u001b[0m \u001b[0mGameState2\u001b[0m\u001b[0;34m(\u001b[0m\u001b[0menum\u001b[0m\u001b[0;34m.\u001b[0m\u001b[0mIntEnum\u001b[0m\u001b[0;34m)\u001b[0m\u001b[0;34m:\u001b[0m\u001b[0;34m\u001b[0m\u001b[0;34m\u001b[0m\u001b[0m\n\u001b[0m\u001b[1;32m      4\u001b[0m     \u001b[0mnot_started\u001b[0m \u001b[0;34m=\u001b[0m \u001b[0;36m0\u001b[0m\u001b[0;34m\u001b[0m\u001b[0;34m\u001b[0m\u001b[0m\n\u001b[1;32m      5\u001b[0m     \u001b[0mstarted\u001b[0m \u001b[0;34m=\u001b[0m \u001b[0;36m1\u001b[0m\u001b[0;34m\u001b[0m\u001b[0;34m\u001b[0m\u001b[0m\n",
      "\u001b[0;32m~/anaconda3/lib/python3.7/enum.py\u001b[0m in \u001b[0;36munique\u001b[0;34m(enumeration)\u001b[0m\n\u001b[1;32m    846\u001b[0m                 [\"%s -> %s\" % (alias, name) for (alias, name) in duplicates])\n\u001b[1;32m    847\u001b[0m         raise ValueError('duplicate values found in %r: %s' %\n\u001b[0;32m--> 848\u001b[0;31m                 (enumeration, alias_details))\n\u001b[0m\u001b[1;32m    849\u001b[0m     \u001b[0;32mreturn\u001b[0m \u001b[0menumeration\u001b[0m\u001b[0;34m\u001b[0m\u001b[0;34m\u001b[0m\u001b[0m\n\u001b[1;32m    850\u001b[0m \u001b[0;34m\u001b[0m\u001b[0m\n",
      "\u001b[0;31mValueError\u001b[0m: duplicate values found in <enum 'GameState2'>: paused -> ended"
     ]
    }
   ],
   "source": [
    "import enum\n",
    "@enum.unique\n",
    "class GameState2(enum.IntEnum):\n",
    "    not_started = 0\n",
    "    started = 1\n",
    "    ended = 2\n",
    "    paused = 2 # Opps"
   ]
  },
  {
   "cell_type": "markdown",
   "metadata": {},
   "source": [
    "You will not be required to write any decorators on the exam, though you should know about `@staticmethod` and `@abc.abstractmethod` and how these are used.\n",
    "Abstract and static methods are re-occuring themes in object oriented languages, though they might be expressed differently (i.e. using different syntax) in different languages.\n",
    "\n",
    "Other uses of decorators are more unique \"language quirks\", and excessive use just makes the code hard to understand, so don't go crazy with them!"
   ]
  },
  {
   "cell_type": "markdown",
   "metadata": {},
   "source": [
    "# Error handling"
   ]
  },
  {
   "cell_type": "markdown",
   "metadata": {},
   "source": [
    "When dealing with user input (or even programmer input, in the example above), errors are inevitable.\n",
    "We can't always know if a given piece of code will always work (i.e. cause an error on certain user inputs)\n",
    "\n",
    "The way to deal with this is to *try* to execute segments, and deal with the errors if they occur:"
   ]
  },
  {
   "cell_type": "code",
   "execution_count": 6,
   "metadata": {},
   "outputs": [
    {
     "name": "stdout",
     "output_type": "stream",
     "text": [
      "0.5\n",
      "1.0\n",
      "inf\n"
     ]
    }
   ],
   "source": [
    "for x in range(2,-1,-1):\n",
    "    try:\n",
    "        print(1.0 / x)\n",
    "    except:\n",
    "        print(\"inf\")"
   ]
  },
  {
   "cell_type": "markdown",
   "metadata": {},
   "source": [
    "Though, we probably want to check *what* error occured, and deal with each specifically"
   ]
  },
  {
   "cell_type": "code",
   "execution_count": 7,
   "metadata": {},
   "outputs": [
    {
     "name": "stdout",
     "output_type": "stream",
     "text": [
      "inf\n",
      "inf\n",
      "inf\n"
     ]
    }
   ],
   "source": [
    "for x in range(2,-1,-1):\n",
    "    try:\n",
    "        print(1.0 / y) # Opps, wrong variable, not defined\n",
    "    except:\n",
    "        print(\"inf\") # Not correct for this error"
   ]
  },
  {
   "cell_type": "code",
   "execution_count": 8,
   "metadata": {},
   "outputs": [
    {
     "name": "stdout",
     "output_type": "stream",
     "text": [
      "0.5\n",
      "1.0\n",
      "inf\n"
     ]
    }
   ],
   "source": [
    "for x in range(2,-1,-1):\n",
    "    try:\n",
    "        print(1.0 / x) # Opps, wrong variable, not defined\n",
    "    except ZeroDivisionError:\n",
    "        print(\"inf\")"
   ]
  },
  {
   "cell_type": "code",
   "execution_count": 13,
   "metadata": {},
   "outputs": [
    {
     "name": "stdout",
     "output_type": "stream",
     "text": [
      "oor\n",
      "oor\n",
      "oor\n",
      "oor\n",
      "oor\n",
      "4\n",
      "3\n",
      "2\n",
      "1\n"
     ]
    }
   ],
   "source": [
    "stuff = [1,2,3,4]\n",
    "for x in range(8,-1,-1):\n",
    "    try:\n",
    "        print(stuff[x])\n",
    "    except IndexError:\n",
    "        print(\"oor\")\n",
    "    except NameError:\n",
    "        print(\"Wrong symbol!\")"
   ]
  },
  {
   "cell_type": "markdown",
   "metadata": {},
   "source": [
    "This is why broadly catching all errors are very bad form. Don't do it!"
   ]
  },
  {
   "cell_type": "markdown",
   "metadata": {},
   "source": [
    "### Using \"as\" to obtain info from errors"
   ]
  },
  {
   "cell_type": "code",
   "execution_count": 64,
   "metadata": {},
   "outputs": [
    {
     "name": "stdout",
     "output_type": "stream",
     "text": [
      "2\n"
     ]
    }
   ],
   "source": [
    "import sys\n",
    "\n",
    "try:\n",
    "    f = open('filename.txt')\n",
    "    s = f.readline()\n",
    "    i = int(s.strip())\n",
    "except FileNotFoundError as e:\n",
    "    print(e.errno)"
   ]
  },
  {
   "cell_type": "markdown",
   "metadata": {},
   "source": [
    "Useful for cases where an exception might carry some useful information for how to proceed with the exception handling.\n",
    "For example, when trying to remove a temporary file, we might get an IO error, but the error number might be indicating that the error was due to the file already being deleted (which we can just safely ignore), while some other error code (e.g. wrong permissions) might be more problematic."
   ]
  },
  {
   "cell_type": "markdown",
   "metadata": {},
   "source": [
    "### Finally and else"
   ]
  },
  {
   "cell_type": "code",
   "execution_count": 37,
   "metadata": {},
   "outputs": [],
   "source": [
    "def f(x, y):\n",
    "    return divide(x, y) * y\n",
    "\n",
    "def divide(x, y):\n",
    "    f = x/y\n",
    "    try:\n",
    "        result = x / y\n",
    "    except ZeroDivisionError:\n",
    "        print(\"division by zero!\")\n",
    "    else:\n",
    "        # Will run if we don't have an exception first:\n",
    "        print(\"result is\", result)\n",
    "    finally:\n",
    "        # This will always be executed last\n",
    "        print(\"executing finally clause\")"
   ]
  },
  {
   "cell_type": "code",
   "execution_count": 38,
   "metadata": {},
   "outputs": [
    {
     "ename": "ZeroDivisionError",
     "evalue": "division by zero",
     "output_type": "error",
     "traceback": [
      "\u001b[0;31m---------------------------------------------------------------------------\u001b[0m",
      "\u001b[0;31mZeroDivisionError\u001b[0m                         Traceback (most recent call last)",
      "\u001b[0;32m<ipython-input-38-2fb0e490a4c9>\u001b[0m in \u001b[0;36m<module>\u001b[0;34m\u001b[0m\n\u001b[0;32m----> 1\u001b[0;31m \u001b[0mf\u001b[0m\u001b[0;34m(\u001b[0m\u001b[0;36m0\u001b[0m\u001b[0;34m,\u001b[0m\u001b[0;36m0\u001b[0m\u001b[0;34m)\u001b[0m\u001b[0;34m\u001b[0m\u001b[0;34m\u001b[0m\u001b[0m\n\u001b[0m",
      "\u001b[0;32m<ipython-input-37-2357f89c6933>\u001b[0m in \u001b[0;36mf\u001b[0;34m(x, y)\u001b[0m\n\u001b[1;32m      1\u001b[0m \u001b[0;32mdef\u001b[0m \u001b[0mf\u001b[0m\u001b[0;34m(\u001b[0m\u001b[0mx\u001b[0m\u001b[0;34m,\u001b[0m \u001b[0my\u001b[0m\u001b[0;34m)\u001b[0m\u001b[0;34m:\u001b[0m\u001b[0;34m\u001b[0m\u001b[0;34m\u001b[0m\u001b[0m\n\u001b[0;32m----> 2\u001b[0;31m     \u001b[0;32mreturn\u001b[0m \u001b[0mdivide\u001b[0m\u001b[0;34m(\u001b[0m\u001b[0mx\u001b[0m\u001b[0;34m,\u001b[0m \u001b[0my\u001b[0m\u001b[0;34m)\u001b[0m \u001b[0;34m*\u001b[0m \u001b[0my\u001b[0m\u001b[0;34m\u001b[0m\u001b[0;34m\u001b[0m\u001b[0m\n\u001b[0m\u001b[1;32m      3\u001b[0m \u001b[0;34m\u001b[0m\u001b[0m\n\u001b[1;32m      4\u001b[0m \u001b[0;32mdef\u001b[0m \u001b[0mdivide\u001b[0m\u001b[0;34m(\u001b[0m\u001b[0mx\u001b[0m\u001b[0;34m,\u001b[0m \u001b[0my\u001b[0m\u001b[0;34m)\u001b[0m\u001b[0;34m:\u001b[0m\u001b[0;34m\u001b[0m\u001b[0;34m\u001b[0m\u001b[0m\n\u001b[1;32m      5\u001b[0m     \u001b[0mf\u001b[0m \u001b[0;34m=\u001b[0m \u001b[0mx\u001b[0m\u001b[0;34m/\u001b[0m\u001b[0my\u001b[0m\u001b[0;34m\u001b[0m\u001b[0;34m\u001b[0m\u001b[0m\n",
      "\u001b[0;32m<ipython-input-37-2357f89c6933>\u001b[0m in \u001b[0;36mdivide\u001b[0;34m(x, y)\u001b[0m\n\u001b[1;32m      3\u001b[0m \u001b[0;34m\u001b[0m\u001b[0m\n\u001b[1;32m      4\u001b[0m \u001b[0;32mdef\u001b[0m \u001b[0mdivide\u001b[0m\u001b[0;34m(\u001b[0m\u001b[0mx\u001b[0m\u001b[0;34m,\u001b[0m \u001b[0my\u001b[0m\u001b[0;34m)\u001b[0m\u001b[0;34m:\u001b[0m\u001b[0;34m\u001b[0m\u001b[0;34m\u001b[0m\u001b[0m\n\u001b[0;32m----> 5\u001b[0;31m     \u001b[0mf\u001b[0m \u001b[0;34m=\u001b[0m \u001b[0mx\u001b[0m\u001b[0;34m/\u001b[0m\u001b[0my\u001b[0m\u001b[0;34m\u001b[0m\u001b[0;34m\u001b[0m\u001b[0m\n\u001b[0m\u001b[1;32m      6\u001b[0m     \u001b[0;32mtry\u001b[0m\u001b[0;34m:\u001b[0m\u001b[0;34m\u001b[0m\u001b[0;34m\u001b[0m\u001b[0m\n\u001b[1;32m      7\u001b[0m         \u001b[0mresult\u001b[0m \u001b[0;34m=\u001b[0m \u001b[0mx\u001b[0m \u001b[0;34m/\u001b[0m \u001b[0my\u001b[0m\u001b[0;34m\u001b[0m\u001b[0;34m\u001b[0m\u001b[0m\n",
      "\u001b[0;31mZeroDivisionError\u001b[0m: division by zero"
     ]
    }
   ],
   "source": [
    "f(0,0)"
   ]
  },
  {
   "cell_type": "code",
   "execution_count": 25,
   "metadata": {},
   "outputs": [
    {
     "name": "stdout",
     "output_type": "stream",
     "text": [
      "result is 0.6666666666666666\n",
      "executing finally clause\n"
     ]
    }
   ],
   "source": [
    "divide(2,3)"
   ]
  },
  {
   "cell_type": "markdown",
   "metadata": {},
   "source": [
    "# Making your own errors"
   ]
  },
  {
   "cell_type": "markdown",
   "metadata": {},
   "source": [
    "An exception is just a class:"
   ]
  },
  {
   "cell_type": "code",
   "execution_count": 66,
   "metadata": {},
   "outputs": [],
   "source": [
    "class MyCustomError(Exception):\n",
    "    # Inheriting from the base class for all exceptions\n",
    "    pass\n",
    "\n",
    "class NegativeValueError(ValueError):\n",
    "    # Subclassing an exception to add a useful(?) specific case\n",
    "    def __init__(self, value):\n",
    "        self.value = value\n",
    "    def __str__(self):\n",
    "        return \"Value is \" + repr(self.value)"
   ]
  },
  {
   "cell_type": "markdown",
   "metadata": {},
   "source": [
    "Catching the exception you can get any stored values like any object:"
   ]
  },
  {
   "cell_type": "code",
   "execution_count": 67,
   "metadata": {},
   "outputs": [],
   "source": [
    "def my_function(x):\n",
    "    if x < 0:\n",
    "        raise NegativeValueError(x)\n",
    "    return x * 3"
   ]
  },
  {
   "cell_type": "code",
   "execution_count": 68,
   "metadata": {},
   "outputs": [
    {
     "name": "stdout",
     "output_type": "stream",
     "text": [
      "Problem with x=-1, try again.\n"
     ]
    }
   ],
   "source": [
    "x = -1\n",
    "try:\n",
    "    my_function(x)\n",
    "except ValueError as e:\n",
    "    print('Problem with x={}, try again.'.format(e.value))"
   ]
  },
  {
   "cell_type": "markdown",
   "metadata": {},
   "source": [
    "Uncaught exceptions prints the string representations of the class:"
   ]
  },
  {
   "cell_type": "code",
   "execution_count": 69,
   "metadata": {},
   "outputs": [
    {
     "ename": "NegativeValueError",
     "evalue": "Value is -2",
     "output_type": "error",
     "traceback": [
      "\u001b[0;31m---------------------------------------------------------------------------\u001b[0m",
      "\u001b[0;31mNegativeValueError\u001b[0m                        Traceback (most recent call last)",
      "\u001b[0;32m<ipython-input-69-c3393f2e794a>\u001b[0m in \u001b[0;36m<module>\u001b[0;34m\u001b[0m\n\u001b[0;32m----> 1\u001b[0;31m \u001b[0mmy_function\u001b[0m\u001b[0;34m(\u001b[0m\u001b[0;34m-\u001b[0m\u001b[0;36m2\u001b[0m\u001b[0;34m)\u001b[0m\u001b[0;34m\u001b[0m\u001b[0;34m\u001b[0m\u001b[0m\n\u001b[0m",
      "\u001b[0;32m<ipython-input-67-31b89b34626d>\u001b[0m in \u001b[0;36mmy_function\u001b[0;34m(x)\u001b[0m\n\u001b[1;32m      1\u001b[0m \u001b[0;32mdef\u001b[0m \u001b[0mmy_function\u001b[0m\u001b[0;34m(\u001b[0m\u001b[0mx\u001b[0m\u001b[0;34m)\u001b[0m\u001b[0;34m:\u001b[0m\u001b[0;34m\u001b[0m\u001b[0;34m\u001b[0m\u001b[0m\n\u001b[1;32m      2\u001b[0m     \u001b[0;32mif\u001b[0m \u001b[0mx\u001b[0m \u001b[0;34m<\u001b[0m \u001b[0;36m0\u001b[0m\u001b[0;34m:\u001b[0m\u001b[0;34m\u001b[0m\u001b[0;34m\u001b[0m\u001b[0m\n\u001b[0;32m----> 3\u001b[0;31m         \u001b[0;32mraise\u001b[0m \u001b[0mNegativeValueError\u001b[0m\u001b[0;34m(\u001b[0m\u001b[0mx\u001b[0m\u001b[0;34m)\u001b[0m\u001b[0;34m\u001b[0m\u001b[0;34m\u001b[0m\u001b[0m\n\u001b[0m\u001b[1;32m      4\u001b[0m     \u001b[0;32mreturn\u001b[0m \u001b[0mx\u001b[0m \u001b[0;34m*\u001b[0m \u001b[0;36m3\u001b[0m\u001b[0;34m\u001b[0m\u001b[0;34m\u001b[0m\u001b[0m\n",
      "\u001b[0;31mNegativeValueError\u001b[0m: Value is -2"
     ]
    }
   ],
   "source": [
    "my_function(-2)"
   ]
  },
  {
   "cell_type": "markdown",
   "metadata": {},
   "source": [
    "## Possiblecustom exceptions"
   ]
  },
  {
   "cell_type": "markdown",
   "metadata": {},
   "source": [
    "** Question **\n",
    "* In your Poker-game library, what would be some suitable exceptions to implement?\n",
    "\n",
    "---------------------\n",
    "\n",
    "---------------------\n",
    "\n",
    "---------------------\n",
    "* MissingCardError\n",
    "* OutOfMoneyError\n",
    "* EmptyDeckError"
   ]
  },
  {
   "cell_type": "markdown",
   "metadata": {},
   "source": [
    "# Question 4 (7p total)\n",
    "\n",
    "In this question, you will implement classes for representing a simple file structure, which would be useful when\n",
    "working on a library for a archive (like a zip file).\n",
    "For the sake of keeping the exam question reasonably short, we will not consider the actual file contents, but only the\n",
    "metadata (file structure, file names etc.)\n",
    "\n",
    "You should generate some XML markup as shown in the example. (XML is simple markup language for storing and transporting\n",
    "data.)"
   ]
  },
  {
   "cell_type": "markdown",
   "metadata": {},
   "source": [
    "**Example**\n",
    "```python\n",
    "some_files = [File('Important data.dat', True), File('\"Quotes\" & jokes.txt', False)]\n",
    "some_code = [File('important_python_code.py', False), File('cheat_sheet.py', False)]\n",
    "code_dir = Directory('Code', some_code)\n",
    "root = Directory('Directories can also have \\'escaped\\' characters', some_files)\n",
    "root.add_node(code_dir)\n",
    "print(root.xml_structure())\n",
    "print(\"Total number of nodes in the tree is {}\".format(len(root)))\n",
    "```\n",
    "should yield\n",
    "\n",
    "```xml\n",
    "<directory name=\"Directories can also have &apos;escaped&apos; characters\">\n",
    "    <file name=\"Important data.dat\" binary=\"yes\" />\n",
    "    <file name=\"&quot;Quotes&quot; &amp; jokes.txt\" binary=\"no\" />\n",
    "    <directory name=\"Code\">\n",
    "        <file name=\"important_python_code.py\" binary=\"no\" />\n",
    "        <file name=\"cheat_sheet.py\" binary=\"no\" />\n",
    "    </directory>\n",
    "</directory>\n",
    "```\n",
    "```text\n",
    "Total number of nodes in the tree is 6\n",
    "```"
   ]
  },
  {
   "cell_type": "markdown",
   "metadata": {},
   "source": [
    "## Part A (2.5p)\n",
    "Create a base class `Node` stores a variable `name`.\n",
    "This class should have:\n",
    "\n",
    "- a method `escaped_name` that returns the name of the node but every with special characters replaced (see list below).\n",
    "- an abstract method `xml_structure` that takes an optional argument `indent` with a default value of 0\n",
    "- an abstract operator for `len()` that computes the number of nodes in the entire tree recursively.\n",
    "\n",
    "*Note: the name \"node\" is typically used in file systems for referring to an object, like a directory, file or link.*\n",
    "\n",
    "- ampersand (`&`) is escaped to `&amp;`\n",
    "- double quotes (`\"`) are escaped to `&quot;`\n",
    "- single quotes (`'`) are escaped to `&apos;`\n",
    "- less than (`<`) is escaped to `&lt;`\n",
    "- greater than (`>`) is escaped to `&gt;`"
   ]
  },
  {
   "cell_type": "code",
   "execution_count": 48,
   "metadata": {},
   "outputs": [],
   "source": [
    "import abc\n",
    "\n",
    "class Node(metaclass=abc.ABCMeta):\n",
    "    escapes = [('&', '&amp;'),\n",
    "               ('\"', '&quot;'),\n",
    "               (\"'\", '&apos;'),\n",
    "               ('>', '&gt;'),\n",
    "               ('<', '&lt;')]\n",
    "    \n",
    "    def __init__(self, name):\n",
    "        self.name = name\n",
    "        \n",
    "    def escaped_name(self):\n",
    "        esc_name = self.name\n",
    "        for orig, esc in self.escapes:\n",
    "            esc_name = esc_name.replace(orig, esc)\n",
    "        return esc_name\n",
    "    \n",
    "    @abc.abstractmethod\n",
    "    def __len__(self):\n",
    "        pass\n",
    "\n",
    "    @abc.abstractmethod\n",
    "    def xml_structure(self, indent=0):\n",
    "        pass"
   ]
  },
  {
   "cell_type": "markdown",
   "metadata": {},
   "source": [
    "## Part B (2.5p)\n",
    "Create a subclass `Directory` that takes a `name` and a list of `nodes` that it should contain:\n",
    "\n",
    "- a method `xml_structure(indent)` should return a string that starts with \n",
    "`<directory name=\"escaped name here\">`\n",
    "then lists xml structure all the contained nodes, then ends with\n",
    "`</directory>`\n",
    "The contained nodes should be indented 4 spaces more than the current indent. See the example below on how it should look.\n",
    "\n",
    "- a method `add_node(node)` that adds a node to the directory.\n",
    "- Using `len` on a `Directory` object should return the sum of the `len` of all the contained nodes + 1 (for the directory itself)."
   ]
  },
  {
   "cell_type": "code",
   "execution_count": 57,
   "metadata": {},
   "outputs": [],
   "source": [
    "class Directory(Node):\n",
    "    def __init__(self, name, nodes):\n",
    "        super().__init__(name)\n",
    "        self.nodes = nodes\n",
    "    \n",
    "    def add_node(self, node):\n",
    "        self.nodes.append(node)\n",
    "        \n",
    "    def __len__(self):\n",
    "        s = 1\n",
    "        for node in self.nodes:\n",
    "            s += len(node)\n",
    "        return s\n",
    "    \n",
    "    def xml_structure(self, indent=0):\n",
    "        xml = (' ' * indent) + '<directory name=\"{}\">\\n'.format(self.escaped_name())\n",
    "        for node in self.nodes:\n",
    "            xml += node.xml_structure(indent+4)\n",
    "        xml += (' ' * indent) + '</directory>'\n",
    "        return xml"
   ]
  },
  {
   "cell_type": "markdown",
   "metadata": {},
   "source": [
    "## Part C (2p)\n",
    "Implement a subclass `File` that takes a `name` and a bool `binary` which indicates if the file contains\n",
    "binary data (or just text):\n",
    "\n",
    "- The `len` of a file is always 1.\n",
    "- Implement a method `xml_structure(indent)` that should return a string that looks like:\n",
    "```xml\n",
    "<file name=\"escaped name here\" binary=\"yes or no\" />\n",
    "```\n",
    "The string should be preceded with as many spaces as indicated by `indent`. Remember a line break (see the example)!"
   ]
  },
  {
   "cell_type": "code",
   "execution_count": 62,
   "metadata": {},
   "outputs": [],
   "source": [
    "class File(Node):\n",
    "    def __init__(self, name, binary):\n",
    "        super().__init__(name)\n",
    "        self.binary = binary\n",
    "    \n",
    "    def __len__(self):\n",
    "        return 1\n",
    "    \n",
    "    def xml_structure(self, indent=0):\n",
    "        return (' ' * indent) + '<file name=\"{}\" binary=\"{}\" />\\n'.format(\n",
    "                self.escaped_name(), \"yes\" if self.binary else \"no\")"
   ]
  },
  {
   "cell_type": "code",
   "execution_count": 63,
   "metadata": {
    "scrolled": true
   },
   "outputs": [
    {
     "name": "stdout",
     "output_type": "stream",
     "text": [
      "<directory name=\"Directories can also have &quot;escaped&quot; characters\">\n",
      "    <file name=\"Important data.dat\" binary=\"yes\" />\n",
      "    <file name=\"&quot;Quotes&quot; &amp; jokes.txt\" binary=\"no\" />\n",
      "    <directory name=\"Code\">\n",
      "        <file name=\"important_python_code.py\" binary=\"no\" />\n",
      "        <file name=\"cheat_sheet.py\" binary=\"no\" />\n",
      "    </directory></directory>\n",
      "Total number of nodes in tree is 6\n"
     ]
    }
   ],
   "source": [
    "# Test code (as provided for exam)\n",
    "some_files = [File('Important data.dat', True), File('\"Quotes\" & jokes.txt', False)]\n",
    "some_code = [File('important_python_code.py', False), File('cheat_sheet.py', False)]\n",
    "code_dir = Directory('Code', some_code)\n",
    "root = Directory('Directories can also have \"escaped\" characters', some_files)\n",
    "root.add_node(code_dir)\n",
    "print(root.xml_structure())\n",
    "print(\"Total number of nodes in tree is {}\".format(len(root)))"
   ]
  }
 ],
 "metadata": {
  "anaconda-cloud": {},
  "kernelspec": {
   "display_name": "Python 3",
   "language": "python",
   "name": "python3"
  },
  "language_info": {
   "codemirror_mode": {
    "name": "ipython",
    "version": 3
   },
   "file_extension": ".py",
   "mimetype": "text/x-python",
   "name": "python",
   "nbconvert_exporter": "python",
   "pygments_lexer": "ipython3",
   "version": "3.7.1"
  }
 },
 "nbformat": 4,
 "nbformat_minor": 1
}

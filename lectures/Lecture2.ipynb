{
 "metadata": {
  "name": "",
  "signature": "sha256:febdd8442c7eda85c342d7fb0ee066421ad8fefc13b41ae3d9af59b55b249dbd"
 },
 "nbformat": 3,
 "nbformat_minor": 0,
 "worksheets": [
  {
   "cells": [
    {
     "cell_type": "markdown",
     "metadata": {},
     "source": [
      "Lecture 2 will go through the syntax and basics of using Python and the Python interpreter.\n",
      "\n",
      "This lecture is meant to get you up and going to the same level of Matlab programming as most M-students have.\n",
      "\n",
      "Reference\n",
      "* [1] Chapter 1.6, 2.1-2.2, 3, 4, 5, 6, 8\n",
      "* [2] Section 3, 4, 5"
     ]
    },
    {
     "cell_type": "heading",
     "level": 1,
     "metadata": {},
     "source": [
      "Built in help"
     ]
    },
    {
     "cell_type": "heading",
     "level": 2,
     "metadata": {},
     "source": [
      "The `help` function"
     ]
    },
    {
     "cell_type": "markdown",
     "metadata": {},
     "source": [
      "* You can run `help` on most things, functions, libraries, variables"
     ]
    },
    {
     "cell_type": "code",
     "collapsed": true,
     "input": [
      "help(len)"
     ],
     "language": "python",
     "metadata": {
      "slideshow": {
       "slide_type": "slide"
      }
     },
     "outputs": [
      {
       "output_type": "stream",
       "stream": "stdout",
       "text": [
        "Help on built-in function len in module builtins:\n",
        "\n",
        "len(...)\n",
        "    len(object)\n",
        "    \n",
        "    Return the number of items of a sequence or mapping.\n",
        "\n"
       ]
      }
     ],
     "prompt_number": 34
    },
    {
     "cell_type": "heading",
     "level": 2,
     "metadata": {},
     "source": [
      "Tab-completion"
     ]
    },
    {
     "cell_type": "code",
     "collapsed": true,
     "input": [
      "areallylongvariablename = 123\n",
      "sqrt(ar"
     ],
     "language": "python",
     "metadata": {},
     "outputs": [
      {
       "metadata": {},
       "output_type": "pyout",
       "prompt_number": 62,
       "text": [
        "11.090536506409418"
       ]
      }
     ],
     "prompt_number": 62
    },
    {
     "cell_type": "markdown",
     "metadata": {},
     "source": [
      "* Not only for reducing typing, it will also reveal what functions are available (doesn't work in the Notebook)\n",
      "\n",
      "```python\n",
      "In [1]: x = 'Hejsan'\n",
      "In [2]: x.                                                                               \n",
      "x.capitalize    x.format_map    x.isprintable   x.partition     x.splitlines             \n",
      "x.casefold      x.index         x.isspace       x.replace       x.startswith             \n",
      "x.center        x.isalnum       x.istitle       x.rfind         x.strip                  \n",
      "x.count         x.isalpha       x.isupper       x.rindex        x.swapcase               \n",
      "x.encode        x.isdecimal     x.join          x.rjust         x.title                  \n",
      "x.endswith      x.isdigit       x.ljust         x.rpartition    x.translate                   \n",
      "x.expandtabs    x.isidentifier  x.lower         x.rsplit        x.upper                       \n",
      "x.find          x.islower       x.lstrip        x.rstrip        x.zfill\n",
      "x.format        x.isnumeric     x.maketrans     x.split   \n",
      "```"
     ]
    },
    {
     "cell_type": "heading",
     "level": 1,
     "metadata": {},
     "source": [
      "Errors"
     ]
    },
    {
     "cell_type": "markdown",
     "metadata": {},
     "source": [
      "* Syntax errors are probably going to be the most common error"
     ]
    },
    {
     "cell_type": "code",
     "collapsed": false,
     "input": [
      "x = 123 + /34"
     ],
     "language": "python",
     "metadata": {},
     "outputs": [
      {
       "ename": "SyntaxError",
       "evalue": "invalid syntax (<ipython-input-90-89d365e162ae>, line 1)",
       "output_type": "pyerr",
       "traceback": [
        "\u001b[1;36m  File \u001b[1;32m\"<ipython-input-90-89d365e162ae>\"\u001b[1;36m, line \u001b[1;32m1\u001b[0m\n\u001b[1;33m    x = 123 + /34\u001b[0m\n\u001b[1;37m              ^\u001b[0m\n\u001b[1;31mSyntaxError\u001b[0m\u001b[1;31m:\u001b[0m invalid syntax\n"
       ]
      }
     ],
     "prompt_number": 90
    },
    {
     "cell_type": "markdown",
     "metadata": {},
     "source": [
      "* Mostly self explanatory"
     ]
    },
    {
     "cell_type": "code",
     "collapsed": false,
     "input": [
      "132/0"
     ],
     "language": "python",
     "metadata": {},
     "outputs": [
      {
       "ename": "ZeroDivisionError",
       "evalue": "division by zero",
       "output_type": "pyerr",
       "traceback": [
        "\u001b[1;31m---------------------------------------------------------------------------\u001b[0m\n\u001b[1;31mZeroDivisionError\u001b[0m                         Traceback (most recent call last)",
        "\u001b[1;32m<ipython-input-83-a4428419d44f>\u001b[0m in \u001b[0;36m<module>\u001b[1;34m()\u001b[0m\n\u001b[1;32m----> 1\u001b[1;33m \u001b[1;36m132\u001b[0m\u001b[1;33m/\u001b[0m\u001b[1;36m0\u001b[0m\u001b[1;33m\u001b[0m\u001b[0m\n\u001b[0m",
        "\u001b[1;31mZeroDivisionError\u001b[0m: division by zero"
       ]
      }
     ],
     "prompt_number": 83
    },
    {
     "cell_type": "code",
     "collapsed": false,
     "input": [
      "x = [1,2,3]\n",
      "x[8]"
     ],
     "language": "python",
     "metadata": {},
     "outputs": [
      {
       "ename": "IndexError",
       "evalue": "list index out of range",
       "output_type": "pyerr",
       "traceback": [
        "\u001b[1;31m---------------------------------------------------------------------------\u001b[0m\n\u001b[1;31mIndexError\u001b[0m                                Traceback (most recent call last)",
        "\u001b[1;32m<ipython-input-92-7a986e37e848>\u001b[0m in \u001b[0;36m<module>\u001b[1;34m()\u001b[0m\n\u001b[0;32m      1\u001b[0m \u001b[0mx\u001b[0m \u001b[1;33m=\u001b[0m \u001b[1;33m[\u001b[0m\u001b[1;36m1\u001b[0m\u001b[1;33m,\u001b[0m\u001b[1;36m2\u001b[0m\u001b[1;33m,\u001b[0m\u001b[1;36m3\u001b[0m\u001b[1;33m]\u001b[0m\u001b[1;33m\u001b[0m\u001b[0m\n\u001b[1;32m----> 2\u001b[1;33m \u001b[0mx\u001b[0m\u001b[1;33m[\u001b[0m\u001b[1;36m8\u001b[0m\u001b[1;33m]\u001b[0m\u001b[1;33m\u001b[0m\u001b[0m\n\u001b[0m",
        "\u001b[1;31mIndexError\u001b[0m: list index out of range"
       ]
      }
     ],
     "prompt_number": 92
    },
    {
     "cell_type": "heading",
     "level": 1,
     "metadata": {},
     "source": [
      "Values and data types"
     ]
    },
    {
     "cell_type": "markdown",
     "metadata": {},
     "source": [
      "* You can check the type of almost any value"
     ]
    },
    {
     "cell_type": "code",
     "collapsed": false,
     "input": [
      "type(3.14)"
     ],
     "language": "python",
     "metadata": {},
     "outputs": [
      {
       "metadata": {},
       "output_type": "pyout",
       "prompt_number": 12,
       "text": [
        "float"
       ]
      }
     ],
     "prompt_number": 12
    },
    {
     "cell_type": "code",
     "collapsed": false,
     "input": [
      "type('Hello World')"
     ],
     "language": "python",
     "metadata": {},
     "outputs": [
      {
       "metadata": {},
       "output_type": "pyout",
       "prompt_number": 13,
       "text": [
        "str"
       ]
      }
     ],
     "prompt_number": 13
    },
    {
     "cell_type": "code",
     "collapsed": false,
     "input": [
      "type(100)"
     ],
     "language": "python",
     "metadata": {},
     "outputs": [
      {
       "metadata": {},
       "output_type": "pyout",
       "prompt_number": 11,
       "text": [
        "int"
       ]
      }
     ],
     "prompt_number": 11
    },
    {
     "cell_type": "code",
     "collapsed": false,
     "input": [
      "type(len)"
     ],
     "language": "python",
     "metadata": {},
     "outputs": [
      {
       "metadata": {},
       "output_type": "pyout",
       "prompt_number": 57,
       "text": [
        "builtin_function_or_method"
       ]
      }
     ],
     "prompt_number": 57
    },
    {
     "cell_type": "markdown",
     "metadata": {},
     "source": [
      "The type is itself a value of the type 'type'"
     ]
    },
    {
     "cell_type": "code",
     "collapsed": false,
     "input": [
      "type(int)"
     ],
     "language": "python",
     "metadata": {},
     "outputs": [
      {
       "metadata": {},
       "output_type": "pyout",
       "prompt_number": 58,
       "text": [
        "type"
       ]
      }
     ],
     "prompt_number": 58
    },
    {
     "cell_type": "heading",
     "level": 2,
     "metadata": {},
     "source": [
      "Type conversion"
     ]
    },
    {
     "cell_type": "markdown",
     "metadata": {},
     "source": [
      "* Changing types is possible through the built in functions"
     ]
    },
    {
     "cell_type": "code",
     "collapsed": false,
     "input": [
      "x = int('123')\n",
      "type(x)"
     ],
     "language": "python",
     "metadata": {},
     "outputs": [
      {
       "metadata": {},
       "output_type": "pyout",
       "prompt_number": 82,
       "text": [
        "int"
       ]
      }
     ],
     "prompt_number": 82
    },
    {
     "cell_type": "code",
     "collapsed": false,
     "input": [
      "x = str(45.3)\n",
      "type(x)"
     ],
     "language": "python",
     "metadata": {},
     "outputs": [
      {
       "metadata": {},
       "output_type": "pyout",
       "prompt_number": 88,
       "text": [
        "str"
       ]
      }
     ],
     "prompt_number": 88
    },
    {
     "cell_type": "markdown",
     "metadata": {},
     "source": [
      "But only if there is sensible conversion to make"
     ]
    },
    {
     "cell_type": "code",
     "collapsed": false,
     "input": [
      "x = int('Carl')"
     ],
     "language": "python",
     "metadata": {},
     "outputs": [
      {
       "ename": "ValueError",
       "evalue": "invalid literal for int() with base 10: 'Carl'",
       "output_type": "pyerr",
       "traceback": [
        "\u001b[1;31m---------------------------------------------------------------------------\u001b[0m\n\u001b[1;31mValueError\u001b[0m                                Traceback (most recent call last)",
        "\u001b[1;32m<ipython-input-90-0cc1cda27bff>\u001b[0m in \u001b[0;36m<module>\u001b[1;34m()\u001b[0m\n\u001b[1;32m----> 1\u001b[1;33m \u001b[0mx\u001b[0m \u001b[1;33m=\u001b[0m \u001b[0mint\u001b[0m\u001b[1;33m(\u001b[0m\u001b[1;34m'Carl'\u001b[0m\u001b[1;33m)\u001b[0m\u001b[1;33m\u001b[0m\u001b[0m\n\u001b[0m",
        "\u001b[1;31mValueError\u001b[0m: invalid literal for int() with base 10: 'Carl'"
       ]
      }
     ],
     "prompt_number": 90
    },
    {
     "cell_type": "heading",
     "level": 1,
     "metadata": {},
     "source": [
      "Modules"
     ]
    },
    {
     "cell_type": "markdown",
     "metadata": {},
     "source": [
      "As opposed to Matlab, most content is not available in the global scope.\n",
      "One needs to import modules (even ones included in Python) to have access to most functionality.\n",
      "\n",
      "These are places under a namespace, which is by default the same as the library name.\n",
      "Namespaces are used to avoid name-collisions between common function names."
     ]
    },
    {
     "cell_type": "heading",
     "level": 2,
     "metadata": {},
     "source": [
      "Importing modules"
     ]
    },
    {
     "cell_type": "code",
     "collapsed": true,
     "input": [
      "import math\n",
      "math.sqrt(5)"
     ],
     "language": "python",
     "metadata": {},
     "outputs": [
      {
       "metadata": {},
       "output_type": "pyout",
       "prompt_number": 41,
       "text": [
        "2.23606797749979"
       ]
      }
     ],
     "prompt_number": 41
    },
    {
     "cell_type": "heading",
     "level": 2,
     "metadata": {},
     "source": [
      " Abbreviating the namespace"
     ]
    },
    {
     "cell_type": "code",
     "collapsed": false,
     "input": [
      "import math as m\n",
      "m.sqrt(5)"
     ],
     "language": "python",
     "metadata": {},
     "outputs": [
      {
       "metadata": {},
       "output_type": "pyout",
       "prompt_number": 77,
       "text": [
        "2.23606797749979"
       ]
      }
     ],
     "prompt_number": 77
    },
    {
     "cell_type": "heading",
     "level": 2,
     "metadata": {},
     "source": [
      "Selective importing"
     ]
    },
    {
     "cell_type": "code",
     "collapsed": true,
     "input": [
      "from math import cos, pi\n",
      "cos(1.5*pi)"
     ],
     "language": "python",
     "metadata": {},
     "outputs": [
      {
       "metadata": {},
       "output_type": "pyout",
       "prompt_number": 103,
       "text": [
        "-1.8369701987210297e-16"
       ]
      }
     ],
     "prompt_number": 103
    },
    {
     "cell_type": "code",
     "collapsed": false,
     "input": [
      "from math import pi as paj\n",
      "print(paj)"
     ],
     "language": "python",
     "metadata": {},
     "outputs": [
      {
       "output_type": "stream",
       "stream": "stdout",
       "text": [
        "3.141592653589793\n"
       ]
      }
     ],
     "prompt_number": 104
    },
    {
     "cell_type": "code",
     "collapsed": true,
     "input": [
      "sin(5) # Only cos and pi was imported, this will fail."
     ],
     "language": "python",
     "metadata": {},
     "outputs": [
      {
       "ename": "NameError",
       "evalue": "name 'sin' is not defined",
       "output_type": "pyerr",
       "traceback": [
        "\u001b[1;31m---------------------------------------------------------------------------\u001b[0m\n\u001b[1;31mNameError\u001b[0m                                 Traceback (most recent call last)",
        "\u001b[1;32m<ipython-input-105-6afa25a275e4>\u001b[0m in \u001b[0;36m<module>\u001b[1;34m()\u001b[0m\n\u001b[1;32m----> 1\u001b[1;33m \u001b[0msin\u001b[0m\u001b[1;33m(\u001b[0m\u001b[1;36m5\u001b[0m\u001b[1;33m)\u001b[0m \u001b[1;31m# Only cos and pi was imported, this will fail.\u001b[0m\u001b[1;33m\u001b[0m\u001b[0m\n\u001b[0m",
        "\u001b[1;31mNameError\u001b[0m: name 'sin' is not defined"
       ]
      }
     ],
     "prompt_number": 105
    },
    {
     "cell_type": "heading",
     "level": 2,
     "metadata": {},
     "source": [
      "Wildcards"
     ]
    },
    {
     "cell_type": "markdown",
     "metadata": {},
     "source": [
      "Using the wildcard, you import everything in that scope\n",
      "\n",
      "```python\n",
      "from math import *\n",
      "```\n",
      "\n",
      "but this practice is generally discouraged."
     ]
    },
    {
     "cell_type": "heading",
     "level": 1,
     "metadata": {},
     "source": [
      "Strings"
     ]
    },
    {
     "cell_type": "markdown",
     "metadata": {},
     "source": [
      "* Almost identical to Matlab and most other languages. However, strings are immutable in Python\n",
      "* Immutable /\u026a\u02c8mju\u02d0t\u0259b(\u0259)l/: *unchanging over time or unable to be changed*"
     ]
    },
    {
     "cell_type": "code",
     "collapsed": true,
     "input": [
      "x = 'Hello World' # or \"Hello World\", \"\"\"Hello World\"\"\", '''Hello World'''\n",
      "x[0] = 'Y'"
     ],
     "language": "python",
     "metadata": {},
     "outputs": [
      {
       "ename": "TypeError",
       "evalue": "'str' object does not support item assignment",
       "output_type": "pyerr",
       "traceback": [
        "\u001b[1;31m---------------------------------------------------------------------------\u001b[0m\n\u001b[1;31mTypeError\u001b[0m                                 Traceback (most recent call last)",
        "\u001b[1;32m<ipython-input-69-b78e73b17b43>\u001b[0m in \u001b[0;36m<module>\u001b[1;34m()\u001b[0m\n\u001b[0;32m      1\u001b[0m \u001b[0mx\u001b[0m \u001b[1;33m=\u001b[0m \u001b[1;34m'Hello World'\u001b[0m \u001b[1;31m# or \"Hello World\", \"\"\"Hello World\"\"\", '''Hello World'''\u001b[0m\u001b[1;33m\u001b[0m\u001b[0m\n\u001b[1;32m----> 2\u001b[1;33m \u001b[0mx\u001b[0m\u001b[1;33m[\u001b[0m\u001b[1;36m0\u001b[0m\u001b[1;33m]\u001b[0m \u001b[1;33m=\u001b[0m \u001b[1;34m'Y'\u001b[0m\u001b[1;33m\u001b[0m\u001b[0m\n\u001b[0m",
        "\u001b[1;31mTypeError\u001b[0m: 'str' object does not support item assignment"
       ]
      }
     ],
     "prompt_number": 69
    },
    {
     "cell_type": "markdown",
     "metadata": {},
     "source": [
      "* Instead, a new string must be created"
     ]
    },
    {
     "cell_type": "code",
     "collapsed": false,
     "input": [
      "y = 'Y' + x[1:]\n",
      "print(y)"
     ],
     "language": "python",
     "metadata": {},
     "outputs": [
      {
       "output_type": "stream",
       "stream": "stdout",
       "text": [
        "Yello World\n"
       ]
      }
     ],
     "prompt_number": 70
    },
    {
     "cell_type": "markdown",
     "metadata": {},
     "source": [
      "* Line breaks and special characters just like in Matlab"
     ]
    },
    {
     "cell_type": "code",
     "collapsed": true,
     "input": [
      "x = 'Hello\\nWorld'\n",
      "print(x)"
     ],
     "language": "python",
     "metadata": {},
     "outputs": [
      {
       "output_type": "stream",
       "stream": "stdout",
       "text": [
        "Hello\n",
        "World\n"
       ]
      }
     ],
     "prompt_number": 52
    },
    {
     "cell_type": "markdown",
     "metadata": {},
     "source": [
      "* String functions\n",
      "\n",
      "```python\n",
      "x.capitalize    x.encode        x.format        ... # and many more\n",
      "```\n",
      "\n",
      "* We will go through strings more in lecture 3"
     ]
    },
    {
     "cell_type": "heading",
     "level": 1,
     "metadata": {},
     "source": [
      "Lists"
     ]
    },
    {
     "cell_type": "markdown",
     "metadata": {},
     "source": [
      "* Lists are your standard storage option"
     ]
    },
    {
     "cell_type": "code",
     "collapsed": false,
     "input": [
      "x = [43, 10, 15]\n",
      "len(x)"
     ],
     "language": "python",
     "metadata": {},
     "outputs": [
      {
       "metadata": {},
       "output_type": "pyout",
       "prompt_number": 84,
       "text": [
        "3"
       ]
      }
     ],
     "prompt_number": 84
    },
    {
     "cell_type": "markdown",
     "metadata": {},
     "source": [
      "* Lists can store any object (including other lists)"
     ]
    },
    {
     "cell_type": "code",
     "collapsed": false,
     "input": [
      "x = [[1, 2, 3], [4, 2], [9, 4, 2]]\n",
      "y = ['Hello', 'World']"
     ],
     "language": "python",
     "metadata": {},
     "outputs": [],
     "prompt_number": 17
    },
    {
     "cell_type": "markdown",
     "metadata": {},
     "source": [
      "* Mixing object types is possible but strongly discouraged"
     ]
    },
    {
     "cell_type": "code",
     "collapsed": false,
     "input": [
      "x = [123, 2.43, 'Hello']"
     ],
     "language": "python",
     "metadata": {},
     "outputs": [],
     "prompt_number": 81
    },
    {
     "cell_type": "markdown",
     "metadata": {},
     "source": [
      "In those cases, it's more suitable to use a tuple"
     ]
    },
    {
     "cell_type": "markdown",
     "metadata": {},
     "source": [
      " * List-functions\n",
      " ```python\n",
      " x.append   x.clear    x.copy     x.count    \n",
      " x.extend   x.index    x.insert   x.pop      \n",
      " x.remove   x.reverse  x.sort\n",
      " ```"
     ]
    },
    {
     "cell_type": "code",
     "collapsed": false,
     "input": [
      "x = [4,67,2,10]\n",
      "x.sort()\n",
      "print(x)"
     ],
     "language": "python",
     "metadata": {},
     "outputs": [
      {
       "output_type": "stream",
       "stream": "stdout",
       "text": [
        "[2, 4, 10, 67]\n"
       ]
      }
     ],
     "prompt_number": 85
    },
    {
     "cell_type": "markdown",
     "metadata": {},
     "source": [
      "* Tuples are like immutable lists, and many usecases have different object types"
     ]
    },
    {
     "cell_type": "heading",
     "level": 1,
     "metadata": {},
     "source": [
      "Tuples"
     ]
    },
    {
     "cell_type": "code",
     "collapsed": false,
     "input": [
      "x = (3.14, math.sqrt, 'John')\n",
      "x = 3.14, math.sqrt, 'John'   # You may skip the paranthesis\n",
      "print(x)"
     ],
     "language": "python",
     "metadata": {},
     "outputs": [
      {
       "output_type": "stream",
       "stream": "stdout",
       "text": [
        "(3.14, <built-in function sqrt>, 'John')\n"
       ]
      }
     ],
     "prompt_number": 106
    },
    {
     "cell_type": "markdown",
     "metadata": {},
     "source": [
      "* Tuple-functions\n",
      "\n",
      "```python\n",
      "x.count    x.index\n",
      "```"
     ]
    },
    {
     "cell_type": "heading",
     "level": 1,
     "metadata": {},
     "source": [
      "Sets"
     ]
    },
    {
     "cell_type": "markdown",
     "metadata": {},
     "source": [
      "* Sets are containers of unique items"
     ]
    },
    {
     "cell_type": "code",
     "collapsed": false,
     "input": [
      "x = {1, 2, 3, 2, 7, 2, 3, 2, 6}\n",
      "print(x)\n",
      "x.add(8)\n",
      "print(x)\n",
      "y = x.intersection({1, 4, 5, 6, 10})\n",
      "print(y)"
     ],
     "language": "python",
     "metadata": {},
     "outputs": [
      {
       "output_type": "stream",
       "stream": "stdout",
       "text": [
        "{1, 2, 3, 6, 7}\n",
        "{1, 2, 3, 6, 7, 8}\n",
        "{1, 6}\n"
       ]
      }
     ],
     "prompt_number": 1
    },
    {
     "cell_type": "heading",
     "level": 1,
     "metadata": {},
     "source": [
      "Dictionaries"
     ]
    },
    {
     "cell_type": "markdown",
     "metadata": {},
     "source": [
      "* Dictionaries are very common in Python and an important data structure.\n",
      "\n",
      "* Dictionaries (often called `maps` in other languages) are mappings. `x[key] = value` represent the mapping $ key\\to value$"
     ]
    },
    {
     "cell_type": "code",
     "collapsed": false,
     "input": [
      "x = {'John': 37, 'Sara': 25, 'Lisa': 45}\n",
      "print(x)"
     ],
     "language": "python",
     "metadata": {},
     "outputs": [
      {
       "output_type": "stream",
       "stream": "stdout",
       "text": [
        "{'John': 37, 'Lisa': 45, 'Sara': 25}\n"
       ]
      }
     ],
     "prompt_number": 137
    },
    {
     "cell_type": "markdown",
     "metadata": {},
     "source": [
      "Very common to create an empty dictionary and add new entries as required (e.g. values are read from a file)"
     ]
    },
    {
     "cell_type": "code",
     "collapsed": false,
     "input": [
      "x = dict() # {} would also work  (similar functions as one would expect for list() set())\n",
      "x['John'] = 37\n",
      "x['Sara'] = 25\n",
      "x['Lisa'] = 45"
     ],
     "language": "python",
     "metadata": {},
     "outputs": [],
     "prompt_number": 138
    },
    {
     "cell_type": "code",
     "collapsed": false,
     "input": [
      "print(x['John'])"
     ],
     "language": "python",
     "metadata": {},
     "outputs": [
      {
       "output_type": "stream",
       "stream": "stdout",
       "text": [
        "37\n"
       ]
      }
     ],
     "prompt_number": 139
    },
    {
     "cell_type": "markdown",
     "metadata": {},
     "source": [
      "* Check for existance of keys using `in` and `not in`"
     ]
    },
    {
     "cell_type": "markdown",
     "metadata": {},
     "source": [
      "print( 'Lisa' in x )\n",
      "print( 'Jeff' not in x )"
     ]
    },
    {
     "cell_type": "markdown",
     "metadata": {},
     "source": [
      "* You get access the keys, values, or `(key,value)` as a list:"
     ]
    },
    {
     "cell_type": "code",
     "collapsed": false,
     "input": [
      "print( x.keys() )\n",
      "print( x.values() )\n",
      "print( x.items() )"
     ],
     "language": "python",
     "metadata": {},
     "outputs": [
      {
       "output_type": "stream",
       "stream": "stdout",
       "text": [
        "dict_keys(['John', 'Lisa', 'Sara'])\n",
        "dict_values([37, 45, 25])\n",
        "dict_items([('John', 37), ('Lisa', 45), ('Sara', 25)])\n"
       ]
      }
     ],
     "prompt_number": 142
    },
    {
     "cell_type": "heading",
     "level": 1,
     "metadata": {},
     "source": [
      "Indexing"
     ]
    },
    {
     "cell_type": "markdown",
     "metadata": {},
     "source": [
      "* Indexing uses the hard brackets []"
     ]
    },
    {
     "cell_type": "code",
     "collapsed": false,
     "input": [
      "x = [43, 10, 15]\n",
      "x[1]"
     ],
     "language": "python",
     "metadata": {},
     "outputs": [
      {
       "metadata": {},
       "output_type": "pyout",
       "prompt_number": 225,
       "text": [
        "15"
       ]
      }
     ],
     "prompt_number": 225
    },
    {
     "cell_type": "markdown",
     "metadata": {},
     "source": [
      "* Note that indexing starts from 0!\n",
      "  Index measures distance from start."
     ]
    },
    {
     "cell_type": "markdown",
     "metadata": {},
     "source": [
      "* Negative indices wrap around and goes from the end"
     ]
    },
    {
     "cell_type": "code",
     "collapsed": false,
     "input": [
      "x[-1]"
     ],
     "language": "python",
     "metadata": {},
     "outputs": [
      {
       "metadata": {},
       "output_type": "pyout",
       "prompt_number": 13,
       "text": [
        "15"
       ]
      }
     ],
     "prompt_number": 13
    },
    {
     "cell_type": "markdown",
     "metadata": {},
     "source": [
      "* Slicing similar to that of Matlab, but in the order *`start:end:increment`*\n",
      "\n",
      "```\n",
      "Matlab         Python\n",
      "x(a:b:c)   ~   x[(a-1):c:b]\n",
      "end        ~   -1  or  nothing:\n",
      "```\n",
      "\n",
      "True for single index\n",
      "\n",
      "```\n",
      "x(end)     ~   x[-1]\n",
      "```\n",
      "\n",
      "But `-1+1 = 0` so when using slicing, the syntax is to leave it out\n",
      "\n",
      "```\n",
      "x(1:2:end) ~   x[0::2]\n",
      "x(7:end)   ~   x[6:]\n",
      "```"
     ]
    },
    {
     "cell_type": "code",
     "collapsed": true,
     "input": [
      "x = ['my', 'short', 'list', 'of', 'strings']\n",
      "print('x[0:2]    =', x[0:2])\n",
      "print('x[1:]     =', x[1:])\n",
      "print('x[:1]     =', x[:1])\n",
      "print('x[:]      =', x[:])\n",
      "print('x[0::2]   =', x[0::2])\n",
      "print('x[0:2:3]  =', x[0:10:2])\n",
      "print('x[-1::-1] =', x[-1::-1])"
     ],
     "language": "python",
     "metadata": {},
     "outputs": [
      {
       "output_type": "stream",
       "stream": "stdout",
       "text": [
        "x[0:2]    = ['my', 'short']\n",
        "x[1:]     = ['short', 'list', 'of', 'strings']\n",
        "x[:1]     = ['my']\n",
        "x[:]      = ['my', 'short', 'list', 'of', 'strings']\n",
        "x[0::2]   = ['my', 'list', 'strings']\n",
        "x[0:2:3]  = ['my', 'list', 'strings']\n",
        "x[-1::-1] = ['strings', 'of', 'list', 'short', 'my']\n"
       ]
      }
     ],
     "prompt_number": 59
    },
    {
     "cell_type": "markdown",
     "metadata": {},
     "source": [
      "Note that ranges are given in a half open interval description, `a:b` $= [a,b)$"
     ]
    },
    {
     "cell_type": "heading",
     "level": 1,
     "metadata": {},
     "source": [
      "Tuple unpacking"
     ]
    },
    {
     "cell_type": "markdown",
     "metadata": {},
     "source": [
      "* A convenient syntax for splitting up all the components of a tuple"
     ]
    },
    {
     "cell_type": "code",
     "collapsed": false,
     "input": [
      "x = (3.14, math.sqrt, 'John')\n",
      "a, b, c = x\n",
      "a, b, c = (3.14, math.sqrt, 'John')\n",
      "a, b, c = 3.14, math.sqrt, 'John'"
     ],
     "language": "python",
     "metadata": {},
     "outputs": [],
     "prompt_number": 58
    },
    {
     "cell_type": "markdown",
     "metadata": {},
     "source": [
      "* Also works for lists, sets and dictionaries, though this usage is more rare"
     ]
    },
    {
     "cell_type": "code",
     "collapsed": false,
     "input": [
      "x = ['Hello', 'Foo', 'World']\n",
      "a, b, c = x\n",
      "print(a, c)\n",
      "\n",
      "x = {1, 2, 2}\n",
      "a, b = x\n",
      "print(a, b)\n",
      "\n",
      "x = {'John': 37, 'Sara': 25, 'Lisa': 45}\n",
      "a, b, c = x.items()\n",
      "print(a, c)"
     ],
     "language": "python",
     "metadata": {},
     "outputs": [
      {
       "output_type": "stream",
       "stream": "stdout",
       "text": [
        "Hello World\n",
        "1 2\n",
        "('John', 37) ('Sara', 25)\n"
       ]
      }
     ],
     "prompt_number": 216
    },
    {
     "cell_type": "heading",
     "level": 2,
     "metadata": {},
     "source": [
      "Deleting stuff from lists, dictionaries"
     ]
    },
    {
     "cell_type": "code",
     "collapsed": false,
     "input": [
      "x = [4,5,6,4,3,5,1]\n",
      "del x[3:]\n",
      "print(x)"
     ],
     "language": "python",
     "metadata": {},
     "outputs": [
      {
       "output_type": "stream",
       "stream": "stdout",
       "text": [
        "[4, 5, 6]\n"
       ]
      }
     ],
     "prompt_number": 222
    },
    {
     "cell_type": "code",
     "collapsed": false,
     "input": [
      "x = {'John': 37, 'Sara': 25, 'Lisa': 45}\n",
      "del x['John']\n",
      "print(x)"
     ],
     "language": "python",
     "metadata": {},
     "outputs": [
      {
       "output_type": "stream",
       "stream": "stdout",
       "text": [
        "{'Lisa': 45, 'Sara': 25}\n"
       ]
      }
     ],
     "prompt_number": 223
    },
    {
     "cell_type": "markdown",
     "metadata": {},
     "source": [
      "# Common operators\n",
      "### Binary operators"
     ]
    },
    {
     "cell_type": "code",
     "collapsed": false,
     "input": [
      "print('4+3 =', 4 + 3)\n",
      "print('4-3 =', 4 - 3)\n",
      "print('4*3 =', 4 * 3)\n",
      "print('4/3 =', 4 / 3)"
     ],
     "language": "python",
     "metadata": {},
     "outputs": [
      {
       "output_type": "stream",
       "stream": "stdout",
       "text": [
        "4+3 = 7\n",
        "4-3 = 1\n",
        "4*3 = 12\n",
        "4/3 = 1.3333333333333333\n"
       ]
      }
     ],
     "prompt_number": 41
    },
    {
     "cell_type": "markdown",
     "metadata": {},
     "source": [
      "### Less obvious operators\n",
      " * `a ** b` $= a^b$\n",
      " * `a // b` $= \\lfloor a/b \\rfloor$\n",
      " * `a % b ` $= a \\,\\text{mod}\\, b$"
     ]
    },
    {
     "cell_type": "code",
     "collapsed": false,
     "input": [
      "print('4**3 =', 4 ** 3)\n",
      "print('4//3 =', 4 // 3)\n",
      "print('4%3 =', 4 % 3)"
     ],
     "language": "python",
     "metadata": {},
     "outputs": [
      {
       "output_type": "stream",
       "stream": "stdout",
       "text": [
        "4**3 = 64\n",
        "4//3 = 1\n",
        "4%3 = 1\n"
       ]
      }
     ],
     "prompt_number": 42
    },
    {
     "cell_type": "markdown",
     "metadata": {},
     "source": [
      "**Important!** If you are stuck with python2.x, then division (/) on integers is // by default. This can be changed in python2.x by doing\n",
      "```python\n",
      "from __future__ import division\n",
      "```"
     ]
    },
    {
     "cell_type": "markdown",
     "metadata": {},
     "source": [
      "### Extended assignments"
     ]
    },
    {
     "cell_type": "code",
     "collapsed": false,
     "input": [
      "x = 1\n",
      "x += 2\n",
      "x *= 3\n",
      "x /= 4\n",
      "print(x)"
     ],
     "language": "python",
     "metadata": {},
     "outputs": [
      {
       "output_type": "stream",
       "stream": "stdout",
       "text": [
        "2.25\n"
       ]
      }
     ],
     "prompt_number": 38
    },
    {
     "cell_type": "code",
     "collapsed": false,
     "input": [
      "x = 1\n",
      "x //= 2\n",
      "print(x)"
     ],
     "language": "python",
     "metadata": {},
     "outputs": [
      {
       "output_type": "stream",
       "stream": "stdout",
       "text": [
        "0\n"
       ]
      }
     ],
     "prompt_number": 39
    },
    {
     "cell_type": "markdown",
     "metadata": {},
     "source": [
      "# Bitwise operators\n",
      "### Binary representations of number\n",
      "$$41 = 2^5 + 2^3 + 2^0 = 101001_b$$\n",
      "$$28 = 2^4 + 2^3 + 2^2 = 011100_b$$"
     ]
    },
    {
     "cell_type": "markdown",
     "metadata": {},
     "source": [
      "* Bit shifts"
     ]
    },
    {
     "cell_type": "code",
     "collapsed": false,
     "input": [
      "print(\"41 >> 1 =\", 41 >> 1)\n",
      "print(\"41 << 1 =\", 41 << 1)"
     ],
     "language": "python",
     "metadata": {},
     "outputs": [
      {
       "output_type": "stream",
       "stream": "stdout",
       "text": [
        "41 >> 1 = 20\n",
        "41 << 1 = 82\n"
       ]
      }
     ],
     "prompt_number": 45
    },
    {
     "cell_type": "markdown",
     "metadata": {},
     "source": [
      "We move the bits one step\n",
      "$$41 >> 1 = 101001_b >> 1 = 010100_b = 2^4 + 2^2 = 20$$\n",
      "which is equal to integer division by 2.\n",
      "\n",
      "In general\n",
      "`a >> b = a // (2**b)`"
     ]
    },
    {
     "cell_type": "markdown",
     "metadata": {},
     "source": [
      "* Bit and/or/xor"
     ]
    },
    {
     "cell_type": "code",
     "collapsed": false,
     "input": [
      "print(\"41 & 28 =\", 41 & 28)\n",
      "print(\"41 | 28 =\", 41 | 28)\n",
      "print(\"41 ^ 28 =\", 41 ^ 28)"
     ],
     "language": "python",
     "metadata": {},
     "outputs": [
      {
       "output_type": "stream",
       "stream": "stdout",
       "text": [
        "41 & 28 = 8\n",
        "41 | 28 = 61\n",
        "41 ^ 28 = 53\n"
       ]
      }
     ],
     "prompt_number": 46
    },
    {
     "cell_type": "markdown",
     "metadata": {},
     "source": [
      "You probably won't be using any of these in the course."
     ]
    },
    {
     "cell_type": "markdown",
     "metadata": {},
     "source": [
      "# Operators acting on non-scalars\n",
      "\n",
      "  * Operators are **not** the same as in Matlab\n",
      "  * Different objects work differently with operators\n",
      "  * Strings"
     ]
    },
    {
     "cell_type": "code",
     "collapsed": false,
     "input": [
      "'Hello World' * 3"
     ],
     "language": "python",
     "metadata": {},
     "outputs": [
      {
       "metadata": {},
       "output_type": "pyout",
       "prompt_number": 47,
       "text": [
        "'Hello WorldHello WorldHello World'"
       ]
      }
     ],
     "prompt_number": 47
    },
    {
     "cell_type": "code",
     "collapsed": false,
     "input": [
      "'Hello' + ' ' + 'World'"
     ],
     "language": "python",
     "metadata": {},
     "outputs": [
      {
       "metadata": {},
       "output_type": "pyout",
       "prompt_number": 48,
       "text": [
        "'Hello World'"
       ]
      }
     ],
     "prompt_number": 48
    },
    {
     "cell_type": "markdown",
     "metadata": {},
     "source": [
      "  * Lists (similar to strings)"
     ]
    },
    {
     "cell_type": "code",
     "collapsed": false,
     "input": [
      "[1, 2, 3] * 3"
     ],
     "language": "python",
     "metadata": {},
     "outputs": [
      {
       "metadata": {},
       "output_type": "pyout",
       "prompt_number": 49,
       "text": [
        "[1, 2, 3, 1, 2, 3, 1, 2, 3]"
       ]
      }
     ],
     "prompt_number": 49
    },
    {
     "cell_type": "code",
     "collapsed": false,
     "input": [
      "(1, 2, 3) + (4, 5)"
     ],
     "language": "python",
     "metadata": {},
     "outputs": [
      {
       "metadata": {},
       "output_type": "pyout",
       "prompt_number": 228,
       "text": [
        "(1, 2, 3, 4, 5)"
       ]
      }
     ],
     "prompt_number": 228
    },
    {
     "cell_type": "markdown",
     "metadata": {},
     "source": [
      "  * NumPy arrays will overload operators and do different things!\n",
      "    Test in the interpreter whenever you are unsure."
     ]
    },
    {
     "cell_type": "heading",
     "level": 1,
     "metadata": {},
     "source": [
      "Indentation"
     ]
    },
    {
     "cell_type": "markdown",
     "metadata": {},
     "source": [
      "Indentation is not optional in Python.\n",
      "It determines control flow scopes!\n",
      "\n",
      "### Matlab\n",
      "```matlab\n",
      "if x\n",
      "    f();\n",
      "elseif y\n",
      "    g();\n",
      "end\n",
      "for x = y\n",
      "    disp('foo');\n",
      "end\n",
      "if q\n",
      "end\n",
      "```\n",
      "### Python\n",
      "```python\n",
      "if x:\n",
      "    f()\n",
      "elif y:\n",
      "    g()\n",
      "for x in y:\n",
      "    print('foo')\n",
      "if q:\n",
      "    pass # Here we need the no-operation operator \"pass\" or we'll get syntax errors\n",
      "```\n",
      "\n",
      "Sticking to 4 spaces per indentation is *strongly* encouraged."
     ]
    },
    {
     "cell_type": "heading",
     "level": 1,
     "metadata": {},
     "source": [
      "Conditionals"
     ]
    },
    {
     "cell_type": "markdown",
     "metadata": {},
     "source": [
      "* Not much to say here:"
     ]
    },
    {
     "cell_type": "code",
     "collapsed": false,
     "input": [
      "if False:\n",
      "    print('Stuff here')\n",
      "elif True:\n",
      "    print('Lets print')\n",
      "    print('many lines')\n",
      "else: print('Good bye!')"
     ],
     "language": "python",
     "metadata": {},
     "outputs": [
      {
       "output_type": "stream",
       "stream": "stdout",
       "text": [
        "Lets print\n",
        "many lines\n"
       ]
      }
     ],
     "prompt_number": 143
    },
    {
     "cell_type": "code",
     "collapsed": false,
     "input": [
      "x = 1 if False else 2\n",
      "print(x)"
     ],
     "language": "python",
     "metadata": {},
     "outputs": [
      {
       "output_type": "stream",
       "stream": "stdout",
       "text": [
        "2\n"
       ]
      }
     ],
     "prompt_number": 144
    },
    {
     "cell_type": "heading",
     "level": 2,
     "metadata": {},
     "source": [
      "Boolean operations"
     ]
    },
    {
     "cell_type": "markdown",
     "metadata": {},
     "source": [
      "* Operators"
     ]
    },
    {
     "cell_type": "code",
     "collapsed": true,
     "input": [
      "print( 1 in [1,2,3], 7 not in (4,3,5), 'W' in 'World' )\n",
      "print( 6 != 5, 6 == 5 )\n",
      "print( 6 >= 5, 6 <= 5 )\n",
      "print( 6 >  5, 6 <  5 )"
     ],
     "language": "python",
     "metadata": {},
     "outputs": [
      {
       "output_type": "stream",
       "stream": "stdout",
       "text": [
        "True True True\n",
        "True False\n",
        "True False\n",
        "True False\n"
       ]
      }
     ],
     "prompt_number": 8
    },
    {
     "cell_type": "code",
     "collapsed": true,
     "input": [
      "print( True or False )\n",
      "print( True and False )\n",
      "print( not True )"
     ],
     "language": "python",
     "metadata": {},
     "outputs": [
      {
       "output_type": "stream",
       "stream": "stdout",
       "text": [
        "True\n",
        "False\n",
        "False\n"
       ]
      }
     ],
     "prompt_number": 20
    },
    {
     "cell_type": "heading",
     "level": 1,
     "metadata": {},
     "source": [
      "For-loops"
     ]
    },
    {
     "cell_type": "markdown",
     "metadata": {},
     "source": [
      "  * Looping over ranges.\n",
      "    Similar to Matlabs colon operator\n",
      "    \n",
      "    `range(a, b, c) ~ a : c : (b-1) `"
     ]
    },
    {
     "cell_type": "code",
     "collapsed": false,
     "input": [
      "for i in range(5):\n",
      "    print(i, end=', ')"
     ],
     "language": "python",
     "metadata": {},
     "outputs": [
      {
       "output_type": "stream",
       "stream": "stdout",
       "text": [
        "0, 1, 2, 3, 4, "
       ]
      }
     ],
     "prompt_number": 51
    },
    {
     "cell_type": "code",
     "collapsed": false,
     "input": [
      "for i in range(1, 10, 2):\n",
      "    print(i, end=', ')"
     ],
     "language": "python",
     "metadata": {},
     "outputs": [
      {
       "output_type": "stream",
       "stream": "stdout",
       "text": [
        "1, 3, 5, 7, 9, "
       ]
      }
     ],
     "prompt_number": 52
    },
    {
     "cell_type": "markdown",
     "metadata": {},
     "source": [
      "* You can directly loop over values of iteratable containers"
     ]
    },
    {
     "cell_type": "code",
     "collapsed": false,
     "input": [
      "foo = ['This', 'is', 'a', 'list']\n",
      "for x in foo:\n",
      "    print(x)"
     ],
     "language": "python",
     "metadata": {},
     "outputs": [
      {
       "output_type": "stream",
       "stream": "stdout",
       "text": [
        "This\n",
        "is\n",
        "a\n",
        "list\n"
       ]
      }
     ],
     "prompt_number": 17
    },
    {
     "cell_type": "markdown",
     "metadata": {},
     "source": [
      "* Looping over dictionaries it loops over the keys"
     ]
    },
    {
     "cell_type": "code",
     "collapsed": false,
     "input": [
      "foo = {'John': 37, 'Sara': 25, 'Lisa': 45}\n",
      "for x in foo:\n",
      "    print(x)"
     ],
     "language": "python",
     "metadata": {},
     "outputs": [
      {
       "output_type": "stream",
       "stream": "stdout",
       "text": [
        "John\n",
        "Lisa\n",
        "Sara\n"
       ]
      }
     ],
     "prompt_number": 20
    },
    {
     "cell_type": "markdown",
     "metadata": {},
     "source": [
      "* unless you specify otherwise"
     ]
    },
    {
     "cell_type": "code",
     "collapsed": false,
     "input": [
      "foo = {'John': 37, 'Sara': 25, 'Lisa': 45}\n",
      "for x in foo.items():\n",
      "    print(x)"
     ],
     "language": "python",
     "metadata": {},
     "outputs": [
      {
       "output_type": "stream",
       "stream": "stdout",
       "text": [
        "('John', 37)\n",
        "('Lisa', 45)\n",
        "('Sara', 25)\n"
       ]
      }
     ],
     "prompt_number": 151
    },
    {
     "cell_type": "markdown",
     "metadata": {},
     "source": [
      "* We can also directly unpack variables in for-loops"
     ]
    },
    {
     "cell_type": "code",
     "collapsed": false,
     "input": [
      "for x, y in foo.items():\n",
      "    print(x, \"is\", y, \"years old\")"
     ],
     "language": "python",
     "metadata": {},
     "outputs": [
      {
       "output_type": "stream",
       "stream": "stdout",
       "text": [
        "John is 37 years old\n",
        "Lisa is 45 years old\n",
        "Sara is 25 years old\n"
       ]
      }
     ],
     "prompt_number": 152
    },
    {
     "cell_type": "markdown",
     "metadata": {},
     "source": [
      "* If you need both the index, and the value, you can use the convenient `enumerate` function"
     ]
    },
    {
     "cell_type": "code",
     "collapsed": false,
     "input": [
      "foo = ['This', 'is', 'a', 'list']\n",
      "for y, x in enumerate(foo):\n",
      "    print('counter is', y, 'and foo is', x)"
     ],
     "language": "python",
     "metadata": {},
     "outputs": [
      {
       "output_type": "stream",
       "stream": "stdout",
       "text": [
        "counter is 0 and foo is This\n",
        "counter is 1 and foo is is\n",
        "counter is 2 and foo is a\n",
        "counter is 3 and foo is list\n"
       ]
      }
     ],
     "prompt_number": 153
    },
    {
     "cell_type": "markdown",
     "metadata": {},
     "source": [
      "* If you need to loop over 2 sequences at the same time you can use the `zip` function that zips multiple lists into a sequence with tuples"
     ]
    },
    {
     "cell_type": "code",
     "collapsed": false,
     "input": [
      "x = [3, 7, 4, 9, 3, 0]\n",
      "y = \"qwerty\"\n",
      "for z in zip(x,y):\n",
      "    print(z)"
     ],
     "language": "python",
     "metadata": {},
     "outputs": [
      {
       "output_type": "stream",
       "stream": "stdout",
       "text": [
        "(3, 'q')\n",
        "(7, 'w')\n",
        "(4, 'e')\n",
        "(9, 'r')\n",
        "(3, 't')\n",
        "(0, 'y')\n"
       ]
      }
     ],
     "prompt_number": 161
    },
    {
     "cell_type": "markdown",
     "metadata": {},
     "source": [
      "* For performance, `zip` doesn't actually create a list, but a sequence that dynamically constructs tuples"
     ]
    },
    {
     "cell_type": "code",
     "collapsed": false,
     "input": [
      "z = zip(x,y)\n",
      "print(z)\n",
      "print(z[0])"
     ],
     "language": "python",
     "metadata": {},
     "outputs": [
      {
       "output_type": "stream",
       "stream": "stdout",
       "text": [
        "<zip object at 0x7f7f96b97148>\n"
       ]
      },
      {
       "ename": "TypeError",
       "evalue": "'zip' object is not subscriptable",
       "output_type": "pyerr",
       "traceback": [
        "\u001b[1;31m---------------------------------------------------------------------------\u001b[0m\n\u001b[1;31mTypeError\u001b[0m                                 Traceback (most recent call last)",
        "\u001b[1;32m<ipython-input-168-f78a511124e2>\u001b[0m in \u001b[0;36m<module>\u001b[1;34m()\u001b[0m\n\u001b[0;32m      1\u001b[0m \u001b[0mz\u001b[0m \u001b[1;33m=\u001b[0m \u001b[0mzip\u001b[0m\u001b[1;33m(\u001b[0m\u001b[0mx\u001b[0m\u001b[1;33m,\u001b[0m\u001b[0my\u001b[0m\u001b[1;33m)\u001b[0m\u001b[1;33m\u001b[0m\u001b[0m\n\u001b[0;32m      2\u001b[0m \u001b[0mprint\u001b[0m\u001b[1;33m(\u001b[0m\u001b[0mz\u001b[0m\u001b[1;33m)\u001b[0m\u001b[1;33m\u001b[0m\u001b[0m\n\u001b[1;32m----> 3\u001b[1;33m \u001b[0mprint\u001b[0m\u001b[1;33m(\u001b[0m\u001b[0mz\u001b[0m\u001b[1;33m[\u001b[0m\u001b[1;36m0\u001b[0m\u001b[1;33m]\u001b[0m\u001b[1;33m)\u001b[0m\u001b[1;33m\u001b[0m\u001b[0m\n\u001b[0m",
        "\u001b[1;31mTypeError\u001b[0m: 'zip' object is not subscriptable"
       ]
      }
     ],
     "prompt_number": 168
    },
    {
     "cell_type": "markdown",
     "metadata": {},
     "source": [
      "* If you really need the list, you can construct one, using `list`"
     ]
    },
    {
     "cell_type": "code",
     "collapsed": false,
     "input": [
      "z = list(zip(x,y))\n",
      "print(z)"
     ],
     "language": "python",
     "metadata": {},
     "outputs": [
      {
       "output_type": "stream",
       "stream": "stdout",
       "text": [
        "[(3, 'q'), (7, 'w'), (4, 'e'), (9, 'r'), (3, 't'), (0, 'y')]\n"
       ]
      }
     ],
     "prompt_number": 170
    },
    {
     "cell_type": "markdown",
     "metadata": {},
     "source": [
      "* You can loop over all types of sequences and containers; Lists, sets, tuples, strings, files"
     ]
    },
    {
     "cell_type": "heading",
     "level": 1,
     "metadata": {},
     "source": [
      "While loops"
     ]
    },
    {
     "cell_type": "markdown",
     "metadata": {},
     "source": [
      "* Not much to say about loops\n",
      "```python\n",
      "while condition:\n",
      "    do_stuff\n",
      "```\n",
      "\n",
      "* `break` and `continue` work like they do in Matlab"
     ]
    },
    {
     "cell_type": "heading",
     "level": 1,
     "metadata": {},
     "source": [
      "Single statement, single line"
     ]
    },
    {
     "cell_type": "markdown",
     "metadata": {},
     "source": [
      "* `if`, `while`, `for` etc. can all be written in a single line if there is just 1 statement inside the block. E.g."
     ]
    },
    {
     "cell_type": "code",
     "collapsed": false,
     "input": [
      "if 3 > 0 : print('It works!')"
     ],
     "language": "python",
     "metadata": {},
     "outputs": [
      {
       "output_type": "stream",
       "stream": "stdout",
       "text": [
        "It works!\n"
       ]
      }
     ],
     "prompt_number": 135
    },
    {
     "cell_type": "heading",
     "level": 1,
     "metadata": {},
     "source": [
      "List comprehensions"
     ]
    },
    {
     "cell_type": "markdown",
     "metadata": {},
     "source": [
      "* Just a short, convenient syntax for creating lists"
     ]
    },
    {
     "cell_type": "code",
     "collapsed": false,
     "input": [
      "print( [ k**2 for k in range(5) ] )"
     ],
     "language": "python",
     "metadata": {},
     "outputs": [
      {
       "output_type": "stream",
       "stream": "stdout",
       "text": [
        "[0, 1, 4, 9, 16]\n"
       ]
      }
     ],
     "prompt_number": 95
    },
    {
     "cell_type": "code",
     "collapsed": false,
     "input": [
      "print( [ k**2 for k in range(10) if k % 2 != 0] )"
     ],
     "language": "python",
     "metadata": {},
     "outputs": [
      {
       "output_type": "stream",
       "stream": "stdout",
       "text": [
        "[1, 9, 25, 49, 81]\n"
       ]
      }
     ],
     "prompt_number": 232
    },
    {
     "cell_type": "markdown",
     "metadata": {},
     "source": [
      "* Also works for sets and dictionaries"
     ]
    },
    {
     "cell_type": "code",
     "collapsed": false,
     "input": [
      "print(  { k**2 for k in range(10) } )"
     ],
     "language": "python",
     "metadata": {},
     "outputs": [
      {
       "output_type": "stream",
       "stream": "stdout",
       "text": [
        "{0, 1, 64, 4, 36, 9, 16, 49, 81, 25}\n"
       ]
      }
     ],
     "prompt_number": 106
    },
    {
     "cell_type": "code",
     "collapsed": false,
     "input": [
      "s = ['John', 'Jeff', 'Carl']\n",
      "print( { s[k]:k**2 for k in range(3) })"
     ],
     "language": "python",
     "metadata": {},
     "outputs": [
      {
       "output_type": "stream",
       "stream": "stdout",
       "text": [
        "{'John': 0, 'Jeff': 1, 'Carl': 4}\n"
       ]
      }
     ],
     "prompt_number": 229
    },
    {
     "cell_type": "heading",
     "level": 1,
     "metadata": {},
     "source": [
      "Functions"
     ]
    },
    {
     "cell_type": "heading",
     "level": 2,
     "metadata": {},
     "source": [
      "Return values"
     ]
    },
    {
     "cell_type": "markdown",
     "metadata": {},
     "source": [
      "* Standard procedure for multiple return values are to use a tuple:"
     ]
    },
    {
     "cell_type": "code",
     "collapsed": false,
     "input": [
      "def multiReturnFunction(x):\n",
      "    return (x, x**2, x**3)\n",
      "# Alternative syntax: return x, x**2, x**3"
     ],
     "language": "python",
     "metadata": {},
     "outputs": [],
     "prompt_number": 6
    },
    {
     "cell_type": "code",
     "collapsed": true,
     "input": [
      "x = multiReturnFunction(3)\n",
      "print('x =', x)\n",
      "a, b, c = multiReturnFunction(3)\n",
      "print('a =', a, '\\nb =', b, '\\nc =', c)"
     ],
     "language": "python",
     "metadata": {},
     "outputs": [
      {
       "output_type": "stream",
       "stream": "stdout",
       "text": [
        "x = (3, 9, 27)\n",
        "a = 3 \n",
        "b = 9 \n",
        "c = 27\n"
       ]
      }
     ],
     "prompt_number": 54
    },
    {
     "cell_type": "markdown",
     "metadata": {},
     "source": [
      "* Wrong number of return arguments will lead to errors."
     ]
    },
    {
     "cell_type": "code",
     "collapsed": true,
     "input": [
      "a, b = multiReturnFunction(3)"
     ],
     "language": "python",
     "metadata": {},
     "outputs": [
      {
       "ename": "ValueError",
       "evalue": "too many values to unpack (expected 2)",
       "output_type": "pyerr",
       "traceback": [
        "\u001b[1;31m---------------------------------------------------------------------------\u001b[0m\n\u001b[1;31mValueError\u001b[0m                                Traceback (most recent call last)",
        "\u001b[1;32m<ipython-input-55-06c17a644eca>\u001b[0m in \u001b[0;36m<module>\u001b[1;34m()\u001b[0m\n\u001b[1;32m----> 1\u001b[1;33m \u001b[0ma\u001b[0m\u001b[1;33m,\u001b[0m \u001b[0mb\u001b[0m \u001b[1;33m=\u001b[0m \u001b[0mmultiReturnFunction\u001b[0m\u001b[1;33m(\u001b[0m\u001b[1;36m3\u001b[0m\u001b[1;33m)\u001b[0m\u001b[1;33m\u001b[0m\u001b[0m\n\u001b[0m",
        "\u001b[1;31mValueError\u001b[0m: too many values to unpack (expected 2)"
       ]
      }
     ],
     "prompt_number": 55
    },
    {
     "cell_type": "heading",
     "level": 2,
     "metadata": {},
     "source": [
      "Optional arguments"
     ]
    },
    {
     "cell_type": "markdown",
     "metadata": {},
     "source": [
      " * Has to be in the end of the list"
     ]
    },
    {
     "cell_type": "code",
     "collapsed": false,
     "input": [
      "def myFunction(a, b=2, c=3):\n",
      "   return a + b**c"
     ],
     "language": "python",
     "metadata": {},
     "outputs": [],
     "prompt_number": 77
    },
    {
     "cell_type": "markdown",
     "metadata": {},
     "source": [
      "* These all give the same result"
     ]
    },
    {
     "cell_type": "code",
     "collapsed": true,
     "input": [
      "print(myFunction(1, 2, 3))\n",
      "print(myFunction(1, 2))\n",
      "print(myFunction(1))"
     ],
     "language": "python",
     "metadata": {},
     "outputs": [
      {
       "output_type": "stream",
       "stream": "stdout",
       "text": [
        "9\n",
        "9\n",
        "9\n"
       ]
      }
     ],
     "prompt_number": 78
    },
    {
     "cell_type": "heading",
     "level": 2,
     "metadata": {},
     "source": [
      "Named arguments"
     ]
    },
    {
     "cell_type": "markdown",
     "metadata": {},
     "source": [
      " * You set function parameters by name"
     ]
    },
    {
     "cell_type": "code",
     "collapsed": false,
     "input": [
      "print(myFunction(a=1, b=2, c=3))\n",
      "print(myFunction(  1, b=2, c=3))\n",
      "print(myFunction(  1,   2, c=3))\n",
      "print(myFunction(  1, c=3, b=2))\n",
      "print(myFunction(  1, b=2))\n",
      "print(myFunction(  1, c=3))\n",
      "print(myFunction(a=1, c=3))"
     ],
     "language": "python",
     "metadata": {},
     "outputs": [
      {
       "output_type": "stream",
       "stream": "stdout",
       "text": [
        "9\n",
        "9\n",
        "9\n",
        "9\n",
        "9\n",
        "9\n",
        "9\n"
       ]
      }
     ],
     "prompt_number": 79
    },
    {
     "cell_type": "code",
     "collapsed": false,
     "input": [
      "myFunction(a=1, 2, 3) # Not OK!\n",
      "myFunction(1, b=2, 3) # Not OK!"
     ],
     "language": "python",
     "metadata": {},
     "outputs": [
      {
       "ename": "SyntaxError",
       "evalue": "non-keyword arg after keyword arg (<ipython-input-80-bc868874482e>, line 1)",
       "output_type": "pyerr",
       "traceback": [
        "\u001b[1;36m  File \u001b[1;32m\"<ipython-input-80-bc868874482e>\"\u001b[1;36m, line \u001b[1;32m1\u001b[0m\n\u001b[1;33m    myFunction(a=1, 2, 3) # Not OK!\u001b[0m\n\u001b[1;37m                   ^\u001b[0m\n\u001b[1;31mSyntaxError\u001b[0m\u001b[1;31m:\u001b[0m non-keyword arg after keyword arg\n"
       ]
      }
     ],
     "prompt_number": 80
    },
    {
     "cell_type": "heading",
     "level": 2,
     "metadata": {},
     "source": [
      "Argument expansion"
     ]
    },
    {
     "cell_type": "markdown",
     "metadata": {},
     "source": [
      "* Lists, tuples and dictionaries can be expanded to function arguments conveniently"
     ]
    },
    {
     "cell_type": "code",
     "collapsed": false,
     "input": [
      "def foo(a, b, c):\n",
      "    return a*b**c"
     ],
     "language": "python",
     "metadata": {},
     "outputs": [],
     "prompt_number": 210
    },
    {
     "cell_type": "code",
     "collapsed": true,
     "input": [
      "x = [2, 3, 4]\n",
      "print(  foo(x[0], x[1], x[2])  )\n",
      "print(  foo(*x)  ) # Uses: \"a, b, c = x\""
     ],
     "language": "python",
     "metadata": {},
     "outputs": [
      {
       "output_type": "stream",
       "stream": "stdout",
       "text": [
        "162\n",
        "162\n"
       ]
      }
     ],
     "prompt_number": 211
    },
    {
     "cell_type": "heading",
     "level": 2,
     "metadata": {},
     "source": [
      "Function scope and local variables"
     ]
    },
    {
     "cell_type": "code",
     "collapsed": false,
     "input": [
      "c = 123\n",
      "def foo_a(a):\n",
      "    return c + a\n",
      "\n",
      "def foo_b(a):\n",
      "    c = 14 # This will be a new, local, variable (different from c above)\n",
      "    return c + a\n",
      "\n",
      "def foo_c(a):\n",
      "    c += 17 # This won't work, you must make your own local variable (functions are not allowed to modify )\n",
      "    return c + a"
     ],
     "language": "python",
     "metadata": {},
     "outputs": [],
     "prompt_number": 247
    },
    {
     "cell_type": "code",
     "collapsed": false,
     "input": [
      "print(foo_a(17))\n",
      "print(foo_b(17))\n",
      "print(c) # The variable c outside the function is unchanged"
     ],
     "language": "python",
     "metadata": {},
     "outputs": [
      {
       "output_type": "stream",
       "stream": "stdout",
       "text": [
        "140\n",
        "31\n",
        "123\n"
       ]
      }
     ],
     "prompt_number": 248
    },
    {
     "cell_type": "code",
     "collapsed": false,
     "input": [
      "print(foo_c(17))"
     ],
     "language": "python",
     "metadata": {},
     "outputs": [
      {
       "ename": "UnboundLocalError",
       "evalue": "local variable 'c' referenced before assignment",
       "output_type": "pyerr",
       "traceback": [
        "\u001b[1;31m---------------------------------------------------------------------------\u001b[0m\n\u001b[1;31mUnboundLocalError\u001b[0m                         Traceback (most recent call last)",
        "\u001b[1;32m<ipython-input-246-88aab1b9d66d>\u001b[0m in \u001b[0;36m<module>\u001b[1;34m()\u001b[0m\n\u001b[1;32m----> 1\u001b[1;33m \u001b[0mprint\u001b[0m\u001b[1;33m(\u001b[0m\u001b[0mfoo_c\u001b[0m\u001b[1;33m(\u001b[0m\u001b[1;36m17\u001b[0m\u001b[1;33m)\u001b[0m\u001b[1;33m)\u001b[0m\u001b[1;33m\u001b[0m\u001b[0m\n\u001b[0m",
        "\u001b[1;32m<ipython-input-244-92ed24150b1f>\u001b[0m in \u001b[0;36mfoo_c\u001b[1;34m(a)\u001b[0m\n\u001b[0;32m      8\u001b[0m \u001b[1;33m\u001b[0m\u001b[0m\n\u001b[0;32m      9\u001b[0m \u001b[1;32mdef\u001b[0m \u001b[0mfoo_c\u001b[0m\u001b[1;33m(\u001b[0m\u001b[0ma\u001b[0m\u001b[1;33m)\u001b[0m\u001b[1;33m:\u001b[0m\u001b[1;33m\u001b[0m\u001b[0m\n\u001b[1;32m---> 10\u001b[1;33m     \u001b[0mc\u001b[0m \u001b[1;33m+=\u001b[0m \u001b[1;36m17\u001b[0m \u001b[1;31m# This won't work, you must make your own local variable (functions are not allowed to modify )\u001b[0m\u001b[1;33m\u001b[0m\u001b[0m\n\u001b[0m\u001b[0;32m     11\u001b[0m     \u001b[1;32mreturn\u001b[0m \u001b[0mc\u001b[0m \u001b[1;33m+\u001b[0m \u001b[0ma\u001b[0m\u001b[1;33m\u001b[0m\u001b[0m\n",
        "\u001b[1;31mUnboundLocalError\u001b[0m: local variable 'c' referenced before assignment"
       ]
      }
     ],
     "prompt_number": 246
    },
    {
     "cell_type": "heading",
     "level": 1,
     "metadata": {},
     "source": [
      "Anonymous functions (lambda functions)"
     ]
    },
    {
     "cell_type": "markdown",
     "metadata": {},
     "source": [
      "* Like Matlabs anonymous functions `@(x) x^2` we can also create functions inline"
     ]
    },
    {
     "cell_type": "code",
     "collapsed": false,
     "input": [
      "def axpy(a, x, y):  # axpy is a standard name for a*x + y (common in lin.alg. packages)\n",
      "    return a*x + y"
     ],
     "language": "python",
     "metadata": {},
     "outputs": [],
     "prompt_number": 128
    },
    {
     "cell_type": "code",
     "collapsed": false,
     "input": [
      "f = lambda a, x, y : a*x + y"
     ],
     "language": "python",
     "metadata": {},
     "outputs": [],
     "prompt_number": 129
    },
    {
     "cell_type": "code",
     "collapsed": false,
     "input": [
      "print( axpy(2, 3, 4) )\n",
      "print( f(2, 3, 4) )"
     ],
     "language": "python",
     "metadata": {},
     "outputs": [
      {
       "output_type": "stream",
       "stream": "stdout",
       "text": [
        "10\n",
        "10\n"
       ]
      }
     ],
     "prompt_number": 131
    },
    {
     "cell_type": "markdown",
     "metadata": {},
     "source": [
      "* These are essentially identical except for the way they were constructed"
     ]
    },
    {
     "cell_type": "code",
     "collapsed": false,
     "input": [
      "type(f) == type(axpy)"
     ],
     "language": "python",
     "metadata": {},
     "outputs": [
      {
       "metadata": {},
       "output_type": "pyout",
       "prompt_number": 132,
       "text": [
        "True"
       ]
      }
     ],
     "prompt_number": 132
    },
    {
     "cell_type": "heading",
     "level": 1,
     "metadata": {},
     "source": [
      "References and copies"
     ]
    },
    {
     "cell_type": "markdown",
     "metadata": {},
     "source": [
      "* **Assignments only rebinds the reference in Python!**"
     ]
    },
    {
     "cell_type": "markdown",
     "metadata": {},
     "source": [
      "What's going on here?"
     ]
    },
    {
     "cell_type": "code",
     "collapsed": true,
     "input": [
      "x = [1,2,3]    # Create a list object and binds x to that object.\n",
      "y = x          # Binds y to that same object x\n",
      "y += [4,5]     # +=  for lists means \"append to list\"\n",
      "print(x)"
     ],
     "language": "python",
     "metadata": {},
     "outputs": [
      {
       "output_type": "stream",
       "stream": "stdout",
       "text": [
        "[1, 2, 3, 4, 5]\n"
       ]
      }
     ],
     "prompt_number": 52
    },
    {
     "cell_type": "code",
     "collapsed": true,
     "input": [
      "x = [1,2,3]    # Create a list object and bind x to that object.\n",
      "y = x          # Bind y to that same object\n",
      "y = y + [4,5]  # Create a new object from the list+list operation and re-bind y to that new object\n",
      "print(x)"
     ],
     "language": "python",
     "metadata": {},
     "outputs": [
      {
       "output_type": "stream",
       "stream": "stdout",
       "text": [
        "[1, 2, 3]\n"
       ]
      }
     ],
     "prompt_number": 67
    },
    {
     "cell_type": "code",
     "collapsed": true,
     "input": [
      "x = [1,2,3]    # Create a list object and bind x to that object\n",
      "z = (x, x)     # Create a tuple object which contains references which are bound to the same object\n",
      "print('1:', z)\n",
      "x += [4,5]     # Append to list\n",
      "print('2:', z)\n",
      "x = [7,8]      # Rebind name x to a new list\n",
      "print('3:', z)"
     ],
     "language": "python",
     "metadata": {},
     "outputs": [
      {
       "output_type": "stream",
       "stream": "stdout",
       "text": [
        "1: ([1, 2, 3], [1, 2, 3])\n",
        "2: ([1, 2, 3, 4, 5], [1, 2, 3, 4, 5])\n",
        "3: ([1, 2, 3, 4, 5], [1, 2, 3, 4, 5])\n"
       ]
      }
     ],
     "prompt_number": 250
    },
    {
     "cell_type": "markdown",
     "metadata": {},
     "source": [
      "Well, the variable `z` has actually not changed (tuples are immutable). It's still pointing to the same two list-objects."
     ]
    },
    {
     "cell_type": "code",
     "collapsed": true,
     "input": [
      "x = [1,2,3]\n",
      "y = [x, x, [7,8,9]]\n",
      "print(y)"
     ],
     "language": "python",
     "metadata": {},
     "outputs": [
      {
       "output_type": "stream",
       "stream": "stdout",
       "text": [
        "[[1, 2, 3], [1, 2, 3], [7, 8, 9]]\n"
       ]
      }
     ],
     "prompt_number": 242
    },
    {
     "cell_type": "markdown",
     "metadata": {},
     "source": [
      "What will happen if we do:"
     ]
    },
    {
     "cell_type": "code",
     "collapsed": true,
     "input": [
      "y[0] = [4,5,6]\n",
      "print(x)\n",
      "print(y)"
     ],
     "language": "python",
     "metadata": {},
     "outputs": [
      {
       "output_type": "stream",
       "stream": "stdout",
       "text": [
        "[1, 2, 3]\n",
        "[[4, 5, 6], [1, 2, 3], [7, 8, 9]]\n"
       ]
      }
     ],
     "prompt_number": 243
    },
    {
     "cell_type": "markdown",
     "metadata": {},
     "source": [
      "The equal sign is the \"rebind variable\" operation!"
     ]
    },
    {
     "cell_type": "heading",
     "level": 2,
     "metadata": {},
     "source": [
      "Functions and references"
     ]
    },
    {
     "cell_type": "markdown",
     "metadata": {},
     "source": [
      "* Same behavior with references when it comes to function arguments"
     ]
    },
    {
     "cell_type": "code",
     "collapsed": true,
     "input": [
      "def foo(x):\n",
      "    x[0]= 42\n",
      "\n",
      "y = [1,2,3]\n",
      "foo(y)      # This means foo(x = y), and x = y behaves as described earlier\n",
      "print(y)"
     ],
     "language": "python",
     "metadata": {},
     "outputs": [
      {
       "output_type": "stream",
       "stream": "stdout",
       "text": [
        "[42, 2, 3]\n"
       ]
      }
     ],
     "prompt_number": 240
    },
    {
     "cell_type": "markdown",
     "metadata": {},
     "source": [
      "* The equal sign = is variable name rebinding, it doesn't modify the object that x was bound to previously."
     ]
    },
    {
     "cell_type": "code",
     "collapsed": false,
     "input": [
      "def foo(x):\n",
      "    x = [4,5,6] \n",
      "\n",
      "y = [1,2,3]\n",
      "foo(y)\n",
      "print(y)"
     ],
     "language": "python",
     "metadata": {},
     "outputs": [
      {
       "output_type": "stream",
       "stream": "stdout",
       "text": [
        "[1, 2, 3]\n"
       ]
      }
     ],
     "prompt_number": 252
    }
   ],
   "metadata": {}
  }
 ]
}
{
 "metadata": {
  "name": "",
  "signature": "sha256:4d9442d32effc3a72160dcc79358d0bf4d14f96cad25f2155c677a84d55cd77d"
 },
 "nbformat": 3,
 "nbformat_minor": 0,
 "worksheets": [
  {
   "cells": [
    {
     "cell_type": "markdown",
     "metadata": {},
     "source": [
      "Lecture 8 will cover polymorphism, inheritance and abstract methods in OOP.\n",
      "\n",
      "Reference\n",
      " * [1] Chapter 10\n",
      " * [2] Section 9.5"
     ]
    },
    {
     "cell_type": "heading",
     "level": 1,
     "metadata": {},
     "source": [
      "A bit of repetition from last lecture"
     ]
    },
    {
     "cell_type": "heading",
     "level": 3,
     "metadata": {},
     "source": [
      "Clearifying the `self` argument"
     ]
    },
    {
     "cell_type": "code",
     "collapsed": false,
     "input": [
      "class MyClass:\n",
      "    def __init__(self, a, b, c):\n",
      "        self.d = a + b + c\n",
      "    \n",
      "    def do_thing(self, e, f):\n",
      "        return self.d + e + f"
     ],
     "language": "python",
     "metadata": {},
     "outputs": [],
     "prompt_number": 88
    },
    {
     "cell_type": "code",
     "collapsed": false,
     "input": [
      "x = MyClass(1, 2, 3)\n",
      "# Calling a method on object x:\n",
      "print( x.do_thing(5, 6) )\n",
      "# is equivalent to\n",
      "print( MyClass.do_thing(x, 5, 6) )"
     ],
     "language": "python",
     "metadata": {},
     "outputs": [
      {
       "output_type": "stream",
       "stream": "stdout",
       "text": [
        "17\n",
        "17\n"
       ]
      }
     ],
     "prompt_number": 90
    },
    {
     "cell_type": "heading",
     "level": 3,
     "metadata": {},
     "source": [
      "You almost always want the __init__ method"
     ]
    },
    {
     "cell_type": "markdown",
     "metadata": {},
     "source": [
      "You probably want to do:\n",
      "```python\n",
      "h = Hand()\n",
      "...\n",
      "h.add_card(c)\n",
      "...\n",
      "```\n",
      "So, you don't have all the cards from the start, and you don't have any input to the constructor.\n",
      "You still want the `__init__` method!"
     ]
    },
    {
     "cell_type": "code",
     "collapsed": false,
     "input": [
      "class Hand:\n",
      "    def __init__(self):\n",
      "        self.cards = [] # We almost always want to intialize variables.\n",
      "\n",
      "    def add_card(card):\n",
      "        self.cards.append(card)"
     ],
     "language": "python",
     "metadata": {},
     "outputs": [],
     "prompt_number": 91
    },
    {
     "cell_type": "heading",
     "level": 1,
     "metadata": {},
     "source": [
      "An appetizer!"
     ]
    },
    {
     "cell_type": "markdown",
     "metadata": {},
     "source": [
      "Simple inheritance in Python:"
     ]
    },
    {
     "cell_type": "code",
     "collapsed": false,
     "input": [
      "class Shape:\n",
      "    def compute_area(self):\n",
      "        # This is one common way to make an abstract method,\n",
      "        # though there isn't any special language features used here.\n",
      "        raise NotImplementedError(\"Missing compute_area implementation\")\n",
      "\n",
      "class Square(Shape): # The Square is a Shape\n",
      "    def __init__(self, x0, h):\n",
      "        self.x0 = x0\n",
      "        self.h = h\n",
      "\n",
      "    def compute_area(self): # Overloads the method from Shape\n",
      "        return self.h**2\n",
      "    \n",
      "class Circle(Shape): # The Circle is a shape\n",
      "    def __init__(self, x0, r):\n",
      "        self.x0 = x0\n",
      "        self.r = r\n",
      "\n",
      "    def compute_area(self): # Overload the method from Shape\n",
      "        from math import pi\n",
      "        return pi * self.r**2"
     ],
     "language": "python",
     "metadata": {},
     "outputs": [],
     "prompt_number": 17
    },
    {
     "cell_type": "code",
     "collapsed": false,
     "input": [
      "s = Square((0.,0.), 3.)\n",
      "c = Circle((5.,3.), 1.)\n",
      "print( s.compute_area() )\n",
      "print( c.compute_area() )"
     ],
     "language": "python",
     "metadata": {},
     "outputs": [
      {
       "output_type": "stream",
       "stream": "stdout",
       "text": [
        "9.0\n",
        "3.141592653589793\n"
       ]
      }
     ],
     "prompt_number": 18
    },
    {
     "cell_type": "heading",
     "level": 1,
     "metadata": {},
     "source": [
      "What is polymorphism?"
     ]
    },
    {
     "cell_type": "markdown",
     "metadata": {},
     "source": [
      "In programming languages and type theory, polymorphism (from Greek \u03c0\u03bf\u03bb\u03cd\u03c2, polys, \"many, much\" and \u03bc\u03bf\u03c1\u03c6\u03ae, morph\u0113, \"form, shape\") is the provision of a single interface to entities of different types. A polymorphic type is a type whose operations can also be applied to values of some other type, or types.\n",
      "\n",
      "*Thanks Wikipedia!* \n"
     ]
    },
    {
     "cell_type": "heading",
     "level": 2,
     "metadata": {},
     "source": [
      "Parametric polymorphism"
     ]
    },
    {
     "cell_type": "markdown",
     "metadata": {},
     "source": [
      "Also called generic (Java) or template (C++ or D) programming. It means we can write general functions for many possible types. This is automatically the case for all code in Python due to the dynamic typing system."
     ]
    },
    {
     "cell_type": "code",
     "collapsed": false,
     "input": [
      "def max(a, b):\n",
      "   return a if a > b else b\n",
      "\n",
      "# Works for anything that supports the less-than operator:\n",
      "print( max(3.4, 4.5) )\n",
      "print( max('Hello', 'World') )"
     ],
     "language": "python",
     "metadata": {},
     "outputs": [
      {
       "output_type": "stream",
       "stream": "stdout",
       "text": [
        "4.5\n",
        "World\n"
       ]
      }
     ],
     "prompt_number": 24
    },
    {
     "cell_type": "markdown",
     "metadata": {},
     "source": [
      "and we can compare this to a simple function in C\n",
      "```c\n",
      "void max(float a, float b) {\n",
      "    return a > b ? a : b;\n",
      "}\n",
      "```\n",
      "In C, we have to declare types (and we can't do parametric polymorphism without reverting to meta-programming)\n",
      "\n",
      "In C++, we could do things like\n",
      "```cpp\n",
      "template< typename T >\n",
      "T max(T a, T b) {\n",
      "    return a > b ? a : b;\n",
      "}\n",
      "```"
     ]
    },
    {
     "cell_type": "heading",
     "level": 2,
     "metadata": {},
     "source": [
      "Subtyping (or inclusion polymorphism)"
     ]
    },
    {
     "cell_type": "markdown",
     "metadata": {},
     "source": [
      "In OOP, this is usually just called *polymorphism*, and is achieved by *inheritance*.\n",
      "\n",
      "It might look like this:"
     ]
    },
    {
     "cell_type": "code",
     "collapsed": false,
     "input": [
      "class Animal:\n",
      "    pass\n",
      "\n",
      "class Dog(Animal):\n",
      "    pass\n",
      "\n",
      "class Bird(Animal):\n",
      "    pass\n",
      "\n",
      "class Hawk(Bird):\n",
      "    pass\n",
      "\n",
      "x = Hawk()\n",
      "print(\"A hawk is a type of animal -\", isinstance(x, Animal) )\n",
      "print(\"A hawk is a type of bird   -\", isinstance(x, Bird) )\n",
      "print(\"A hawk is a type of dog    -\", isinstance(x, Dog) )"
     ],
     "language": "python",
     "metadata": {},
     "outputs": [
      {
       "output_type": "stream",
       "stream": "stdout",
       "text": [
        "A hawk is a type of animal - True\n",
        "A hawk is a type of bird   - True\n",
        "A hawk is a type of dog    - False\n"
       ]
      }
     ],
     "prompt_number": 92
    },
    {
     "cell_type": "markdown",
     "metadata": {},
     "source": [
      "Python doesn't actually need this type of polymorphism very much thanks to it's automatic parametric polymorphism, however, it is nice to have as it helps to express intent and it makes things easier.\n",
      "\n",
      "In statically typed langauges, this is the primary type of polymorphism used. As a very simple example:\n",
      "\n",
      "```cpp\n",
      "vector< Shape > shapes = {Triangle(...), Rectangle(...), ... };\n",
      "\n",
      "float area = 0;\n",
      "for ( Shape &s : shapes ) { // Loop over all the shapes\n",
      "    area += s.computeArea() // All shapes are required to implement this method\n",
      "}\n",
      "printf(\"total area is %f\\n\", area);\n",
      "```"
     ]
    },
    {
     "cell_type": "heading",
     "level": 3,
     "metadata": {},
     "source": [
      "A note on the jargon"
     ]
    },
    {
     "cell_type": "markdown",
     "metadata": {},
     "source": [
      "```python\n",
      "class B(A):\n",
      "    ...\n",
      "```\n",
      "* B is a **subclass** of A, and A is a **superclass** of B\n",
      "* B is **derived** from the **base** class A"
     ]
    },
    {
     "cell_type": "heading",
     "level": 3,
     "metadata": {},
     "source": [
      "Inherited functionality"
     ]
    },
    {
     "cell_type": "markdown",
     "metadata": {},
     "source": [
      "Often the case is that you need to add another method to an existing object, and keep all the other functionality intact.\n",
      "\n",
      "In this example, we extend the standard `list` class with a new method `print_content` for convenience."
     ]
    },
    {
     "cell_type": "code",
     "collapsed": false,
     "input": [
      "class MyList(list):\n",
      "    def print_content(self):\n",
      "        for i, x in enumerate(self):\n",
      "            print(\"{}:\".format(i), x)"
     ],
     "language": "python",
     "metadata": {},
     "outputs": [],
     "prompt_number": 137
    },
    {
     "cell_type": "code",
     "collapsed": false,
     "input": [
      "x = MyList()\n",
      "x.append(\"Hello\")\n",
      "x.append(\"World\")\n",
      "x.append(\"Some other string\")\n",
      "x.sort()\n",
      "x.print_content()"
     ],
     "language": "python",
     "metadata": {},
     "outputs": [
      {
       "output_type": "stream",
       "stream": "stdout",
       "text": [
        "0: Hello\n",
        "1: Some other string\n",
        "2: World\n"
       ]
      }
     ],
     "prompt_number": 138
    },
    {
     "cell_type": "heading",
     "level": 3,
     "metadata": {},
     "source": [
      "Overloading methods"
     ]
    },
    {
     "cell_type": "markdown",
     "metadata": {},
     "source": [
      "Derived classes (classes that inherit from some base-class) can mostly be seen as specialization of the general base class. Therefore, it is very common that methods need to be amended.\n",
      "\n",
      "Very similar to the procedure of adding new methods (previous example), but we simply name the new method the same as the one we want to replace:"
     ]
    },
    {
     "cell_type": "code",
     "collapsed": false,
     "input": [
      "# class Fraction: <-- This is short version of Fraction(object):\n",
      "class Fraction(object):\n",
      "    def __init__(self, numerator, denominator):\n",
      "        self.numerator = numerator\n",
      "        self.denominator = denominator\n",
      "\n",
      "    # Overloading __str__ from the object.__str__\n",
      "    def __str__(self):\n",
      "        return \"{}/{}\".format(self.numerator, self.denominator)\n",
      "\n",
      "x = Fraction(3, 5)\n",
      "print(x) # Print will call str(x) which calls x.__str__()"
     ],
     "language": "python",
     "metadata": {},
     "outputs": [
      {
       "output_type": "stream",
       "stream": "stdout",
       "text": [
        "3/5\n"
       ]
      }
     ],
     "prompt_number": 196
    },
    {
     "cell_type": "heading",
     "level": 3,
     "metadata": {},
     "source": [
      "The `super` function"
     ]
    },
    {
     "cell_type": "code",
     "collapsed": false,
     "input": [
      "class Base:\n",
      "    def myMethod(self):\n",
      "        return \"Foo\"\n",
      "\n",
      "class Derived(Base):\n",
      "    def myMethod(self):\n",
      "        # super() refers to the superclass (in this case, Base)\n",
      "        return super().myMethod() + \"Bar\""
     ],
     "language": "python",
     "metadata": {},
     "outputs": [],
     "prompt_number": 186
    },
    {
     "cell_type": "code",
     "collapsed": false,
     "input": [
      "x = Derived()\n",
      "print( x.myMethod() )"
     ],
     "language": "python",
     "metadata": {},
     "outputs": [
      {
       "output_type": "stream",
       "stream": "stdout",
       "text": [
        "FooBar\n"
       ]
      }
     ],
     "prompt_number": 187
    },
    {
     "cell_type": "heading",
     "level": 4,
     "metadata": {},
     "source": [
      "The super function with multiple inheritance"
     ]
    },
    {
     "cell_type": "code",
     "collapsed": false,
     "input": [
      "class Base:\n",
      "    def my_method(self):\n",
      "        return \"Foo\"\n",
      "    \n",
      "class Base2:\n",
      "    def my_method(self):\n",
      "        return \"Bar\"\n",
      "\n",
      "class Derived(Base, Base2):\n",
      "    def my_method(self):\n",
      "        # super will refer to the first superclass that matches: Base\n",
      "        return super().my_method() + \"!\""
     ],
     "language": "python",
     "metadata": {},
     "outputs": [],
     "prompt_number": 189
    },
    {
     "cell_type": "code",
     "collapsed": false,
     "input": [
      "x = Derived()\n",
      "print( x.my_method() )"
     ],
     "language": "python",
     "metadata": {},
     "outputs": [
      {
       "output_type": "stream",
       "stream": "stdout",
       "text": [
        "Foo!\n"
       ]
      }
     ],
     "prompt_number": 183
    },
    {
     "cell_type": "code",
     "collapsed": false,
     "input": [
      "class Derived(Base, Base2):\n",
      "    def my_method(self):\n",
      "        # If we want Base2.my_method, then we have to be specific\n",
      "        return Base2.my_method(self) + \"!\""
     ],
     "language": "python",
     "metadata": {},
     "outputs": [],
     "prompt_number": 185
    },
    {
     "cell_type": "heading",
     "level": 3,
     "metadata": {},
     "source": [
      "Enforced functionality (abstract methods)"
     ]
    },
    {
     "cell_type": "markdown",
     "metadata": {},
     "source": [
      "Using the module `abc` we can get *abstract* methods:"
     ]
    },
    {
     "cell_type": "code",
     "collapsed": false,
     "input": [
      "import abc\n",
      " \n",
      "class Pizza(metaclass=abc.ABCMeta):\n",
      "    @abc.abstractmethod\n",
      "    def calories(self):\n",
      "        \"\"\" Returns the number of calories in the pizza \"\"\"\n",
      "\n",
      "class Margherita(Pizza):\n",
      "    def calories(self):\n",
      "        return 910\n",
      "\n",
      "class Vesuvio(Margherita):\n",
      "    def calories(self):\n",
      "        return 1100"
     ],
     "language": "python",
     "metadata": {},
     "outputs": [],
     "prompt_number": 76
    },
    {
     "cell_type": "markdown",
     "metadata": {},
     "source": [
      "If we don't overload the abstract methods, then we get a TypeError:"
     ]
    },
    {
     "cell_type": "code",
     "collapsed": false,
     "input": [
      "class KebabPizza(Pizza):\n",
      "    # Oops, forgot to overload \"calories\"!\n",
      "    pass"
     ],
     "language": "python",
     "metadata": {},
     "outputs": [],
     "prompt_number": 75
    },
    {
     "cell_type": "code",
     "collapsed": false,
     "input": [
      "p = KebabPizza()"
     ],
     "language": "python",
     "metadata": {},
     "outputs": [
      {
       "ename": "TypeError",
       "evalue": "Can't instantiate abstract class KebabPizza with abstract methods calories",
       "output_type": "pyerr",
       "traceback": [
        "\u001b[1;31m---------------------------------------------------------------------------\u001b[0m\n\u001b[1;31mTypeError\u001b[0m                                 Traceback (most recent call last)",
        "\u001b[1;32m<ipython-input-74-31c0b4b289b1>\u001b[0m in \u001b[0;36m<module>\u001b[1;34m()\u001b[0m\n\u001b[1;32m----> 1\u001b[1;33m \u001b[0mp\u001b[0m \u001b[1;33m=\u001b[0m \u001b[0mKebabPizza\u001b[0m\u001b[1;33m(\u001b[0m\u001b[1;33m)\u001b[0m\u001b[1;33m\u001b[0m\u001b[0m\n\u001b[0m",
        "\u001b[1;31mTypeError\u001b[0m: Can't instantiate abstract class KebabPizza with abstract methods calories"
       ]
      }
     ],
     "prompt_number": 74
    },
    {
     "cell_type": "markdown",
     "metadata": {},
     "source": [
      "Though in Python (due to the dynamic typing and Duck typing) the concept of base classes with abstract methods are not strictly necessary. The usual procedure is to just do:"
     ]
    },
    {
     "cell_type": "code",
     "collapsed": false,
     "input": [
      "class Pizza():\n",
      "    def calories(self):\n",
      "        \"\"\" Returns the number of calories in the pizza \"\"\"\n",
      "        # \"raise\" is a keyword for raising exceptions (throw) \n",
      "        # which aborts the program unless the caller cover the error handling.\n",
      "        raise NotImplementedError(\"Derived class didn't overload this method\")\n",
      "\n",
      "class Margherita(Pizza):\n",
      "    def calories(self):\n",
      "        return 910\n",
      "\n",
      "class Vesuvio(Margherita):\n",
      "    def calories(self):\n",
      "        return 1100"
     ],
     "language": "python",
     "metadata": {},
     "outputs": [],
     "prompt_number": 83
    },
    {
     "cell_type": "markdown",
     "metadata": {},
     "source": [
      "Now, this will work fine:"
     ]
    },
    {
     "cell_type": "code",
     "collapsed": false,
     "input": [
      "class KebabPizza(Pizza):\n",
      "    # Oops, forgot to overload \"calories\"!\n",
      "    pass\n",
      "\n",
      "p = KebabPizza()"
     ],
     "language": "python",
     "metadata": {},
     "outputs": [],
     "prompt_number": 84
    },
    {
     "cell_type": "markdown",
     "metadata": {},
     "source": [
      "As long as we don't try to call the missing method:"
     ]
    },
    {
     "cell_type": "code",
     "collapsed": false,
     "input": [
      "p.calories()"
     ],
     "language": "python",
     "metadata": {},
     "outputs": [
      {
       "ename": "NotImplementedError",
       "evalue": "Derived class didn't overload this method",
       "output_type": "pyerr",
       "traceback": [
        "\u001b[1;31m---------------------------------------------------------------------------\u001b[0m\n\u001b[1;31mNotImplementedError\u001b[0m                       Traceback (most recent call last)",
        "\u001b[1;32m<ipython-input-85-f5373d1977f5>\u001b[0m in \u001b[0;36m<module>\u001b[1;34m()\u001b[0m\n\u001b[1;32m----> 1\u001b[1;33m \u001b[0mp\u001b[0m\u001b[1;33m.\u001b[0m\u001b[0mcalories\u001b[0m\u001b[1;33m(\u001b[0m\u001b[1;33m)\u001b[0m\u001b[1;33m\u001b[0m\u001b[0m\n\u001b[0m",
        "\u001b[1;32m<ipython-input-83-908df811c50a>\u001b[0m in \u001b[0;36mcalories\u001b[1;34m(self)\u001b[0m\n\u001b[0;32m      4\u001b[0m         \u001b[1;31m# \"raise\" is a keyword for raising exceptions (throw)\u001b[0m\u001b[1;33m\u001b[0m\u001b[1;33m\u001b[0m\u001b[0m\n\u001b[0;32m      5\u001b[0m         \u001b[1;31m# which aborts the program unless the caller cover the error handling.\u001b[0m\u001b[1;33m\u001b[0m\u001b[1;33m\u001b[0m\u001b[0m\n\u001b[1;32m----> 6\u001b[1;33m         \u001b[1;32mraise\u001b[0m \u001b[0mNotImplementedError\u001b[0m\u001b[1;33m(\u001b[0m\u001b[1;34m\"Derived class didn't overload this method\"\u001b[0m\u001b[1;33m)\u001b[0m\u001b[1;33m\u001b[0m\u001b[0m\n\u001b[0m\u001b[0;32m      7\u001b[0m \u001b[1;33m\u001b[0m\u001b[0m\n\u001b[0;32m      8\u001b[0m \u001b[1;32mclass\u001b[0m \u001b[0mMargherita\u001b[0m\u001b[1;33m(\u001b[0m\u001b[0mPizza\u001b[0m\u001b[1;33m)\u001b[0m\u001b[1;33m:\u001b[0m\u001b[1;33m\u001b[0m\u001b[0m\n",
        "\u001b[1;31mNotImplementedError\u001b[0m: Derived class didn't overload this method"
       ]
      }
     ],
     "prompt_number": 85
    },
    {
     "cell_type": "markdown",
     "metadata": {},
     "source": [
      "There is advantages and disadvantages to each way of doing this.\n",
      " * Using the abc class, we get the error message immediately, which is easier to debug.\n",
      " * Using the NotImplementedError approach, the code is quite a lot simpler, and we can still use the derived class if we don't need the method."
     ]
    },
    {
     "cell_type": "heading",
     "level": 1,
     "metadata": {},
     "source": [
      "Static methods"
     ]
    },
    {
     "cell_type": "markdown",
     "metadata": {},
     "source": [
      "Static methods are methods that don't require the object itself.\n",
      "\n",
      "Why? Help functions that \"belong\" to the class"
     ]
    },
    {
     "cell_type": "code",
     "collapsed": false,
     "input": [
      "class Car:\n",
      "    america = False\n",
      "\n",
      "    @staticmethod\n",
      "    def kph2mph(speed):\n",
      "        return speed / 1.60934\n",
      "\n",
      "    def __init__(self, model, plate, vel):\n",
      "        self.model = model\n",
      "        self.velocity = vel\n",
      "    \n",
      "    def print_velocity(self):\n",
      "        from numpy.linalg import norm\n",
      "        speed = np.norm(self.velocity)\n",
      "        if america:\n",
      "            speed = kph2mph(speed)\n",
      "        print(\"Model:\", self.model, \"going at\", speed)"
     ],
     "language": "python",
     "metadata": {},
     "outputs": [],
     "prompt_number": 142
    },
    {
     "cell_type": "heading",
     "level": 1,
     "metadata": {},
     "source": [
      "Decorators"
     ]
    },
    {
     "cell_type": "markdown",
     "metadata": {},
     "source": [
      "We've seen 2 uses of decorators now:\n",
      "\n",
      "```python\n",
      "    @staticmethod\n",
      "    def kph2mph(speed):\n",
      "        return speed / 1.60934\n",
      "        \n",
      "    @abc.abstractmethod\n",
      "    def calories(self):\n",
      "        \"\"\" Returns the number of calories in the pizza \"\"\"\n",
      "```"
     ]
    },
    {
     "cell_type": "markdown",
     "metadata": {},
     "source": [
      "The decorators can be compared to *macros* found in C/C++ or *annotations* found in Java/C#.\n",
      "Instead of having a special syntax for declaring abstract or static methods like in C++:\n",
      "```cpp\n",
      "class Pizza {\n",
      "    // \"virtual\" means we can overload the method\n",
      "    virtual float calories() = 0; // By adding =0 we indicate that we HAVE to overload it.\n",
      "    ...\n",
      "};\n",
      "class Car {\n",
      "    static float kph2mph(float speed) { return speed / 1.60934; }\n",
      "    ...\n",
      "};\n",
      "```\n",
      "Python uses the function decorators to implement similar functionality.\n",
      "In the broadest terms, decorators modify functions. The code using `@`:\n",
      "```python\n",
      "@my_decorator\n",
      "def my_function():\n",
      "    return compute_stuff()\n",
      "```\n",
      "is the same as doing\n",
      "```python\n",
      "def my_function():\n",
      "    return compute_stuff()\n",
      "my_function = my_decorator(my_function)\n",
      "```"
     ]
    },
    {
     "cell_type": "code",
     "collapsed": false,
     "input": [
      "class always_print_hello:\n",
      "\n",
      "    def __init__(self, f):\n",
      "        self.f = f\n",
      "\n",
      "    def __call__(self):\n",
      "        self.f()\n",
      "        print(\"Hello!\")\n",
      "\n",
      "@always_print_hello\n",
      "def my_function():\n",
      "    print(\"my_function is doing stuff\")"
     ],
     "language": "python",
     "metadata": {},
     "outputs": [],
     "prompt_number": 164
    },
    {
     "cell_type": "code",
     "collapsed": false,
     "input": [
      "my_function()"
     ],
     "language": "python",
     "metadata": {},
     "outputs": [
      {
       "output_type": "stream",
       "stream": "stdout",
       "text": [
        "my_function is doing stuff\n",
        "Hello!\n"
       ]
      }
     ],
     "prompt_number": 173
    },
    {
     "cell_type": "markdown",
     "metadata": {},
     "source": [
      "You will not be required to write any decorators on the exam, though you should know about `@staticmethod` and `@abc.abstractmethod` and how these are used.\n",
      "Abstract and static methods are reoccuring themes in object oriented languages, though they might be expressed differently (i.e. different syntax)."
     ]
    },
    {
     "cell_type": "heading",
     "level": 1,
     "metadata": {},
     "source": [
      "Combining it all (examples)"
     ]
    },
    {
     "cell_type": "markdown",
     "metadata": {},
     "source": [
      "Classes for storing expressions analytically:"
     ]
    },
    {
     "cell_type": "code",
     "collapsed": false,
     "input": [
      "import math\n",
      "\n",
      "class Negation:\n",
      "    def __init__(self, a):\n",
      "        self.a = a\n",
      "    \n",
      "    def __str__(self):\n",
      "        return \"(-\" + str(self.a) + \")\"\n",
      "    \n",
      "    def __float__(self): return -float(self.a)\n",
      "    \n",
      "class Function:\n",
      "    def __init__(self, a):\n",
      "        self.a = a\n",
      "    \n",
      "    def __str__(self):\n",
      "        return self.name + \"(\" + str(self.a) + \")\"\n",
      "    \n",
      "    def __float__(self): return self.f(self.a)\n",
      "\n",
      "class Sine(Function):\n",
      "    f = math.sin\n",
      "    name = \"sin\"\n",
      "\n",
      "class Log(Function):\n",
      "    f = math.log\n",
      "    name = \"ln\"\n",
      "    \n",
      "class BinaryOperation:\n",
      "    def __init__(self, a, b):\n",
      "        self.a = a\n",
      "        self.b = b\n",
      "        \n",
      "    def __str__(self):\n",
      "        return \"(\" + str(self.a) + self.op + str(self.b) + \")\"\n",
      "    \n",
      "class Addition(BinaryOperation):\n",
      "    op = \"+\"\n",
      "    def __float__(self): return float(self.a) + float(self.b)\n",
      "        \n",
      "class Multiplication(BinaryOperation):\n",
      "    op = \"*\"\n",
      "    def __float__(self): return float(self.a) * float(self.b)\n",
      "\n",
      "class Division(BinaryOperation):\n",
      "    op = \"/\"\n",
      "    def __float__(self): return float(self.a) / float(self.b)\n",
      "\n",
      "class Power(BinaryOperation):\n",
      "    op = \"^\"\n",
      "    def __float__(self): return float(self.a) ** float(self.b)\n"
     ],
     "language": "python",
     "metadata": {},
     "outputs": [],
     "prompt_number": 299
    },
    {
     "cell_type": "code",
     "collapsed": false,
     "input": [
      "x = Addition(3, 4)\n",
      "y = Power(Division(Log(x),Multiplication(Negation(5),Sine(x))), 2)\n",
      "print(y, \"=\", float(y))"
     ],
     "language": "python",
     "metadata": {},
     "outputs": [
      {
       "output_type": "stream",
       "stream": "stdout",
       "text": [
        "((ln((3+4))/((-5)*sin((3+4))))^2) = 0.35090740739086795\n"
       ]
      }
     ],
     "prompt_number": 300
    },
    {
     "cell_type": "heading",
     "level": 3,
     "metadata": {},
     "source": [
      "A shapes class"
     ]
    },
    {
     "cell_type": "code",
     "collapsed": false,
     "input": [
      "class Shape:\n",
      "    def bounding_box(self):\n",
      "        raise NotImplementedError(\"Missing implementation\")\n",
      "        \n",
      "class Sphere(Shape):\n",
      "    def __init__(self, pos, radius):\n",
      "        self.pos = pos\n",
      "        self.radius = radius\n",
      "\n",
      "    def bounding_box(self):\n",
      "        return (self.pos - self.radius,\n",
      "                self.pos + self.radius)\n",
      "        \n",
      "class Polygon(Shape):\n",
      "    def __init__(self, vertices):\n",
      "        self.vertices = vertices\n",
      "\n",
      "    def bounding_box(self):\n",
      "        min_pos = max_pos = self.vertices[0]\n",
      "        for v in self.vertices:\n",
      "            np.minimum(min_pos, v)\n",
      "            np.maximum(max_pos, v)\n",
      "        return (min_pos, max_pos)"
     ],
     "language": "python",
     "metadata": {},
     "outputs": [],
     "prompt_number": 301
    },
    {
     "cell_type": "heading",
     "level": 3,
     "metadata": {},
     "source": [
      "Numerical integration"
     ]
    },
    {
     "cell_type": "code",
     "collapsed": false,
     "input": [
      "class IntegrationPoint:\n",
      "    def __init__(self, pos, weight):\n",
      "        self.pos = pos\n",
      "        self.weight = weight\n",
      "\n",
      "\n",
      "def create_gauss_integration(num):\n",
      "    \"\"\" Creates a list of integration points for a [-1,1] interval using the Gauss rule \"\"\"\n",
      "    if num == 1:\n",
      "        return [IntegrationPoint(0., 2.)]\n",
      "    elif num == 2:\n",
      "        return [IntegrationPoint(-0.577350269189626, 1.),\n",
      "                IntegrationPoint( 0.577350269189626, 1.)]\n",
      "    elif num == 3:\n",
      "        return [IntegrationPoint(-0.774596669241483, 0.555555555555555),\n",
      "                IntegrationPoint( 0., 0.8888888888),\n",
      "                IntegrationPoint( 0.774596669241483, 0.555555555555555)]\n",
      "    else:\n",
      "        raise NotImplementedError(\"Only up to 3 points is implemented\")"
     ],
     "language": "python",
     "metadata": {},
     "outputs": [],
     "prompt_number": 307
    },
    {
     "cell_type": "heading",
     "level": 1,
     "metadata": {},
     "source": [
      "Comment on assignment 2"
     ]
    },
    {
     "cell_type": "markdown",
     "metadata": {},
     "source": [
      "* Test suite will soon be available on the homepage (soon) for the library you should write.\n",
      "* There is a fair bit of code to write, so don't underestimate the assignment! I'm expecting you to work 26 hours per person on each assignment. Only 12 hours is spent on the computer lab session!"
     ]
    },
    {
     "cell_type": "heading",
     "level": 1,
     "metadata": {},
     "source": [
      "Course evaluation group"
     ]
    },
    {
     "cell_type": "markdown",
     "metadata": {},
     "source": [
      "Where are you? Lunch meeting today!"
     ]
    },
    {
     "cell_type": "code",
     "collapsed": false,
     "input": [],
     "language": "python",
     "metadata": {},
     "outputs": []
    }
   ],
   "metadata": {}
  }
 ]
}
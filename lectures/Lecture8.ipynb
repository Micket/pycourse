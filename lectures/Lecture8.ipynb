{
 "cells": [
  {
   "cell_type": "markdown",
   "metadata": {},
   "source": [
    "Lecture 8 will cover polymorphism, inheritance and abstract methods in OOP.\n",
    "\n",
    "Reference\n",
    " * [1] Chapter 10\n",
    " * [2] Section 9.5"
   ]
  },
  {
   "cell_type": "markdown",
   "metadata": {},
   "source": [
    "# A bit of repetition from last lecture"
   ]
  },
  {
   "cell_type": "markdown",
   "metadata": {},
   "source": [
    "### Clearifying the `self` argument"
   ]
  },
  {
   "cell_type": "code",
   "execution_count": 33,
   "metadata": {},
   "outputs": [],
   "source": [
    "class MyClass:\n",
    "    def __init__(self, a, b, c):\n",
    "        self.d = a + b + c\n",
    "    \n",
    "    def do_thing(self, e, f):\n",
    "        return self.d + e + f"
   ]
  },
  {
   "cell_type": "code",
   "execution_count": 34,
   "metadata": {},
   "outputs": [
    {
     "name": "stdout",
     "output_type": "stream",
     "text": [
      "17\n",
      "17\n"
     ]
    }
   ],
   "source": [
    "x = MyClass(1, 2, 3)\n",
    "# Calling a method on object x:\n",
    "print( x.do_thing(5, 6) )\n",
    "# is equivalent to\n",
    "print( MyClass.do_thing(x, 5, 6) )"
   ]
  },
  {
   "cell_type": "markdown",
   "metadata": {},
   "source": [
    "Other OOP languages do not have \"self\" as an argument. This is more a side-effect of how Python implements OOP. You aren't meant to call them like this under any normal circumstance."
   ]
  },
  {
   "cell_type": "markdown",
   "metadata": {},
   "source": [
    "### You almost always want the __init__ method"
   ]
  },
  {
   "cell_type": "markdown",
   "metadata": {},
   "source": [
    "You probably want to do:\n",
    "```python\n",
    "h = Hand()\n",
    "...\n",
    "h.add_card(c)\n",
    "...\n",
    "```\n",
    "So, you don't have all the cards from the start, and you don't have any input to the constructor.\n",
    "You still want the `__init__` method!"
   ]
  },
  {
   "cell_type": "code",
   "execution_count": 3,
   "metadata": {},
   "outputs": [],
   "source": [
    "class Hand:\n",
    "    def __init__(self):\n",
    "        self.cards = [] # We almost always want to intialize variables.\n",
    "\n",
    "    def add_card(card):\n",
    "        self.cards.append(card)"
   ]
  },
  {
   "cell_type": "markdown",
   "metadata": {},
   "source": [
    "Note that an empty list is *not* some universal \"empty\" when declaring variables. An optional name might have a default as an empty string. If no sensible defualt value can be used, you should use `None`."
   ]
  },
  {
   "cell_type": "markdown",
   "metadata": {},
   "source": [
    "# An appetizer!"
   ]
  },
  {
   "cell_type": "markdown",
   "metadata": {},
   "source": [
    "Simple inheritance in Python:"
   ]
  },
  {
   "cell_type": "code",
   "execution_count": 35,
   "metadata": {},
   "outputs": [],
   "source": [
    "class Shape:\n",
    "    def compute_area(self):\n",
    "        # This is one common way to make an (optional) abstract method\n",
    "        raise NotImplementedError(\"Missing compute_area implementation\")\n",
    "\n",
    "class Square(Shape): # The Square is a Shape\n",
    "    def __init__(self, x0, h):\n",
    "        self.x0 = x0\n",
    "        self.h = h\n",
    "\n",
    "    def compute_area(self): # Overloads the method from Shape\n",
    "        return self.h**2\n",
    "    \n",
    "class Circle(Shape): # The Circle is a shape\n",
    "    def __init__(self, x0, r):\n",
    "        self.x0 = x0\n",
    "        self.r = r\n",
    "\n",
    "    def compute_area(self): # Overload the method from Shape\n",
    "        from math import pi\n",
    "        return pi * self.r**2"
   ]
  },
  {
   "cell_type": "code",
   "execution_count": 36,
   "metadata": {},
   "outputs": [
    {
     "name": "stdout",
     "output_type": "stream",
     "text": [
      "9.0\n",
      "3.141592653589793\n"
     ]
    }
   ],
   "source": [
    "s = Square((0.,0.), 3.)\n",
    "c = Circle((5.,3.), 1.)\n",
    "print( s.compute_area() )\n",
    "print( c.compute_area() )"
   ]
  },
  {
   "cell_type": "markdown",
   "metadata": {},
   "source": [
    "# What is polymorphism?"
   ]
  },
  {
   "cell_type": "markdown",
   "metadata": {},
   "source": [
    "In programming languages and type theory, polymorphism (from Greek πολύς, polys, \"many, much\" and μορφή, morphē, \"form, shape\") is the provision of a single interface to entities of different types. A polymorphic type is a type whose operations can also be applied to values of some other type, or types.\n",
    "\n",
    "*Thanks Wikipedia!* \n"
   ]
  },
  {
   "cell_type": "markdown",
   "metadata": {},
   "source": [
    "## Parametric polymorphism"
   ]
  },
  {
   "cell_type": "markdown",
   "metadata": {},
   "source": [
    "Also called generic (Java or C#) or template (C++ or D) programming. It means we can write general functions for many possible types. This is automatically the case for all code in Python due to the dynamic typing system (at a high runtime performance cost)."
   ]
  },
  {
   "cell_type": "code",
   "execution_count": 37,
   "metadata": {},
   "outputs": [
    {
     "name": "stdout",
     "output_type": "stream",
     "text": [
      "4.5\n",
      "World\n"
     ]
    }
   ],
   "source": [
    "def max(a, b):\n",
    "   return a if a > b else b\n",
    "\n",
    "# Works for anything that supports the less-than operator:\n",
    "print( max(3.4, 4.5) )\n",
    "print( max('Hello', 'World') )"
   ]
  },
  {
   "cell_type": "markdown",
   "metadata": {},
   "source": [
    "and we can compare this to a simple function in C\n",
    "```c\n",
    "float max(float a, float b) {\n",
    "    return a > b ? a : b;\n",
    "}\n",
    "```\n",
    "In C, we have to declare types (and we can't do parametric polymorphism without reverting to meta-programming)\n",
    "\n",
    "In C++, we could do things like\n",
    "```cpp\n",
    "template< typename T >\n",
    "T max(T a, T b) {\n",
    "    return a > b ? a : b;\n",
    "}\n",
    "```"
   ]
  },
  {
   "cell_type": "markdown",
   "metadata": {},
   "source": [
    "## Subtyping (or inclusion polymorphism)"
   ]
  },
  {
   "cell_type": "markdown",
   "metadata": {},
   "source": [
    "In OOP, this is usually just called *polymorphism*, and is achieved by *inheritance*.\n",
    "\n",
    "It might look like this:"
   ]
  },
  {
   "cell_type": "code",
   "execution_count": 38,
   "metadata": {},
   "outputs": [
    {
     "name": "stdout",
     "output_type": "stream",
     "text": [
      "A hawk is a type of animal - True\n",
      "A hawk is a type of bird   - True\n",
      "A hawk is a type of dog    - False\n"
     ]
    }
   ],
   "source": [
    "class Animal:\n",
    "    pass\n",
    "\n",
    "class Dog(Animal):\n",
    "    pass\n",
    "\n",
    "class Bird(Animal):\n",
    "    pass\n",
    "\n",
    "class Hawk(Bird):\n",
    "    pass\n",
    "\n",
    "x = Hawk()\n",
    "print(\"A hawk is a type of animal -\", isinstance(x, Animal) )\n",
    "print(\"A hawk is a type of bird   -\", isinstance(x, Bird) )\n",
    "print(\"A hawk is a type of dog    -\", isinstance(x, Dog) )"
   ]
  },
  {
   "cell_type": "markdown",
   "metadata": {},
   "source": [
    "Python doesn't actually _require_ this type of polymorphism very much thanks to it's automatic parametric polymorphism, however, it is nice to have as it helps to express intent and it makes things easier, and, in some places, you can implement specialized behavior of a function based on the type information.\n",
    "\n",
    "In statically typed langauges, this is the primary type of polymorphism used. As a very simple example:\n",
    "\n",
    "```cpp\n",
    "// This code is slightly simplified to not mention to many C++ details,\n",
    "// but the point of polymorphism is the same\n",
    "vector< Shape > shapes = {Triangle(...), Rectangle(...), ... };\n",
    "\n",
    "float area = 0;\n",
    "for ( Shape &s : shapes ) { // Loop over all the shapes\n",
    "    area += s.computeArea() // All shapes are required to implement this method\n",
    "}\n",
    "printf(\"total area is %f\\n\", area);\n",
    "```"
   ]
  },
  {
   "cell_type": "markdown",
   "metadata": {},
   "source": [
    "### A note on the jargon"
   ]
  },
  {
   "cell_type": "markdown",
   "metadata": {},
   "source": [
    "```python\n",
    "class B(A):\n",
    "    ...\n",
    "```\n",
    "* B is a **subclass** of A, and A is a **superclass** of B\n",
    "* B is **derived** from the **base** class A"
   ]
  },
  {
   "cell_type": "markdown",
   "metadata": {},
   "source": [
    "### Inherited functionality"
   ]
  },
  {
   "cell_type": "markdown",
   "metadata": {},
   "source": [
    "Often the case is that you need to add another method to (or modify) an existing object, and keep all the other functionality intact.\n",
    "\n",
    "In this example, we extend the standard `list` class with a new method `print_content` for convenience."
   ]
  },
  {
   "cell_type": "code",
   "execution_count": 39,
   "metadata": {},
   "outputs": [],
   "source": [
    "class MyList(list):\n",
    "    def print_content(self):\n",
    "        for i, x in enumerate(self):\n",
    "            print(\"{}:\".format(i), x)"
   ]
  },
  {
   "cell_type": "code",
   "execution_count": 40,
   "metadata": {},
   "outputs": [
    {
     "name": "stdout",
     "output_type": "stream",
     "text": [
      "0: Hello\n",
      "1: Some other string\n",
      "2: World\n"
     ]
    }
   ],
   "source": [
    "x = MyList()\n",
    "x.append(\"Hello\")\n",
    "x.append(\"World\")\n",
    "x.append(\"Some other string\")\n",
    "x.sort()\n",
    "x.print_content()"
   ]
  },
  {
   "cell_type": "markdown",
   "metadata": {},
   "source": [
    "### Overloading methods"
   ]
  },
  {
   "cell_type": "markdown",
   "metadata": {},
   "source": [
    "Derived classes (classes that inherit from some base-class) can mostly be seen as specialization of the general base class. Therefore, it is very common that methods need to be amended.\n",
    "\n",
    "Very similar to the procedure of adding new methods (previous example), but we simply name the new method the same as the one we want to replace:"
   ]
  },
  {
   "cell_type": "code",
   "execution_count": 44,
   "metadata": {},
   "outputs": [
    {
     "name": "stdout",
     "output_type": "stream",
     "text": [
      "3/5\n"
     ]
    }
   ],
   "source": [
    "# class Fraction: <-- This is shorthand for Fraction(object):\n",
    "class Fraction(object):\n",
    "    def __init__(self, numerator: int, denominator: int):\n",
    "        self.numerator = numerator\n",
    "        self.denominator = denominator\n",
    "\n",
    "    # Overloading __str__ from the object.__str__\n",
    "    def __str__(self):\n",
    "        return \"{}/{}\".format(self.numerator, self.denominator)\n",
    "\n",
    "x = Fraction(3, 5)\n",
    "print(x) # Print will call str(x) which calls x.__str__()"
   ]
  },
  {
   "cell_type": "markdown",
   "metadata": {},
   "source": [
    "### The `super` function"
   ]
  },
  {
   "cell_type": "code",
   "execution_count": 58,
   "metadata": {},
   "outputs": [],
   "source": [
    "class Base:\n",
    "    def myMethod2(self):\n",
    "        return \"Fooxxx\"\n",
    "\n",
    "class Derived(Base):\n",
    "    def myMethod2(self): return \"asdf\"\n",
    "    def myMethod(self):\n",
    "        # super() refers to the superclass (in this case, Base)\n",
    "        return super().myMethod() + \"Bar\""
   ]
  },
  {
   "cell_type": "code",
   "execution_count": 59,
   "metadata": {},
   "outputs": [
    {
     "ename": "AttributeError",
     "evalue": "'super' object has no attribute 'myMethod'",
     "output_type": "error",
     "traceback": [
      "\u001b[0;31m---------------------------------------------------------------------------\u001b[0m",
      "\u001b[0;31mAttributeError\u001b[0m                            Traceback (most recent call last)",
      "\u001b[0;32m<ipython-input-59-7a5db585c7e0>\u001b[0m in \u001b[0;36m<module>\u001b[0;34m\u001b[0m\n\u001b[1;32m      1\u001b[0m \u001b[0mx\u001b[0m \u001b[0;34m=\u001b[0m \u001b[0mDerived\u001b[0m\u001b[0;34m(\u001b[0m\u001b[0;34m)\u001b[0m\u001b[0;34m\u001b[0m\u001b[0;34m\u001b[0m\u001b[0m\n\u001b[0;32m----> 2\u001b[0;31m \u001b[0mprint\u001b[0m\u001b[0;34m(\u001b[0m \u001b[0mx\u001b[0m\u001b[0;34m.\u001b[0m\u001b[0mmyMethod\u001b[0m\u001b[0;34m(\u001b[0m\u001b[0;34m)\u001b[0m \u001b[0;34m)\u001b[0m\u001b[0;34m\u001b[0m\u001b[0;34m\u001b[0m\u001b[0m\n\u001b[0m",
      "\u001b[0;32m<ipython-input-58-3425f8c863af>\u001b[0m in \u001b[0;36mmyMethod\u001b[0;34m(self)\u001b[0m\n\u001b[1;32m      7\u001b[0m     \u001b[0;32mdef\u001b[0m \u001b[0mmyMethod\u001b[0m\u001b[0;34m(\u001b[0m\u001b[0mself\u001b[0m\u001b[0;34m)\u001b[0m\u001b[0;34m:\u001b[0m\u001b[0;34m\u001b[0m\u001b[0;34m\u001b[0m\u001b[0m\n\u001b[1;32m      8\u001b[0m         \u001b[0;31m# super() refers to the superclass (in this case, Base)\u001b[0m\u001b[0;34m\u001b[0m\u001b[0;34m\u001b[0m\u001b[0;34m\u001b[0m\u001b[0m\n\u001b[0;32m----> 9\u001b[0;31m         \u001b[0;32mreturn\u001b[0m \u001b[0msuper\u001b[0m\u001b[0;34m(\u001b[0m\u001b[0;34m)\u001b[0m\u001b[0;34m.\u001b[0m\u001b[0mmyMethod\u001b[0m\u001b[0;34m(\u001b[0m\u001b[0;34m)\u001b[0m \u001b[0;34m+\u001b[0m \u001b[0;34m\"Bar\"\u001b[0m\u001b[0;34m\u001b[0m\u001b[0;34m\u001b[0m\u001b[0m\n\u001b[0m",
      "\u001b[0;31mAttributeError\u001b[0m: 'super' object has no attribute 'myMethod'"
     ]
    }
   ],
   "source": [
    "x = Derived()\n",
    "print( x.myMethod() )"
   ]
  },
  {
   "cell_type": "markdown",
   "metadata": {},
   "source": [
    "#### The super function with multiple inheritance"
   ]
  },
  {
   "cell_type": "code",
   "execution_count": 60,
   "metadata": {},
   "outputs": [],
   "source": [
    "class Base:\n",
    "    def my_method(self):\n",
    "        return \"Foo\"\n",
    "    \n",
    "class Base2:\n",
    "    def my_method(self):\n",
    "        return \"Bar\"\n",
    "\n",
    "class Derived(Base, Base2):\n",
    "    def my_method(self):\n",
    "        # super will refer to the first superclass that matches: Base\n",
    "        return super().my_method() + \"!\""
   ]
  },
  {
   "cell_type": "code",
   "execution_count": 61,
   "metadata": {},
   "outputs": [
    {
     "name": "stdout",
     "output_type": "stream",
     "text": [
      "Foo!\n"
     ]
    }
   ],
   "source": [
    "x = Derived()\n",
    "print( x.my_method() )"
   ]
  },
  {
   "cell_type": "code",
   "execution_count": 62,
   "metadata": {},
   "outputs": [],
   "source": [
    "class Derived(Base):\n",
    "    def my_method(self):\n",
    "        # If we want Base2.my_method, then we have to be specific\n",
    "        return Base2.my_method(self) + \"!\""
   ]
  },
  {
   "cell_type": "markdown",
   "metadata": {},
   "source": [
    "### Enforced functionality (abstract methods)"
   ]
  },
  {
   "cell_type": "markdown",
   "metadata": {},
   "source": [
    "Using the module `abc` we can get *abstract* methods:"
   ]
  },
  {
   "cell_type": "code",
   "execution_count": 111,
   "metadata": {},
   "outputs": [],
   "source": [
    "import abc\n",
    "\n",
    "class Pizza(metaclass=abc.ABCMeta):\n",
    "    @abc.abstractmethod\n",
    "    def vegetarian(self):\n",
    "        \"\"\" Returns true if vegetarian \"\"\"\n",
    "\n",
    "    @abc.abstractmethod\n",
    "    def calories(self):\n",
    "        \"\"\" Returns the number of calories in the pizza \"\"\"\n",
    "\n",
    "    def weight_watcher_compatible(self):\n",
    "        return self.calories() <= 1000\n",
    "        \n",
    "class Margherita(Pizza):\n",
    "    def calories(self):\n",
    "        return 910\n",
    "    \n",
    "    def vegetarian(self):\n",
    "        return True\n",
    "\n",
    "class Vesuvio(Margherita):\n",
    "    def calories(self):\n",
    "        return 1100\n",
    "    \n",
    "    def vegetarian(self):\n",
    "        return False\n"
   ]
  },
  {
   "cell_type": "markdown",
   "metadata": {},
   "source": [
    "If we don't overload the abstract methods, then we get a TypeError:"
   ]
  },
  {
   "cell_type": "code",
   "execution_count": 118,
   "metadata": {},
   "outputs": [],
   "source": [
    "class KebabPizza(Pizza):\n",
    "    def vegetarian(self):\n",
    "        return False\n",
    "\n",
    "class JohannebergSpecial(KebabPizza):\n",
    "    def calories(self):\n",
    "        return 2100\n",
    "\n",
    "class Instanbul(KebabPizza):\n",
    "    def calories(self):\n",
    "        return 2000"
   ]
  },
  {
   "cell_type": "code",
   "execution_count": 123,
   "metadata": {},
   "outputs": [
    {
     "ename": "TypeError",
     "evalue": "Can't instantiate abstract class KebabPizza with abstract methods calories",
     "output_type": "error",
     "traceback": [
      "\u001b[0;31m---------------------------------------------------------------------------\u001b[0m",
      "\u001b[0;31mTypeError\u001b[0m                                 Traceback (most recent call last)",
      "\u001b[0;32m<ipython-input-123-b5182dce6e9a>\u001b[0m in \u001b[0;36m<module>\u001b[0;34m\u001b[0m\n\u001b[0;32m----> 1\u001b[0;31m \u001b[0mp\u001b[0m \u001b[0;34m=\u001b[0m \u001b[0mKebabPizza\u001b[0m\u001b[0;34m(\u001b[0m\u001b[0;34m)\u001b[0m  \u001b[0;31m# This won't work\u001b[0m\u001b[0;34m\u001b[0m\u001b[0;34m\u001b[0m\u001b[0m\n\u001b[0m",
      "\u001b[0;31mTypeError\u001b[0m: Can't instantiate abstract class KebabPizza with abstract methods calories"
     ]
    }
   ],
   "source": [
    "p = KebabPizza()  # This won't work"
   ]
  },
  {
   "cell_type": "code",
   "execution_count": 122,
   "metadata": {},
   "outputs": [],
   "source": [
    "p = JohannebergSpecial()  # This will work"
   ]
  },
  {
   "cell_type": "markdown",
   "metadata": {},
   "source": [
    "Though in Python (due to the dynamic typing and Duck typing) the concept of base classes with abstract methods are not strictly necessary. The usual procedure is to just do:"
   ]
  },
  {
   "cell_type": "code",
   "execution_count": 105,
   "metadata": {},
   "outputs": [],
   "source": [
    "class Pizza():\n",
    "    def calories(self):\n",
    "        \"\"\" Returns the number of calories in the pizza \"\"\"\n",
    "        # \"raise\" is a keyword for raising exceptions (throw) \n",
    "        # which aborts the program unless the caller cover the error handling.\n",
    "        raise NotImplementedError(\"Derived class didn't overload this method\")"
   ]
  },
  {
   "cell_type": "markdown",
   "metadata": {},
   "source": [
    "Now, this will work fine:"
   ]
  },
  {
   "cell_type": "code",
   "execution_count": 110,
   "metadata": {},
   "outputs": [],
   "source": [
    "class KebabPizza(Pizza):\n",
    "    # Oops, forgot to overload \"calories\"!\n",
    "    pass\n",
    "\n",
    "p = KebabPizza()"
   ]
  },
  {
   "cell_type": "markdown",
   "metadata": {},
   "source": [
    "As long as we don't try to call the missing method:"
   ]
  },
  {
   "cell_type": "code",
   "execution_count": 70,
   "metadata": {},
   "outputs": [
    {
     "ename": "NotImplementedError",
     "evalue": "Derived class didn't overload this method",
     "output_type": "error",
     "traceback": [
      "\u001b[0;31m---------------------------------------------------------------------------\u001b[0m",
      "\u001b[0;31mNotImplementedError\u001b[0m                       Traceback (most recent call last)",
      "\u001b[0;32m<ipython-input-70-be8c312be8bc>\u001b[0m in \u001b[0;36m<module>\u001b[0;34m\u001b[0m\n\u001b[0;32m----> 1\u001b[0;31m \u001b[0mp\u001b[0m\u001b[0;34m.\u001b[0m\u001b[0mcalories\u001b[0m\u001b[0;34m(\u001b[0m\u001b[0;34m)\u001b[0m\u001b[0;34m\u001b[0m\u001b[0;34m\u001b[0m\u001b[0m\n\u001b[0m",
      "\u001b[0;32m<ipython-input-67-a740ef909d04>\u001b[0m in \u001b[0;36mcalories\u001b[0;34m(self)\u001b[0m\n\u001b[1;32m      4\u001b[0m         \u001b[0;31m# \"raise\" is a keyword for raising exceptions (throw)\u001b[0m\u001b[0;34m\u001b[0m\u001b[0;34m\u001b[0m\u001b[0;34m\u001b[0m\u001b[0m\n\u001b[1;32m      5\u001b[0m         \u001b[0;31m# which aborts the program unless the caller cover the error handling.\u001b[0m\u001b[0;34m\u001b[0m\u001b[0;34m\u001b[0m\u001b[0;34m\u001b[0m\u001b[0m\n\u001b[0;32m----> 6\u001b[0;31m         \u001b[0;32mraise\u001b[0m \u001b[0mNotImplementedError\u001b[0m\u001b[0;34m(\u001b[0m\u001b[0;34m\"Derived class didn't overload this method\"\u001b[0m\u001b[0;34m)\u001b[0m\u001b[0;34m\u001b[0m\u001b[0;34m\u001b[0m\u001b[0m\n\u001b[0m\u001b[1;32m      7\u001b[0m \u001b[0;34m\u001b[0m\u001b[0m\n\u001b[1;32m      8\u001b[0m \u001b[0;32mclass\u001b[0m \u001b[0mMargherita\u001b[0m\u001b[0;34m(\u001b[0m\u001b[0mPizza\u001b[0m\u001b[0;34m)\u001b[0m\u001b[0;34m:\u001b[0m\u001b[0;34m\u001b[0m\u001b[0;34m\u001b[0m\u001b[0m\n",
      "\u001b[0;31mNotImplementedError\u001b[0m: Derived class didn't overload this method"
     ]
    }
   ],
   "source": [
    "p.calories()"
   ]
  },
  {
   "cell_type": "markdown",
   "metadata": {},
   "source": [
    "There is advantages and disadvantages to each way of doing this.\n",
    "\n",
    "* Using the abc class, we get the error message immediately, which is much easier to debug.\n",
    "* Using the NotImplementedError approach, we basically have an optional, abstract, method.\n",
    "\n",
    "The `@abstractmethod` decorator is the closest equivalent to what you do in e.g. Java/C++"
   ]
  },
  {
   "cell_type": "markdown",
   "metadata": {},
   "source": [
    "# Combining it all (examples)"
   ]
  },
  {
   "cell_type": "markdown",
   "metadata": {},
   "source": [
    "Note: Examples below make use of operator overloading. E.g. `*` which becomes `__mul__`. Next lecture will cover, for now you can view them as methods. I use these in the examples because that's the most logical way to achieve it."
   ]
  },
  {
   "cell_type": "markdown",
   "metadata": {},
   "source": [
    "## Specialized matrices\n",
    "\n",
    "Note: One would never implement matrices backed with a plain `list()` in Python. The purpose of this example is to show meaningful inheritance without complicating the implementation. This is dreadfully slow. "
   ]
  },
  {
   "cell_type": "code",
   "execution_count": 87,
   "metadata": {},
   "outputs": [],
   "source": [
    "import abc\n",
    "\n",
    "class Matrix(metaclass=abc.ABCMeta):\n",
    "    def __init__(self, nr, nc):\n",
    "        self.nr = nr\n",
    "        self.nc = nc\n",
    "        if nr <= 0 or nc <= 0:\n",
    "            raise ValueError(\"Bad nr or nc\")\n",
    "\n",
    "    @abc.abstractmethod\n",
    "    def __mul__(self, val):\n",
    "        \"\"\" does stuff \"\"\"\n",
    "\n",
    "    def bounds_check(self, item):\n",
    "        if item[0] >= self.nr or item[1] >= self.nc:\n",
    "            raise IndexError(\"Index out of range: ({},{})\".format(*item))\n",
    "        if item[0] < 0 or item[1] < 0:\n",
    "            raise IndexError(\"Negative index not supported: ({},{})\".format(*item))\n",
    "\n",
    "\n",
    "class IdentityMatrix(Matrix):\n",
    "    def __init__(self, size):\n",
    "        super().__init__(size, size)\n",
    "\n",
    "    def __str__(self):\n",
    "        return \"I({})\".format(self.nr)\n",
    "\n",
    "    def __getitem__(self, item):\n",
    "        # This is called them you do:   a = x[i]\n",
    "        self.bounds_check(item)\n",
    "        return 1 if item[0] == item[1] else 0\n",
    "\n",
    "    def __setitem__(self, item):\n",
    "        # This is called them you do:   x[i] = a\n",
    "        raise NotImplementedError(\"Identities are immutable\")\n",
    "\n",
    "    def __mul__(self, val):\n",
    "        # This is called them you do:   x * y\n",
    "        if type(val) == float or type(val) == int:\n",
    "            return DiagonalMatrix([val]*self.nr)\n",
    "        elif type(val) == list:\n",
    "            return val.copy()\n",
    "        else:\n",
    "            raise TypeError(\"Unsupported type: {}\".format(type(val)))\n",
    "\n",
    "    def __rmul__(self, val):\n",
    "        # This is called them you do:   y * x\n",
    "        return self * val\n",
    "\n",
    "\n",
    "class DiagonalMatrix(Matrix):\n",
    "    def __init__(self, diag):\n",
    "        super().__init__(len(diag), len(diag))\n",
    "        self.diag = diag\n",
    "\n",
    "    def __str__(self):\n",
    "        s = \"Diagonal matrix, size: {}x{}\\nDiagonal: [\".format(self.nr, self.nc)\n",
    "        # Fancy formatting:\n",
    "        v = [str(x) for x in self.diag]\n",
    "        if len(self.diag) <= 10:\n",
    "            s += ', '.join(v)\n",
    "        else:\n",
    "            s += ', '.join(v[:3]) + ' ... '+ ', '.join(v[-3:])\n",
    "        return s + ']'\n",
    "\n",
    "    def __getitem__(self, item):\n",
    "        self.bounds_check(item)\n",
    "        return self.diag[item[0]] if item[0] == item[1] else 0\n",
    "\n",
    "    def __setitem__(self, item, val):\n",
    "        self.bounds_check(item)\n",
    "        if item[0] != item[1]:\n",
    "            raise IndexError(\"Diagonal matrix only support setting diagonal values ({},{})\".format(*item))\n",
    "        self.diag[item[0]] = val\n",
    "\n",
    "    def __mul__(self, val):\n",
    "        if type(val) == float or type(val) == int:\n",
    "            return DiagonalMatrix([d * val for d in self.diag])\n",
    "        elif type(val) == list:\n",
    "            if len(self.diag) != self.nr:\n",
    "                raise ValueError('List not of correct size; {} should be {}'.format(len(val), self.nr))\n",
    "            return [x*y for x, y in zip(self.diag, val)]\n",
    "        else:\n",
    "            raise TypeError(\"Unsupported type: {}\".format(type(val)))\n",
    "\n",
    "    def __rmul__(self, val):\n",
    "        return self.__mul__(val)\n",
    "\n",
    "\n",
    "class DenseMatrix(Matrix):\n",
    "    def __init__(self, values):\n",
    "        super().__init__(len(values), len(values[0]))\n",
    "        self.values = values\n",
    "        for i, row in enumerate(values):\n",
    "            if len(row) != self.nc:\n",
    "                raise MatrixSizeError(i, len(row), self.nc)\n",
    "\n",
    "    def __str__(self):\n",
    "        s = \"Dense matrix, size: {}x{}\\n\".format(self.nr, self.nc)\n",
    "        # Medium fancy formatting:\n",
    "        for r in range(min(5, self.nr)):\n",
    "            s += '['\n",
    "            s += ', '.join([str(x) for x in self.values[r][:5]])\n",
    "            if self.nc > 5:\n",
    "                s += ', ...'\n",
    "            s += \"]\\n\"\n",
    "        if self.nr > 5:\n",
    "            s += '[...]\\n'\n",
    "\n",
    "        return s\n",
    "\n",
    "    def __getitem__(self, item):\n",
    "        self.bounds_check(item)\n",
    "        return self.values[item[0]][item[1]]\n",
    "\n",
    "    def __setitem__(self, item, val):\n",
    "        self.bounds_check(item)\n",
    "        self.values[item[0]][item[1]] = val\n",
    "\n",
    "    def __mul__(self, val):\n",
    "        if type(val) == float or type(val) == int:\n",
    "            return DenseMatrix([[x * val for x in row] for row in self.values])\n",
    "        elif type(val) == list:\n",
    "            # Dot product reminder: y[i] = A_[i,j] * x_[j] !\n",
    "            res = [[0.]*self.nc for x in range(self.nr)]\n",
    "            for i in range(self.nr):\n",
    "                for j in range(self.nc):\n",
    "                    res[i][j] += self.values[i][j] * val[j]\n",
    "            return res\n",
    "        else:\n",
    "            raise TypeError(\"Unsupported type: {}\".format(type(val)))\n",
    "\n",
    "    def __rmul__(self, val):\n",
    "        # Copy paste is good enough for the exam! Identical to __mul__ but we switch the index\n",
    "        if type(val) == float or type(val) == int:\n",
    "            return DenseMatrix([[x * val for x in row] for row in self.values])\n",
    "        elif type(val) == list:\n",
    "            # Dot product reminder: y[j] = A_[i,j] * x_[i] !\n",
    "            val = [[0.]*self.nc for x in range(self.nr)]\n",
    "            for i in range(self.nr):\n",
    "                for j in range(self.nc):\n",
    "                    val[i][j] += self.values[j][i] * val[j]\n",
    "            return val\n",
    "        else:\n",
    "            raise TypeError(\"Unsupported type: {}\".format(type(val)))\n",
    "\n",
    "\n",
    "class MatrixSizeError(Exception):\n",
    "    def __init__(self, i, rowlen, ncol):\n",
    "        self.i = i\n",
    "        self.rowlen = rowlen\n",
    "        self.ncol = ncol\n",
    "\n",
    "    def __str__(self):\n",
    "        return \"Row number {} has {} columns, but should have {}.\".format(self.i, self.rowlen, self.ncol)"
   ]
  },
  {
   "cell_type": "code",
   "execution_count": 88,
   "metadata": {},
   "outputs": [],
   "source": [
    "# Test creation:\n",
    "a = IdentityMatrix(3)\n",
    "b1 = DiagonalMatrix([2.0, 3.5, 2.2, 2.2, 7.0])\n",
    "b2 = DiagonalMatrix([2.0, 3.5, 2.2, 5.3, 4.3, 12.0, 2.2, 9.3, 1.2, 2.3, 2.2, 7.0])\n",
    "c1 = DenseMatrix([[2.0, 0.0, 1.4],\n",
    "                [0.5, 1.0, 1.0],\n",
    "                [0.8, 3.0, 0.0]])\n",
    "\n",
    "c2 = DenseMatrix([[2.0, 0.0, 1.4, 1, 2, 3, 4],\n",
    "                [0.5, 1.0, 1.0, 1, 2, 3, 4],\n",
    "                [0.8, 3.0, 0.0, 1, 2, 3, 4]])\n",
    "\n",
    "c3 = DenseMatrix([[2.0, 0.0, 1.4],\n",
    "                [0.5, 1.0, 1.0],\n",
    "                [0.8, 3.0, 0.0],\n",
    "                [0.8, 3.0, 0.0],\n",
    "                [0.8, 3.0, 0.0],\n",
    "                [0.8, 3.0, 0.0]])"
   ]
  },
  {
   "cell_type": "code",
   "execution_count": 89,
   "metadata": {},
   "outputs": [
    {
     "name": "stdout",
     "output_type": "stream",
     "text": [
      "a: I(3)\n",
      "b1: Diagonal matrix, size: 5x5\n",
      "Diagonal: [2.0, 3.5, 2.2, 2.2, 7.0]\n",
      "b2: Diagonal matrix, size: 12x12\n",
      "Diagonal: [2.0, 3.5, 2.2 ... 2.3, 2.2, 7.0]\n",
      "c1: Dense matrix, size: 3x3\n",
      "[2.0, 0.0, 1.4]\n",
      "[0.5, 1.0, 1.0]\n",
      "[0.8, 3.0, 0.0]\n",
      "\n",
      "c2: Dense matrix, size: 3x7\n",
      "[2.0, 0.0, 1.4, 1, 2, ...]\n",
      "[0.5, 1.0, 1.0, 1, 2, ...]\n",
      "[0.8, 3.0, 0.0, 1, 2, ...]\n",
      "\n",
      "c3: Dense matrix, size: 6x3\n",
      "[2.0, 0.0, 1.4]\n",
      "[0.5, 1.0, 1.0]\n",
      "[0.8, 3.0, 0.0]\n",
      "[0.8, 3.0, 0.0]\n",
      "[0.8, 3.0, 0.0]\n",
      "[...]\n",
      "\n"
     ]
    }
   ],
   "source": [
    "# Test print:\n",
    "print('a:', a)\n",
    "print('b1:', b1)\n",
    "print('b2:', b2)\n",
    "print('c1:', c1)\n",
    "print('c2:', c2)\n",
    "print('c3:', c3)"
   ]
  },
  {
   "cell_type": "code",
   "execution_count": 90,
   "metadata": {},
   "outputs": [
    {
     "name": "stdout",
     "output_type": "stream",
     "text": [
      "1 2.2 0.0\n",
      "0 0 1.0\n"
     ]
    }
   ],
   "source": [
    "# Test get-index:\n",
    "print(a[2, 2], b1[2, 2], c1[2, 2])\n",
    "print(a[1, 2], b1[1, 2], c1[1, 2])"
   ]
  },
  {
   "cell_type": "code",
   "execution_count": 91,
   "metadata": {},
   "outputs": [
    {
     "name": "stdout",
     "output_type": "stream",
     "text": [
      "Index out of range: (10,2)\n"
     ]
    }
   ],
   "source": [
    "# Test bounds checking\n",
    "try:\n",
    "    print(a[10,2])\n",
    "except IndexError as e:\n",
    "    print(e)"
   ]
  },
  {
   "cell_type": "code",
   "execution_count": 92,
   "metadata": {},
   "outputs": [
    {
     "name": "stdout",
     "output_type": "stream",
     "text": [
      "Diagonal matrix, size: 5x5\n",
      "Diagonal: [2.0, 3.5, 3.14, 2.2, 7.0]\n",
      "Dense matrix, size: 3x3\n",
      "[2.0, 0.0, 1.4]\n",
      "[0.5, 1.0, 3.14]\n",
      "[0.8, 3.0, 0.0]\n",
      "\n"
     ]
    }
   ],
   "source": [
    "# Test a bit of set-index\n",
    "b1[2, 2] = 3.14\n",
    "c1[1, 2] = 3.14\n",
    "print(b1)\n",
    "print(c1)"
   ]
  },
  {
   "cell_type": "code",
   "execution_count": 42,
   "metadata": {},
   "outputs": [
    {
     "name": "stdout",
     "output_type": "stream",
     "text": [
      "a * 3 = Diagonal matrix, size: 3x3\n",
      "Diagonal: [1.5, 1.5, 1.5]\n",
      "3 * b1 = Diagonal matrix, size: 5x5\n",
      "Diagonal: [3.0, 5.25, 4.71, 3.3000000000000003, 10.5]\n",
      "3 * c1 = Dense matrix, size: 3x3\n",
      "[3.0, 0.0, 2.0999999999999996]\n",
      "[0.75, 1.5, 4.71]\n",
      "[1.2000000000000002, 4.5, 0.0]\n",
      "\n"
     ]
    }
   ],
   "source": [
    "# Test scaling.\n",
    "print(\"a * 3 =\", a * 1.5)\n",
    "print(\"3 * b1 =\", 1.5 * b1)\n",
    "print(\"3 * c1 =\", 1.5 * c1)"
   ]
  },
  {
   "cell_type": "code",
   "execution_count": 45,
   "metadata": {},
   "outputs": [
    {
     "name": "stdout",
     "output_type": "stream",
     "text": [
      "a * x = [1, 2, 3]\n",
      "x * b1 = [2.0, 7.0, 9.42]\n",
      "c1 * x = [[2.0, 0.0, 4.199999999999999], [0.5, 2.0, 9.42], [0.8, 6.0, 0.0]]\n",
      "Didn't work\n"
     ]
    }
   ],
   "source": [
    "# Test dot product\n",
    "print(\"a * x =\", a * [1, 2, 3])\n",
    "print(\"x * b1 =\", [1, 2, 3] * b1)\n",
    "print(\"c1 * x =\", c1 * [1, 2, 3])\n",
    "try:\n",
    "    print(c1 * \"Hello\")\n",
    "except:\n",
    "    print(\"Didn't work\")"
   ]
  },
  {
   "cell_type": "code",
   "execution_count": 46,
   "metadata": {},
   "outputs": [
    {
     "name": "stdout",
     "output_type": "stream",
     "text": [
      "You better fix row 2!\n",
      "Row number 2 has 2 columns, but should have 3.\n"
     ]
    }
   ],
   "source": [
    "# Test the exception\n",
    "try:\n",
    "    m = DenseMatrix([[1,2,3],[4,5,6],[7,8],[9,10,11]])\n",
    "except MatrixSizeError as e:\n",
    "    print(\"You better fix row {}!\".format(e.i))\n",
    "    print(e)"
   ]
  },
  {
   "cell_type": "markdown",
   "metadata": {},
   "source": [
    "Classes for storing expressions analytically:"
   ]
  },
  {
   "cell_type": "code",
   "execution_count": 96,
   "metadata": {},
   "outputs": [],
   "source": [
    "import abc, math\n",
    "\n",
    "class Function(metaclass=abc.ABCMeta):\n",
    "    @abc.abstractmethod\n",
    "    def derivative(self):\n",
    "        pass\n",
    "\n",
    "    def __neg__(self):\n",
    "        return Negate(self)\n",
    "\n",
    "    def __add__(self, other):\n",
    "        return Add(self, other)\n",
    "\n",
    "    def __mul__(self, other):\n",
    "        return Product(self, other)\n",
    "\n",
    "\n",
    "class Negate(Function):\n",
    "    def __init__(self, fun):\n",
    "        self.fun = fun\n",
    "\n",
    "    def __call__(self, x):\n",
    "        return -self.fun(x)\n",
    "\n",
    "    def derivative(self):\n",
    "        return Negate(self.fun.derivative())\n",
    "\n",
    "\n",
    "class Add(Function):\n",
    "    def __init__(self, f, g):\n",
    "        self.f = f\n",
    "        self.g = g\n",
    "\n",
    "    def __call__(self, x):\n",
    "        return self.f(x) + self.g(x)\n",
    "\n",
    "    def derivative(self):\n",
    "        return Add(self.f.derivative(), self.g.derivative())\n",
    "\n",
    "\n",
    "class Product(Function):\n",
    "    def __init__(self, f, g):\n",
    "        self.f = f\n",
    "        self.g = g\n",
    "\n",
    "    def __call__(self, x):\n",
    "        return self.f(x) * self.g(x)\n",
    "\n",
    "    def derivative(self):\n",
    "        return (self.f.derivative() * self.g) + (self.f.derivative() * self.g)\n",
    "\n",
    "\n",
    "class Compose(Function):\n",
    "    # Compose(f, g)(x) == f(g(x))\n",
    "    def __init__(self, f, g):\n",
    "        self.f = f\n",
    "        self.g = g\n",
    "\n",
    "    def __call__(self, x):\n",
    "        return self.f(self.g(x))\n",
    "\n",
    "    def derivative(self):\n",
    "        return Compose(self.f.derivative(), self.g) * self.g.derivative()\n",
    "\n",
    "\n",
    "class Sine(Function):\n",
    "    def __call__(self, x):\n",
    "        return math.sin(x)\n",
    "\n",
    "    def derivative(self):\n",
    "        return Cosine()\n",
    "\n",
    "\n",
    "class Cosine(Function):\n",
    "    def __call__(self, x):\n",
    "        return math.cos(x)\n",
    "\n",
    "    def derivative(self):\n",
    "        return Sine()\n",
    "\n",
    "\n",
    "class Constant(Function):\n",
    "    def __init__(self, value):\n",
    "        self.value = value\n",
    "\n",
    "    def __call__(self, x):\n",
    "        return self.value\n",
    "\n",
    "    def derivative(self):\n",
    "        return Constant(0)\n",
    "\n",
    "\n",
    "class Pow(Function):\n",
    "    def __init__(self, order):\n",
    "        self.order = order\n",
    "\n",
    "    def __call__(self, x):\n",
    "        return x ** self.order\n",
    "\n",
    "    def derivative(self):\n",
    "        if self.order == 1:\n",
    "            return Constant(1.)\n",
    "        return Constant(self.order) * Pow(self.order-1)"
   ]
  },
  {
   "cell_type": "code",
   "execution_count": 97,
   "metadata": {},
   "outputs": [
    {
     "name": "stdout",
     "output_type": "stream",
     "text": [
      "f(1.5)  = 11.452505013395946\n",
      "f'(1.5) = -0.0707372016677029\n",
      "g(0.3)  = 0.861171564168752\n",
      "g'(0.3) = -0.12490633052658753\n",
      "h(3.2)  = -0.9715440316334694\n"
     ]
    }
   ],
   "source": [
    "f = -Sine() + Constant(5.7) + Constant(2) * Pow(3)  # f(x) = -sin(x) + 5.7 + 2*x**3\n",
    "print(\"f(1.5)  =\", f(1.5))\n",
    "df = f.derivative()  # f'(x) = cos(x) + 6*x**2\n",
    "print(\"f'(1.5) =\", df(1.5))\n",
    "\n",
    "g = Add(Add(Compose(Sine(), Cosine()), Negate(Cosine())), Constant(1)) # g(x) = sin(cos(x)) - cos(x) + 1\n",
    "print(\"g(0.3)  =\", g(0.3))\n",
    "dg = g.derivative()  # g'(x) = cos(cos(x))*sin(x) + sin(x)\n",
    "print(\"g'(0.3) =\", dg(0.3))\n",
    "\n",
    "h = ((-f) + g).derivative()\n",
    "print(\"h(3.2)  =\", h(3.2))"
   ]
  },
  {
   "cell_type": "markdown",
   "metadata": {},
   "source": [
    "You will see another great example of inheritance in the third assignment: Overloading existing GUI widgets to create your own is an example where OOP shines. There are many other good examples, but many involve a lot of code, or domain specific expertise, to fully grasp; as such, these toy examples often seem a bit contrived.\n",
    "\n",
    "In your coding career, do not introduce needless class hierarchies for the sake of it. Use them when they bring nicer structure, code safety, and simpler code.\n",
    "Having said that; the exam will have 1 question that specifically cover OOP/inheritance in some form. There you should show be able to implement a few simple classes."
   ]
  },
  {
   "cell_type": "code",
   "execution_count": null,
   "metadata": {},
   "outputs": [],
   "source": []
  }
 ],
 "metadata": {
  "kernelspec": {
   "display_name": "Python 3",
   "language": "python",
   "name": "python3"
  },
  "language_info": {
   "codemirror_mode": {
    "name": "ipython",
    "version": 3
   },
   "file_extension": ".py",
   "mimetype": "text/x-python",
   "name": "python",
   "nbconvert_exporter": "python",
   "pygments_lexer": "ipython3",
   "version": "3.7.1"
  }
 },
 "nbformat": 4,
 "nbformat_minor": 1
}

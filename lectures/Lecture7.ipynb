{
 "cells": [
  {
   "cell_type": "markdown",
   "metadata": {},
   "source": [
    "Lecture 7 will focus on Object Oriented Programming (OOP) and will cover classes, instances, constructors, destructors, and methods.\n",
    "\n",
    "The first focus will be *why* you would want to use OOP.\n",
    "\n",
    "Reference\n",
    " * [1] Chapter 9\n",
    " * [2] Section 9.1-9.4, 9.6-9.7\n",
    "\n",
    "Some examples taken from *Think like a computer scientist*\n",
    "http://interactivepython.org/runestone/static/thinkcspy/toc.html#t-o-c\n"
   ]
  },
  {
   "cell_type": "markdown",
   "metadata": {},
   "source": [
    "# An appetizer!"
   ]
  },
  {
   "cell_type": "markdown",
   "metadata": {},
   "source": [
    "A very simple class in Python"
   ]
  },
  {
   "cell_type": "code",
   "execution_count": 1,
   "metadata": {},
   "outputs": [],
   "source": [
    "class Rectangle:\n",
    "    def __init__(self, x0, x1):\n",
    "        \"\"\" Initiates the rectangle for the given corners \"\"\"\n",
    "        self.x0 = x0\n",
    "        self.x1 = x1\n",
    "    \n",
    "    def compute_area(self):\n",
    "        \"\"\" Computes area of the rectangle \"\"\"\n",
    "        return (self.x0[0] - self.x1[0])*(self.x0[1] - self.x1[1])"
   ]
  },
  {
   "cell_type": "markdown",
   "metadata": {},
   "source": [
    "Using the simple class"
   ]
  },
  {
   "cell_type": "code",
   "execution_count": 2,
   "metadata": {},
   "outputs": [],
   "source": [
    "my_rectangle = Rectangle([1,2], [10,3])"
   ]
  },
  {
   "cell_type": "code",
   "execution_count": 3,
   "metadata": {},
   "outputs": [
    {
     "name": "stdout",
     "output_type": "stream",
     "text": [
      "9\n"
     ]
    }
   ],
   "source": [
    "print( my_rectangle.compute_area() )"
   ]
  },
  {
   "cell_type": "markdown",
   "metadata": {},
   "source": [
    "__Classes are the standard way (in many programming languages) to construct object abstractions!__ \n",
    "\n",
    "They are very useful to keep simplicity in more and more complex software."
   ]
  },
  {
   "cell_type": "markdown",
   "metadata": {},
   "source": [
    "## You have been using objects all the time"
   ]
  },
  {
   "cell_type": "markdown",
   "metadata": {},
   "source": [
    "* Strings\n",
    "* Lists, sets, dictionaries\n",
    "* File objects\n",
    "* Numpy arrays\n",
    "* KDTree\n",
    "* Even integers!\n",
    "\n",
    "( some of the stuff above might be implemented slightly different than with a class in Python, but conceptually they are the same )"
   ]
  },
  {
   "cell_type": "markdown",
   "metadata": {},
   "source": [
    "Primitives like floats, integers, bools, characters, are often not treated as objects in many object oriented programming languages, but in Python they are."
   ]
  },
  {
   "cell_type": "code",
   "execution_count": 28,
   "metadata": {},
   "outputs": [
    {
     "name": "stdout",
     "output_type": "stream",
     "text": [
      "(1, 2)\n"
     ]
    }
   ],
   "source": [
    "x = 0.5\n",
    "print(x.as_integer_ratio())"
   ]
  },
  {
   "cell_type": "markdown",
   "metadata": {},
   "source": [
    "# What's the point with OOP?"
   ]
  },
  {
   "cell_type": "markdown",
   "metadata": {},
   "source": [
    "In OOP the focus is on the creation of objects which contain both data and functionality together (and we call that an **object**)\n",
    "\n",
    "Usually, each object definition corresponds to some object or concept in the real world and the functions that operate on that object correspond to the ways real-world objects interact.\n",
    "Objects have a state and methods that act on this state. Programs manipulate the states by manipulating the objects."
   ]
  },
  {
   "cell_type": "markdown",
   "metadata": {},
   "source": [
    "## And why is that better?"
   ]
  },
  {
   "cell_type": "markdown",
   "metadata": {},
   "source": [
    "After all, one can can just as easily do a\n",
    "\n",
    "```python\n",
    "do_things(object_a, object_b)\n",
    "```\n",
    "instead of\n",
    "```python\n",
    "object_a.do_thing(object_b)\n",
    "```"
   ]
  },
  {
   "cell_type": "markdown",
   "metadata": {},
   "source": [
    "## Several reasons"
   ]
  },
  {
   "cell_type": "markdown",
   "metadata": {},
   "source": [
    " 1. Conceptually better design to \"ask\" objects to perform things, e.g. \n",
    "\n",
    "    ```python\n",
    "    phone.send_sms(\"Hello world!\") # Have the phone send the message\n",
    "    send_sms(phone, \"Hello world!\") # Pass the phone and message to the send_sms function\n",
    "    ```\n",
    " 2. Allows for object specific functionality more conveniently\n",
    "\n",
    "    ```python\n",
    "    if use_console:\n",
    "        logger = ConsoleOutput()\n",
    "    else:\n",
    "        logger = FileWriter(\"logfile.txt\")\n",
    "    ...\n",
    "    logger.write(message) # Object specific method is called\n",
    "    write(logger, message) # Can we even construct this general function?\n",
    "    ```\n",
    " 3. Inheritance makes methods much more powerful than functions (next lecture)"
   ]
  },
  {
   "cell_type": "markdown",
   "metadata": {},
   "source": [
    "## Sometimes (often), functions are suitable"
   ]
  },
  {
   "cell_type": "markdown",
   "metadata": {},
   "source": [
    "But sometimes, ordinary functions and procedural programming is the way to go:\n",
    "\n",
    "```python\n",
    "coords = read_coordinate_file('SampleCoordinates.txt')\n",
    "```\n",
    "is perfectly straight forward, and\n",
    "\n",
    "```python\n",
    "def max(a, b):\n",
    "    return a if a > b else b\n",
    "```\n",
    "is a good, general function.\n",
    "\n",
    "If an object doesn't have any data, then it's essentially the same as just a function with a name\n",
    "\n",
    "```python\n",
    "class MyThing:\n",
    "    def do_thing():\n",
    "        ...\n",
    "\n",
    "mything_do_thing() # This will do just as well.\n",
    "```"
   ]
  },
  {
   "cell_type": "markdown",
   "metadata": {},
   "source": [
    "## The best reason for OOP"
   ]
  },
  {
   "cell_type": "markdown",
   "metadata": {},
   "source": [
    "What makes programming with large codes difficult?\n",
    "\n",
    "**A.** Syntax (how to express the code)?\n",
    "\n",
    "**B.** Logic (how to solve a tricky problem)?\n",
    "\n",
    "**C.** State (keeping track of all the variables)?\n",
    "\n",
    "...\n",
    "\n",
    "...\n",
    "\n",
    "...\n",
    "\n",
    "...\n",
    "\n",
    "...\n",
    "\n",
    "...\n",
    "\n",
    "...\n",
    "\n",
    "...\n",
    "\n",
    "..."
   ]
  },
  {
   "cell_type": "markdown",
   "metadata": {},
   "source": [
    "The right answer is sometimes logic, but in a code of any significant size **state** creeps up and becomes a beast to deal with. The human brain can only keep track of so many things simultaneously."
   ]
  },
  {
   "cell_type": "markdown",
   "metadata": {},
   "source": [
    "The solution to this? ***Scope and abstractions!***\n",
    "\n",
    "You have made functions already that hide away details inside a scope."
   ]
  },
  {
   "cell_type": "code",
   "execution_count": 29,
   "metadata": {},
   "outputs": [],
   "source": [
    "def numerical_integration(f, span):\n",
    "    \"\"\" Does numerical integration of f over the given span \"\"\"\n",
    "    import numpy as np\n",
    "    xs = np.linspace(span[0], span[1], 100)\n",
    "    s = 0\n",
    "    for i in range(len(xs)-1):\n",
    "        dx = xs[i+1]-xs[i]\n",
    "        x_mid = 0.5*(xs[i]+xs[i+1])\n",
    "        s += dx*f(x_mid)\n",
    "    return s"
   ]
  },
  {
   "cell_type": "markdown",
   "metadata": {},
   "source": [
    "Calling the function will look very clean. No need to worry about internal variables `x_mid` or anything like that."
   ]
  },
  {
   "cell_type": "code",
   "execution_count": 30,
   "metadata": {},
   "outputs": [
    {
     "name": "stdout",
     "output_type": "stream",
     "text": [
      "0.3333248308\n"
     ]
    }
   ],
   "source": [
    "f = lambda x : x**2              # f(x) = x^2\n",
    "print(  numerical_integration(f, (0, 1))  )  # Analytical answer is 1/3\n",
    "# I only need to keep track of my function 'f' in this scope."
   ]
  },
  {
   "cell_type": "markdown",
   "metadata": {},
   "source": [
    "Even fairly simple code, like a matrix multiplication\n",
    "\n",
    "```python\n",
    "for i in range(k.rows):\n",
    "    y[i] = 0\n",
    "    for j in range(k.cols):\n",
    "        y[i] += k[i,j] * x[j]\n",
    "```\n",
    "would be unmanagable to have reccuring everywhere in the code. We need to hide it away:\n",
    "```python\n",
    "y = k*x\n",
    "```"
   ]
  },
  {
   "cell_type": "markdown",
   "metadata": {},
   "source": [
    "## Objects and abstractions"
   ]
  },
  {
   "cell_type": "markdown",
   "metadata": {},
   "source": [
    "Creating your own abstractions with objects allows you to hide away details\n",
    "\n",
    "```python\n",
    "x = [[[1.,2.],[3.,4.],[0.,2.]],\n",
    "     [[3.,4.],[2.,0.],[3.,4.]],\n",
    "     [[5.,6.],[1.,1.],[3.,3.]],\n",
    "     ...\n",
    "    ]\n",
    "```\n",
    "`x` is a list of lists of lists of floats."
   ]
  },
  {
   "cell_type": "markdown",
   "metadata": {},
   "source": [
    "```python\n",
    "y = [Triangle(Point(1., 2.), Point(1., 2.), Point(0., 2.)),\n",
    "     Triangle(Point(3., 4.), Point(2., 0.), Point(3., 4.)),\n",
    "     Triangle(Point(5., 6.), Point(1., 1.), Point(3., 3.)),\n",
    "    ...\n",
    "    ]\n",
    "```\n",
    "\n",
    "`y` is a list of triangles.\n",
    "\n",
    "The Triangle object *shows intent*, which is the best thing code can do to avoid logic bugs.\n",
    "\n",
    "---------------------------------\n",
    "\n",
    "*Typing in `y` is much more tedious in this example, but hardcoding huge lists are rarely ever done like this anyway, in practice we would find:*\n",
    "```python\n",
    "y = compute_triangle_mesh(geometry)\n",
    "```\n",
    "\n",
    "--------------------\n",
    "In the typical Matlab code, everything is a vector/matrix. This is why I don't consider it a high level programming langauge, since you are always stuck with a basic block of numbers with no abstraction.\n",
    "It relies solely on the variable names and the programmers memory to keep track of everything.\n",
    "\n",
    "\n",
    "*Technically matlab can also do basic OOP, but it's never used and it's probably painfully slow.*"
   ]
  },
  {
   "cell_type": "markdown",
   "metadata": {},
   "source": [
    "# Some examples"
   ]
  },
  {
   "cell_type": "markdown",
   "metadata": {},
   "source": [
    "Some examples of objects with a typical state + a few of the methods it might contain"
   ]
  },
  {
   "cell_type": "markdown",
   "metadata": {},
   "source": [
    "* **Complex number**: `re`, `im` + `abs()`, `imag()`, `real()`, `conjugate()`, `add(...)`, ...\n",
    "* **Triangle**: `[Points]` + `area()`, `normal()`, ...\n",
    "* **Matrix**: `[[floats]]` + `eigen_values()`, `solve(b)`, ...\n",
    "* **Timer**: `start_time, duration` + `start()`, `stop()`, `reset()`, `read()`\n",
    "* **IntegrationPoint**: `position`, `weight`\n",
    "* **DateTime**: `seconds_since_epoch` + `year()`, `day_of_week()`, ...\n",
    "* **CSRMatrix**: `data`, `colind`, `rowptr` + `transpose()`, `dot(x)`, ...\n",
    "* **Velocity**: `coefficient`, `unit` + `kmh()`, `mph()`\n",
    "* **XMLParser**: `data_stream`, + `iter()` + `next()`\n",
    "* **PlasticMaterialModel**: `youngs_modulus`, `poissons_ratio`, `yield_strength`, + `compute_stress(strain)` + `compute_tangent(state)`\n",
    "* **numpy.array**: `data`, `dtype` + `[]`, ...\n",
    "* **str**: `unicode_data` + `[]`, `split()`, ...\n",
    "* **dict**: `hash_table`, `data` + `[]`, `items()`, ...\n",
    "\n",
    "\n",
    "It doesn't have to be representations of physical objects!\n",
    "\n",
    "It gives semantic meaning to a bundle of values. It gives us type-safety (more so in statically compiled languages) for vastly larger code safety.\n",
    "\n",
    "It also gives functions that are very strongly tied to the particular object a convenient way to find them; `str.split`, `list.append`, `list.sort`.\n",
    "\n",
    "It gives us the option of specializing common functions to a particular object: `matrix.dot` vs `csr_matrix.dot`"
   ]
  },
  {
   "cell_type": "markdown",
   "metadata": {},
   "source": [
    "# The class and the constructor"
   ]
  },
  {
   "cell_type": "code",
   "execution_count": 6,
   "metadata": {},
   "outputs": [],
   "source": [
    "class Point:\n",
    "    def __init__(self, x, y):\n",
    "        self.x = x\n",
    "        self.y = y\n",
    "\n",
    "    def distance_to(self, other):\n",
    "        from math import sqrt\n",
    "        return sqrt((self.x - other.x)**2 + (self.y - other.y)**2)"
   ]
  },
  {
   "cell_type": "markdown",
   "metadata": {},
   "source": [
    "## Creating instances of the class"
   ]
  },
  {
   "cell_type": "code",
   "execution_count": 5,
   "metadata": {},
   "outputs": [
    {
     "data": {
      "text/plain": [
       "0.316227766016838"
      ]
     },
     "execution_count": 5,
     "metadata": {},
     "output_type": "execute_result"
    }
   ],
   "source": [
    "p1 = Point(0.3, 0.7)\n",
    "p2 = Point(0.4, 1.0)\n",
    "p1.distance_to(p2)"
   ]
  },
  {
   "cell_type": "markdown",
   "metadata": {},
   "source": [
    "Some points on terminology:\n",
    "* p1 and p2 are instances of Point\n",
    "* p1 and p2 are objects\n",
    "* Point is a class"
   ]
  },
  {
   "cell_type": "markdown",
   "metadata": {},
   "source": [
    "### The \"self\" argument"
   ]
  },
  {
   "cell_type": "markdown",
   "metadata": {},
   "source": [
    "The first method arguments refers to the *object itself* when methods are called.\n",
    "The name \"self\" is not strictly necessary, but \"self\" is the standard name (you should always use it)."
   ]
  },
  {
   "cell_type": "markdown",
   "metadata": {},
   "source": [
    "## The constructor: Constructs instances"
   ]
  },
  {
   "cell_type": "markdown",
   "metadata": {},
   "source": [
    "`__init__` is a special method. It is called when the constructor is called.\n",
    "The constructor is named the same as the name of the class."
   ]
  },
  {
   "cell_type": "markdown",
   "metadata": {},
   "source": [
    "There are several special methods that all start and end with two underscores."
   ]
  },
  {
   "cell_type": "markdown",
   "metadata": {},
   "source": [
    "## Default constructors"
   ]
  },
  {
   "cell_type": "code",
   "execution_count": 152,
   "metadata": {},
   "outputs": [],
   "source": [
    "class MyClass:\n",
    "    pass\n",
    "\n",
    "# Is equivalent to\n",
    "\n",
    "class MyClass:\n",
    "    def __init__(self):\n",
    "        pass"
   ]
  },
  {
   "cell_type": "code",
   "execution_count": 153,
   "metadata": {},
   "outputs": [],
   "source": [
    "p = MyClass()"
   ]
  },
  {
   "cell_type": "markdown",
   "metadata": {},
   "source": [
    "# Destructors"
   ]
  },
  {
   "cell_type": "markdown",
   "metadata": {},
   "source": [
    "In many languages with OOP, there is a destructor that cleans up after objects are destroyed.\n",
    "It could be closing a file or network connection. It could be freeing up allocated memory.\n",
    "\n",
    "In Python the destructor isn't as relevant, and they are rarely used (due to the garbage collected memory management).\n",
    "\n",
    "Instead of calling the destructor when the last reference to the object disappear, it is called when the garbage collector is called.\n",
    "\n",
    "*The garbage collector frees up memory when it detects an object is no longer in use. You don't have control over when it runs in Python.*"
   ]
  },
  {
   "cell_type": "code",
   "execution_count": 62,
   "metadata": {},
   "outputs": [
    {
     "name": "stdout",
     "output_type": "stream",
     "text": [
      "Good bye\n"
     ]
    }
   ],
   "source": [
    "class MyClass:\n",
    "    def __del__(self):\n",
    "        print(\"Good bye\")\n",
    "\n",
    "\n",
    "x = MyClass()\n",
    "x = list() # We just lost the last reference to the MyClass() object we created!"
   ]
  },
  {
   "cell_type": "markdown",
   "metadata": {},
   "source": [
    "## The 'with' statement"
   ]
  },
  {
   "cell_type": "markdown",
   "metadata": {},
   "source": [
    "The `with` statement in Python act as a sort of replacement for much uses of constructors and destructors.\n",
    "\n",
    "Typically used when a resource has to be aquired, and later must/should be immediately released when the object is no longer in use."
   ]
  },
  {
   "cell_type": "code",
   "execution_count": 9,
   "metadata": {},
   "outputs": [],
   "source": [
    "class MyClass:\n",
    "    def __init__(self):\n",
    "        print(\"Creating the object\")\n",
    "\n",
    "    def __enter__(self):\n",
    "        print(\"Opening a file or something\")\n",
    "        return self\n",
    "    \n",
    "    def __exit__(self, type, value, traceback):\n",
    "        print(\"Closing that file\")\n",
    "        print(self, type, value, traceback)\n",
    "    \n",
    "    def do_thing(self):\n",
    "        print(\"hello again\")"
   ]
  },
  {
   "cell_type": "code",
   "execution_count": 10,
   "metadata": {},
   "outputs": [
    {
     "name": "stdout",
     "output_type": "stream",
     "text": [
      "Creating the object\n",
      "Opening a file or something\n",
      "Doing stuff with x and y!\n",
      "Closing that file\n",
      "<__main__.MyClass object at 0x7fa2c1f1eeb8> <class 'NameError'>  <traceback object at 0x7fa2c5bbca08>\n"
     ]
    },
    {
     "ename": "NameError",
     "evalue": "",
     "output_type": "error",
     "traceback": [
      "\u001b[0;31m---------------------------------------------------------------------------\u001b[0m",
      "\u001b[0;31mNameError\u001b[0m                                 Traceback (most recent call last)",
      "\u001b[0;32m<ipython-input-10-7ed7abe1cf73>\u001b[0m in \u001b[0;36m<module>\u001b[0;34m()\u001b[0m\n\u001b[1;32m      2\u001b[0m \u001b[0;32mwith\u001b[0m \u001b[0ma\u001b[0m \u001b[0;32mas\u001b[0m \u001b[0mx\u001b[0m\u001b[0;34m:\u001b[0m\u001b[0;34m\u001b[0m\u001b[0;34m\u001b[0m\u001b[0m\n\u001b[1;32m      3\u001b[0m     \u001b[0mprint\u001b[0m\u001b[0;34m(\u001b[0m\u001b[0;34m\"Doing stuff with x and y!\"\u001b[0m\u001b[0;34m)\u001b[0m\u001b[0;34m\u001b[0m\u001b[0;34m\u001b[0m\u001b[0m\n\u001b[0;32m----> 4\u001b[0;31m     \u001b[0;32mraise\u001b[0m \u001b[0mNameError\u001b[0m \u001b[0;31m# The __exit__ statement will be called even when errors occur, ensuring that the file is closed\u001b[0m\u001b[0;34m\u001b[0m\u001b[0;34m\u001b[0m\u001b[0m\n\u001b[0m\u001b[1;32m      5\u001b[0m     \u001b[0mprint\u001b[0m\u001b[0;34m(\u001b[0m\u001b[0;34m\"Printing some more\"\u001b[0m\u001b[0;34m)\u001b[0m\u001b[0;34m\u001b[0m\u001b[0;34m\u001b[0m\u001b[0m\n",
      "\u001b[0;31mNameError\u001b[0m: "
     ]
    }
   ],
   "source": [
    "a = MyClass()\n",
    "with a as x:\n",
    "    print(\"Doing stuff with x and y!\")\n",
    "    raise NameError # The __exit__ statement will be called even when errors occur, ensuring that the file is closed\n",
    "    print(\"Printing some more\")"
   ]
  },
  {
   "cell_type": "markdown",
   "metadata": {},
   "source": [
    "This is also something we rarely use (just for things that need to aquire and release a resource)."
   ]
  },
  {
   "cell_type": "markdown",
   "metadata": {},
   "source": [
    "## The `__str__` method"
   ]
  },
  {
   "cell_type": "markdown",
   "metadata": {},
   "source": [
    "Printing out human readable representations of the data is important\n",
    "\n",
    "When the function `str(x)` is called on a class, it will look for the method `x.__str__`."
   ]
  },
  {
   "cell_type": "code",
   "execution_count": 11,
   "metadata": {},
   "outputs": [],
   "source": [
    "class Point:\n",
    "    def __init__(self, x, y):\n",
    "        self.x = x\n",
    "        self.y = y\n",
    "\n",
    "    def __str__(self):\n",
    "        return \"Point at [{}, {}]\".format(self.x, self.y)"
   ]
  },
  {
   "cell_type": "code",
   "execution_count": 12,
   "metadata": {},
   "outputs": [
    {
     "data": {
      "text/plain": [
       "'Point at [0.3, 5.6]'"
      ]
     },
     "execution_count": 12,
     "metadata": {},
     "output_type": "execute_result"
    }
   ],
   "source": [
    "x = Point(0.3, 5.6)\n",
    "str(x)"
   ]
  },
  {
   "cell_type": "markdown",
   "metadata": {},
   "source": [
    "We can print x directly, and print will ask for the string representation of the object automatically"
   ]
  },
  {
   "cell_type": "code",
   "execution_count": 21,
   "metadata": {},
   "outputs": [
    {
     "name": "stdout",
     "output_type": "stream",
     "text": [
      "Point at [0.3, 5.6]\n"
     ]
    }
   ],
   "source": [
    "print(x)"
   ]
  },
  {
   "cell_type": "markdown",
   "metadata": {},
   "source": [
    "The same `__xxx__` methods applies other conversions, like `float(x)`, `int(x)`"
   ]
  },
  {
   "cell_type": "markdown",
   "metadata": {},
   "source": [
    "A strongly related method is the `__repr__` method which also (should) return a string.\n",
    "`str(x)` is called on an object that's missing `__str__`, then `__repr__` is used instead.\n",
    "`repr(x)` is the representation of the object\n"
   ]
  },
  {
   "cell_type": "markdown",
   "metadata": {},
   "source": [
    "# Class variables"
   ]
  },
  {
   "cell_type": "markdown",
   "metadata": {},
   "source": [
    "Class variables (as opposed to instance variables) are shared variables for all instances in the class"
   ]
  },
  {
   "cell_type": "code",
   "execution_count": 22,
   "metadata": {},
   "outputs": [],
   "source": [
    "class MyClass:\n",
    "    y = 0\n",
    "    \n",
    "    def __init__(self, x):\n",
    "        self.x = x\n",
    "        MyClass.y += 1"
   ]
  },
  {
   "cell_type": "code",
   "execution_count": 23,
   "metadata": {},
   "outputs": [
    {
     "name": "stdout",
     "output_type": "stream",
     "text": [
      "7 7\n"
     ]
    }
   ],
   "source": [
    "MyClass.y = 5\n",
    "a = MyClass(123)\n",
    "b = MyClass(456)\n",
    "print(a.y, b.y)"
   ]
  },
  {
   "cell_type": "markdown",
   "metadata": {},
   "source": [
    "## When are they useful?"
   ]
  },
  {
   "cell_type": "markdown",
   "metadata": {},
   "source": [
    "* Constants. E.g. math constants, `log_10`, or the `Triangle` example below\n",
    "* Instance counters (I'm not to found of these)"
   ]
  },
  {
   "cell_type": "code",
   "execution_count": 24,
   "metadata": {},
   "outputs": [],
   "source": [
    "import numpy as np\n",
    "import numpy.linalg as la\n",
    "\n",
    "class Triangle:\n",
    "    # Keeps track of which (local) nodes are on which edge:\n",
    "    edge_num = np.array([(0, 1), (1, 2), (2, 0)])\n",
    "    \n",
    "    def __init__(self, points):\n",
    "        self.points = points\n",
    "    \n",
    "    def compute_edge_length(self, edge):\n",
    "        p_a, p_b = self.points[self.edge_num[edge]]\n",
    "        return la.norm(p_b - p_a)"
   ]
  },
  {
   "cell_type": "code",
   "execution_count": 25,
   "metadata": {},
   "outputs": [
    {
     "data": {
      "text/plain": [
       "2.23606797749979"
      ]
     },
     "execution_count": 25,
     "metadata": {},
     "output_type": "execute_result"
    }
   ],
   "source": [
    "t = Triangle(np.array([[0,0], [2,1], [1,3]]))\n",
    "t.compute_edge_length(0)"
   ]
  },
  {
   "cell_type": "markdown",
   "metadata": {},
   "source": [
    "# Private variables"
   ]
  },
  {
   "cell_type": "markdown",
   "metadata": {},
   "source": [
    "Private variables can only be accessed within the class. While many programming languages (e.g. C++/Java) have this concept, there is no way to enforce this in Python. \n",
    "\n",
    "Instead, the convention is to indicate that these variables are private (and should not be directly accessed outside the class) by preceeding the variables with two underscores"
   ]
  },
  {
   "cell_type": "code",
   "execution_count": 26,
   "metadata": {},
   "outputs": [],
   "source": [
    "class Rectangle:\n",
    "    def __init__(self, x, y, w, h):\n",
    "        self.__area = w * h\n",
    "        self.x = x\n",
    "        self.y = y\n",
    "        self.__w = w\n",
    "        self.__h = h\n",
    "    \n",
    "    def update_width(self, w):\n",
    "        self.__w = w\n",
    "        self.__area = self.__h * w\n",
    "\n",
    "    def update_height(self, h):\n",
    "        self.__h = h\n",
    "        self.__area = self.__w * h\n",
    "\n",
    "    def compute_area(self):\n",
    "        # Computing the area is so cheap this would not be worth storing in memory.\n",
    "        # But imagine there would be a computation that was very expensive so that you wanted to store it.\n",
    "        return self.__area"
   ]
  },
  {
   "cell_type": "markdown",
   "metadata": {},
   "source": [
    "# Computer assignment 2"
   ]
  },
  {
   "cell_type": "markdown",
   "metadata": {},
   "source": [
    "The second assignment will be more open-ended than the first. However, it still intended to test OOP, so to pass, it's required to use classes where it is suitable (even if you might be able to do without). You should also make use of `Enum` (covered in greater detail later).\n",
    "\n",
    "I highly recommended having a quick read through the _whole_ assignment before starting.\n",
    "\n",
    "1. The library for card games (in particular, functionality for Texas Hold'em poker)\n",
    "2. Writing unit tests\n",
    "3. Writing and generating API documentation\n",
    "\n",
    "The library have list specific classes that must be included.\n",
    "You will use this library to implement a graphical Texas Hold'em game in the last lab."
   ]
  },
  {
   "cell_type": "code",
   "execution_count": null,
   "metadata": {},
   "outputs": [],
   "source": []
  }
 ],
 "metadata": {
  "kernelspec": {
   "display_name": "Python 3",
   "language": "python",
   "name": "python3"
  },
  "language_info": {
   "codemirror_mode": {
    "name": "ipython",
    "version": 3
   },
   "file_extension": ".py",
   "mimetype": "text/x-python",
   "name": "python",
   "nbconvert_exporter": "python",
   "pygments_lexer": "ipython3",
   "version": "3.7.2"
  }
 },
 "nbformat": 4,
 "nbformat_minor": 1
}

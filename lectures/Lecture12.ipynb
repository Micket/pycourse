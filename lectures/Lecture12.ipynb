{
 "metadata": {
  "name": "",
  "signature": "sha256:9de1ab89f8b0427102cca08f8d0c3cf22bb2c38fd624a51e3fabd197d37ff7fc"
 },
 "nbformat": 3,
 "nbformat_minor": 0,
 "worksheets": [
  {
   "cells": [
    {
     "cell_type": "markdown",
     "metadata": {},
     "source": [
      "Lecture 12 will cover how to tie the GUI-widgets to the application logic. It will cover the Model-View-Controller (MVC) design concept for GUI.\n",
      "\n",
      "Reference\n",
      " * [1] Chapter \n",
      " * [2] Section"
     ]
    },
    {
     "cell_type": "markdown",
     "metadata": {},
     "source": [
      "First a bit of standard stuff needed to work with Qt"
     ]
    },
    {
     "cell_type": "code",
     "collapsed": false,
     "input": [
      "from PySide.QtCore import *\n",
      "from PySide.QtGui import *\n",
      "import sys"
     ],
     "language": "python",
     "metadata": {},
     "outputs": [],
     "prompt_number": 2
    },
    {
     "cell_type": "code",
     "collapsed": false,
     "input": [
      "qt_app = QApplication(sys.argv)"
     ],
     "language": "python",
     "metadata": {},
     "outputs": [],
     "prompt_number": 3
    },
    {
     "cell_type": "heading",
     "level": 1,
     "metadata": {},
     "source": [
      "State (Model)"
     ]
    },
    {
     "cell_type": "markdown",
     "metadata": {},
     "source": [
      "It is important to think of the *state* of an interactive piece of software.\n",
      "In sequential scripts, it is easy to keep track of the state, as the order of events are all predetermined, but this is not the case in interactive applications (whether or not they are graphical).\n",
      "\n",
      "For example, the minimum state of a chess game would be:\n",
      "* Whose players turn it is.\n",
      "* The position of all pieces left on the board.\n",
      "\n",
      "but a nicely presented game might need to store more\n",
      "* All the moves so far, in order, for each player\n",
      "* The pieces taken by each player.\n",
      "\n",
      "The user interface renders the information from the state. The user interacts with the user interface which sends signals back to the state to modify it."
     ]
    },
    {
     "cell_type": "heading",
     "level": 2,
     "metadata": {},
     "source": [
      "Mismatching UI and application state"
     ]
    },
    {
     "cell_type": "markdown",
     "metadata": {},
     "source": [
      "A common mistake is to let the presented UI not match the actual program state.\n",
      "Lets take the example of a simple painting application, where the state must at least include:\n",
      "* The drawing surface (size, pixel values, etc.)\n",
      "* The selected tool\n",
      "\n",
      "When a tool is selected, it's commonly represented as a pressed down button.\n",
      "When selecting a new tool, the previous tool button should be unpressed.\n",
      "<img src=\"buttons.png\"/>\n",
      "Well, that's not to bad. We could even just unpress all the buttons before repressing the new one to be sure.\n",
      "But, then, later on, we learn about the undo-operation and now there is a real risk of messing this up.\n",
      "\n",
      "\n",
      "Another simple example would be the player name. What if, somewhere later on, we let the player change his name?\n",
      "We would need to modify this in all occurrences where it might be printed.\n",
      "\n",
      "The key difference here is that we either update\n",
      "* the whole UI based on the *total* state\n",
      "* a section of the UI based on the *difference* in the state\n",
      "The first option can never display the wrong information, but the reason to sometimes prefer the second option is for performance.\n",
      "Widget toolkits tend to only update the graphics whenever a drawing event occurs (window resized, mouse movement/clicks etc.)\n",
      "\n",
      "It's therefore not uncommon to see applications where you need to \"wiggle\" the window edge around to force a window redraw event in order for the content to be updated. In games, this rarely happens, as games typically redraw, from the *total* state 60 frames per second, with little regard for battery life."
     ]
    },
    {
     "cell_type": "heading",
     "level": 1,
     "metadata": {},
     "source": [
      "Signals"
     ]
    },
    {
     "cell_type": "markdown",
     "metadata": {},
     "source": [
      "Last lecture we looked (briefly) at procedures for placing widgets. I hope you all agree that it is fairly straight forward to construct these, and now the more difficult task of having all the buttons interact and actually do something.\n",
      "One can read more about this on:\n",
      "http://qt-project.org/wiki/Signals_and_Slots_in_PySide\n",
      "\n",
      "In it's simplest form, we have a callback function"
     ]
    },
    {
     "cell_type": "code",
     "collapsed": false,
     "input": [
      "def some_func():\n",
      "    print(\"some function has been called!\")\n",
      "\n",
      "def some_other_func():\n",
      "    print(\"some other function has been called!\")\n",
      "\n",
      "qt_app = QApplication.instance()\n",
      "button = QPushButton(\"Call some function\")\n",
      "\n",
      "button.clicked.connect(some_func)\n",
      "#         ^               ^\n",
      "#       signal           slot\n",
      "\n",
      "button.clicked.connect(some_other_func) # We can connect multiple slots to a signal.\n",
      "\n",
      "button.show()\n",
      "qt_app.exec_()"
     ],
     "language": "python",
     "metadata": {},
     "outputs": [
      {
       "output_type": "stream",
       "stream": "stdout",
       "text": [
        "some function has been called!\n",
        "some other function has been called!\n",
        "some function has been called!"
       ]
      },
      {
       "output_type": "stream",
       "stream": "stdout",
       "text": [
        "\n",
        "some other function has been called!\n",
        "some function has been called!"
       ]
      },
      {
       "output_type": "stream",
       "stream": "stdout",
       "text": [
        "\n",
        "some other function has been called!\n",
        "some function has been called!"
       ]
      },
      {
       "output_type": "stream",
       "stream": "stdout",
       "text": [
        "\n",
        "some other function has been called!\n"
       ]
      },
      {
       "metadata": {},
       "output_type": "pyout",
       "prompt_number": 6,
       "text": [
        "0"
       ]
      }
     ],
     "prompt_number": 6
    },
    {
     "cell_type": "markdown",
     "metadata": {},
     "source": [
      "Whenever the button is clicked, Qt finds out which button, and emits the signal for that button, like this:"
     ]
    },
    {
     "cell_type": "code",
     "collapsed": false,
     "input": [
      "button.clicked.emit()"
     ],
     "language": "python",
     "metadata": {},
     "outputs": [
      {
       "output_type": "stream",
       "stream": "stdout",
       "text": [
        "someFunc has been called!\n"
       ]
      },
      {
       "metadata": {},
       "output_type": "pyout",
       "prompt_number": 13,
       "text": [
        "True"
       ]
      }
     ],
     "prompt_number": 13
    },
    {
     "cell_type": "markdown",
     "metadata": {},
     "source": [
      "Signals can be emitted in other ways, for example using the `QTimer`."
     ]
    },
    {
     "cell_type": "heading",
     "level": 1,
     "metadata": {},
     "source": [
      "Model View Controller (MVC)"
     ]
    },
    {
     "cell_type": "markdown",
     "metadata": {},
     "source": [
      "From wikipedia:\n",
      "\n",
      "<img src=\"200px-MVC-Process.svg.png\"/>\n",
      "\n",
      "* A controller can send commands to the model to update the model's state (e.g., editing a document). It can also send commands to its associated view to change the view's presentation of the model (e.g., by scrolling through a document).\n",
      "* A model notifies its associated views and controllers when there has been a change in its state. This notification allows the views to produce updated output, and the controllers to change the available set of commands. In some cases an MVC implementation might instead be \"passive,\" so that other components must poll the model for updates rather than being notified.\n",
      "* A view requests information from the model that it uses to generate an output representation to the user.\n",
      "\n",
      "The model is presicely that of the *state* described earlier.\n",
      "\n",
      "The controller is typically part of the *view*, e.g. selecting an object represented by some icon in the *view*."
     ]
    },
    {
     "cell_type": "heading",
     "level": 2,
     "metadata": {},
     "source": [
      "QStringListModel and QStringListView"
     ]
    },
    {
     "cell_type": "markdown",
     "metadata": {},
     "source": [
      "A simple example is that of predefined QStringListModel and QStringListView. The QStringListView incorporates the role of the Controller as well (as expected)."
     ]
    },
    {
     "cell_type": "markdown",
     "metadata": {},
     "source": [
      "First, lets try the normal list widgets to see the problem"
     ]
    },
    {
     "cell_type": "code",
     "collapsed": false,
     "input": [
      "qt_app = QApplication.instance()\n",
      "\n",
      "data = [\"one\", \"two\", \"three\", \"four\", \"five\"]\n",
      "\n",
      "\n",
      "combobox = QComboBox()\n",
      "combobox.addItems(data)\n",
      "combobox.show()\n",
      "\n",
      "\n",
      "listWidget = QListWidget()\n",
      "listWidget.addItems(data)\n",
      "for i in range(listWidget.count()):\n",
      "    item = listWidget.item(i)\n",
      "    item.setFlags( item.flags() | Qt.ItemIsEditable )\n",
      "listView.show()\n",
      "\n",
      "qt_app.exec_()"
     ],
     "language": "python",
     "metadata": {},
     "outputs": [
      {
       "metadata": {},
       "output_type": "pyout",
       "prompt_number": 14,
       "text": [
        "0"
       ]
      }
     ],
     "prompt_number": 14
    },
    {
     "cell_type": "markdown",
     "metadata": {},
     "source": [
      "As expected. When modifying the list widget, the information in the combobox does not update. This is because the widgets store copies of the data, and never modifies it."
     ]
    },
    {
     "cell_type": "code",
     "collapsed": false,
     "input": [
      "qt_app = QApplication.instance()\n",
      "\n",
      "data = [\"one\", \"two\", \"three\", \"four\", \"five\"]\n",
      "\n",
      "model = QStringListModel(data)\n",
      "   \n",
      "combobox = QComboBox()\n",
      "combobox.setModel(model)\n",
      "combobox.show()\n",
      "    \n",
      "listView = QListView()\n",
      "listView.setModel(model)\n",
      "listView.show()\n",
      "\n",
      "qt_app.exec_()"
     ],
     "language": "python",
     "metadata": {},
     "outputs": [
      {
       "metadata": {},
       "output_type": "pyout",
       "prompt_number": 17,
       "text": [
        "0"
       ]
      }
     ],
     "prompt_number": 17
    },
    {
     "cell_type": "markdown",
     "metadata": {},
     "source": [
      "There are 2 components to this:\n",
      "1. The views don't story copies of the data. The vies always represent the state in the model.\n",
      "2. The secondary view is updated as soon as the other is modified. \n",
      "\n",
      "The events go roughly like this:\n",
      " * The Views have a `setModel` (or equivalent) method which does 2 things\n",
      "      - The View stores a reference to the model so that it can ask for the data it needs.\n",
      "      - The View adds a slot to the `dataChanged` signal in the Model to keep track of when data changes.'\n",
      " * The user edits the first view window. The View passes modifies the model by calling `setData` or equivalent.\n",
      " * The `setData` method in the Model emits a `dataChanged` signal (regardless of who modified the data).\n",
      " * The connected slot (callback methods) in every view is called, and each view will ask the model for the data they need.\n",
      "\n",
      "One has to be careful as to not modify the data without emitting the `dataChanged` signal (e.g. if you subclass QStringListModel)"
     ]
    },
    {
     "cell_type": "heading",
     "level": 1,
     "metadata": {},
     "source": [
      "Subclassing and Model+View example"
     ]
    },
    {
     "cell_type": "markdown",
     "metadata": {},
     "source": [
      "I prefer to subclass very frequently. There are many components in Qt that are meant to be subclassed, such as `QAbstractListModel`, which allows for convenient access to the signal system used in the `QStringListModel`, but for lists that might be of a different type (e.g. a list of chess pieces for a game).\n",
      "\n",
      "Sometimes subclasses are just there to add a piece of useful information, or a small specialization. For example a simple QGraphicsScene that has a specialized background image:"
     ]
    },
    {
     "cell_type": "code",
     "collapsed": false,
     "input": [
      "class TableScene(QGraphicsScene):\n",
      "    \"\"\" A scene with a table cloth background \"\"\"\n",
      "    def __init__(self):\n",
      "        super().__init__()\n",
      "        self.tile = QPixmap('cards/table.png')\n",
      "        self.setBackgroundBrush(self.tile)"
     ],
     "language": "python",
     "metadata": {},
     "outputs": [],
     "prompt_number": 25
    },
    {
     "cell_type": "markdown",
     "metadata": {},
     "source": [
      "And a QGraphicsSvgItem that also keeps track of it's local number (the number is really useful later when the user clicks on a the image)"
     ]
    },
    {
     "cell_type": "code",
     "collapsed": false,
     "input": [
      "from PySide.QtSvg import *\n",
      "\n",
      "class CardSvgItem(QGraphicsSvgItem):\n",
      "    \"\"\" A simple overloaded QGraphicsSvgItem that also stores the card position \"\"\"\n",
      "    def __init__(self, renderer, id):\n",
      "        super().__init__()\n",
      "        self.setSharedRenderer(renderer)\n",
      "        self.position = id"
     ],
     "language": "python",
     "metadata": {},
     "outputs": [],
     "prompt_number": 26
    },
    {
     "cell_type": "markdown",
     "metadata": {},
     "source": [
      "And the big overloaded class, QGraphicsView. This is now a CardView widget, with a specialized constructor.\n",
      "It prints the state from the given *player* model input. It has a callback function (no signals for now, keeping it simple) that it passes to `player` so that it can be informed when the state has changed.\n",
      "\n",
      "*Note*, the view only gets a signal to indicate that *something has changed*. The view is responsible to ask the model for the information it needs to display to the user. The view might not need everything."
     ]
    },
    {
     "cell_type": "code",
     "collapsed": false,
     "input": [
      "class CardView(QGraphicsView):\n",
      "    # Underscores indicate a private function!\n",
      "    def __read_cards(): # Ignore the PyCharm warning on this line. It's correct.\n",
      "        \"\"\"\n",
      "        Reads all the 52 cards from files.\n",
      "        :return: Dictionary of SVG renderers\n",
      "        \"\"\"\n",
      "        all_cards = dict()\n",
      "        for suit in 'HDSC':\n",
      "            for value in ['2', '3', '4', '5', '6', '7', '8', '9', '10', 'J', 'Q', 'K', 'A']:\n",
      "                file = value + suit\n",
      "                all_cards[file] = QSvgRenderer('cards/' + file + '.svg')\n",
      "        return all_cards\n",
      "\n",
      "    # We read all the card graphics as static class variables:\n",
      "    back_card = QSvgRenderer('cards/Red_Back_2.svg')\n",
      "    all_cards = __read_cards()\n",
      "\n",
      "    def __init__(self, player, card_spacing=250, padding=10):\n",
      "\n",
      "        self.scene = TableScene()\n",
      "        super().__init__(self.scene)\n",
      "\n",
      "        self.player = player\n",
      "        self.card_spacing = card_spacing\n",
      "        self.padding = padding\n",
      "        player.set_callback(self.change_cards)\n",
      "\n",
      "        self.change_cards() # Add the cards the first time around to represent the initial state.\n",
      "\n",
      "    def change_cards(self):\n",
      "        # Add the cards from scratch:\n",
      "        self.scene.clear()\n",
      "        for i, c_ref in enumerate(self.player.cards):\n",
      "            renderer = self.back_card if self.player.marked_cards[i] else self.all_cards[c_ref]\n",
      "\n",
      "            c = CardSvgItem(renderer, i)\n",
      "            self.scene.addItem(c)\n",
      "\n",
      "        self.update_view()\n",
      "\n",
      "    def update_view(self):\n",
      "        for c in self.scene.items():\n",
      "            # Lets have the cards take up almost the (current) full height\n",
      "            card_height = c.boundingRect().bottom()\n",
      "            scale = (self.height()-2*self.padding)/card_height\n",
      "\n",
      "            c.setPos(c.position * self.card_spacing*scale, 0)\n",
      "            c.setScale(scale)\n",
      "            #c.setOpacity(0.5 if self.player.marked_cards[c.position] else 1.0)\n",
      "\n",
      "        # Put the scene bounding box\n",
      "        self.scene.setSceneRect(-self.padding, -self.padding, self.viewport().width(), self.viewport().height())\n",
      "\n",
      "\n",
      "    def resizeEvent(self, painter):\n",
      "        # If the widget is resize, we gotta adjust the card sizes.\n",
      "        # QGraphicsView automatically re-paints everything when we modify the scene.\n",
      "        self.update_view()\n",
      "        super().resizeEvent(painter)\n",
      "\n",
      "    # This is the Controller part of the GUI, handling input events that modify the Model\n",
      "    def mousePressEvent(self, event):\n",
      "        item = self.scene.itemAt(event.pos())\n",
      "        if item is not None:\n",
      "            # Report back that the Model that the user marked a given position:\n",
      "            self.player.mark_position(item.position)"
     ],
     "language": "python",
     "metadata": {},
     "outputs": [],
     "prompt_number": 37
    },
    {
     "cell_type": "markdown",
     "metadata": {},
     "source": [
      "Lets put in a simple *Model* for now. Something which represent a player state:"
     ]
    },
    {
     "cell_type": "code",
     "collapsed": false,
     "input": [
      "class Player:\n",
      "    def __init__(self):\n",
      "        # Lets use some hardcoded values for most of this to start with:\n",
      "        self.cards = ['QS', 'AD', '7C']\n",
      "        self.marked_cards = [False]*len(self.cards)\n",
      "        self.flipped = False\n",
      "        self.credits = 100\n",
      "        self.folded = False\n",
      "        self.cb = None\n",
      "\n",
      "    def set_callback(self, cb):\n",
      "        # Instead of the sophisticated signal system, I have a simple callback here.\n",
      "        # This only works if there is just one viewer!\n",
      "        # But I want to reduce the complexity in this example to make it clear why things occur.\n",
      "        self.cb = cb\n",
      "\n",
      "    def active(self):\n",
      "        return credits > 0 and not self.folded\n",
      "\n",
      "    def mark_position(self, i):\n",
      "        # Mark the card as position \"i\" to be thrown away\n",
      "        self.marked_cards[i] = not self.marked_cards[i]\n",
      "        if self.cb is not None: self.cb()\n",
      "\n",
      "    def marked(self, id):\n",
      "        return self.marked_cards[id]"
     ],
     "language": "python",
     "metadata": {},
     "outputs": [],
     "prompt_number": 38
    },
    {
     "cell_type": "code",
     "collapsed": false,
     "input": [
      "# Lets test it out\n",
      "qt_app = QApplication.instance()\n",
      "p = Player()\n",
      "card_view = CardView(p)\n",
      "box = QVBoxLayout()\n",
      "box.addWidget(card_view)\n",
      "player_view = QGroupBox(\"Player 1\")\n",
      "player_view.setLayout(box)\n",
      "\n",
      "player_view.show()\n",
      "\n",
      "qt_app.exec_()"
     ],
     "language": "python",
     "metadata": {},
     "outputs": [
      {
       "metadata": {},
       "output_type": "pyout",
       "prompt_number": 41,
       "text": [
        "0"
       ]
      }
     ],
     "prompt_number": 41
    },
    {
     "cell_type": "heading",
     "level": 1,
     "metadata": {},
     "source": [
      "Summary"
     ]
    },
    {
     "cell_type": "markdown",
     "metadata": {},
     "source": [
      "* You should not need to refer to the *view* to determine the state of the game. It should be isolated neatly in a separate *model*. I have seen people try to read the labels of a GUI widget to determine the state of the game. \n",
      "* The *model* should (probably) tell the *view* when something has changed (and nothing more).\n",
      "* Don't try to optimize to only do partial updates. Keep it simple and just tell all the views to update everything instead of trying to do partial updates. Computers are fast and probing the model for a few values is likely very fast compared to drawing the UI."
     ]
    },
    {
     "cell_type": "code",
     "collapsed": false,
     "input": [],
     "language": "python",
     "metadata": {},
     "outputs": []
    }
   ],
   "metadata": {}
  }
 ]
}
{
 "cells": [
  {
   "cell_type": "markdown",
   "metadata": {},
   "source": [
    "Lecture 9-10 will cover iterators, operator overloading, and exceptions.\n",
    "\n",
    "Reference\n",
    " * [2] Section 9.8-9.10"
   ]
  },
  {
   "cell_type": "markdown",
   "metadata": {},
   "source": [
    "# A short note on computer assignments"
   ]
  },
  {
   "cell_type": "markdown",
   "metadata": {},
   "source": [
    "* While not strictly enforced by Python, standard naming conventions should be followed.\n",
    "  * If I write with camel-case `StandardDeck`, it means this is a class.\n",
    "  * If I write `like_this`, it is a variable/function/method.\n",
    "  * Use PyCharm's refactor->rename functionality for fixing this!"
   ]
  },
  {
   "cell_type": "markdown",
   "metadata": {},
   "source": [
    "# Error handling"
   ]
  },
  {
   "cell_type": "markdown",
   "metadata": {},
   "source": [
    "When dealing with user input, errors are almost inevitable. It's hard to beforehand know if something will raise an exception (i.e. cause an error)\n",
    "\n",
    "The way to deal with this is to *try* to execute segments, and deal with the errors if they occur:"
   ]
  },
  {
   "cell_type": "code",
   "execution_count": 1,
   "metadata": {},
   "outputs": [
    {
     "name": "stdout",
     "output_type": "stream",
     "text": [
      "0.5\n",
      "1.0\n",
      "inf\n"
     ]
    }
   ],
   "source": [
    "for x in range(2,-1,-1):\n",
    "    try:\n",
    "        print(1.0 / x)\n",
    "    except:\n",
    "        print(\"inf\")"
   ]
  },
  {
   "cell_type": "markdown",
   "metadata": {},
   "source": [
    "Though, we probably want to check *what* error occured, and deal with each specifically"
   ]
  },
  {
   "cell_type": "code",
   "execution_count": 2,
   "metadata": {},
   "outputs": [
    {
     "name": "stdout",
     "output_type": "stream",
     "text": [
      "inf\n",
      "inf\n",
      "inf\n"
     ]
    }
   ],
   "source": [
    "for x in range(2,-1,-1):\n",
    "    try:\n",
    "        print(1.0 / y) # Opps, wrong variable, not defined\n",
    "    except:\n",
    "        print(\"inf\") # Not correct for this error"
   ]
  },
  {
   "cell_type": "code",
   "execution_count": 3,
   "metadata": {},
   "outputs": [
    {
     "name": "stdout",
     "output_type": "stream",
     "text": [
      "0.5\n",
      "1.0\n",
      "NaN\n"
     ]
    }
   ],
   "source": [
    "for x in range(2,-1,-1):\n",
    "    try:\n",
    "        print(1.0 / x) # Opps, wrong variable, not defined\n",
    "    except ZeroDivisionError:\n",
    "        print(\"NaN\") # Not correct for this error"
   ]
  },
  {
   "cell_type": "code",
   "execution_count": 35,
   "metadata": {},
   "outputs": [
    {
     "name": "stdout",
     "output_type": "stream",
     "text": [
      "Wrong symbol!\n",
      "Wrong symbol!\n",
      "Wrong symbol!\n"
     ]
    }
   ],
   "source": [
    "for x in range(2,-1,-1):\n",
    "    try:\n",
    "        print(1.0 / y) # Opps, wrong variable again\n",
    "    except ZeroDivisionError:\n",
    "        print(\"inf\")\n",
    "    except NameError:\n",
    "        print(\"Wrong symbol!\")"
   ]
  },
  {
   "cell_type": "markdown",
   "metadata": {},
   "source": [
    "### Using \"as\" to obtain info from errors"
   ]
  },
  {
   "cell_type": "code",
   "execution_count": 2,
   "metadata": {},
   "outputs": [
    {
     "name": "stdout",
     "output_type": "stream",
     "text": [
      "OS error: [Errno 2] No such file or directory: 'myfile.txt'\n"
     ]
    }
   ],
   "source": [
    "import sys\n",
    "\n",
    "try:\n",
    "    f = open('myfile.txt')\n",
    "    s = f.readline()\n",
    "    i = int(s.strip())\n",
    "except OSError as err:\n",
    "    print(\"OS error: {0}\".format(err))\n",
    "except ValueError:\n",
    "    print(\"Could not convert data to an integer.\")\n",
    "except:\n",
    "    print(\"Unexpected error:\", sys.exc_info()[0])\n",
    "    # We re-raise the last exception:\n",
    "    raise"
   ]
  },
  {
   "cell_type": "markdown",
   "metadata": {},
   "source": [
    "### Finally and else"
   ]
  },
  {
   "cell_type": "code",
   "execution_count": 14,
   "metadata": {},
   "outputs": [],
   "source": [
    "def divide(x, y):\n",
    "    try:\n",
    "        result = x / y\n",
    "    except ZeroDivisionError:\n",
    "        print(\"division by zero!\")\n",
    "    else:\n",
    "        # Will run if we don't have an exception first:\n",
    "        print(\"result is\", result)\n",
    "    finally:\n",
    "        # This will always be executed last\n",
    "        print(\"executing finally clause\")"
   ]
  },
  {
   "cell_type": "code",
   "execution_count": 11,
   "metadata": {},
   "outputs": [
    {
     "name": "stdout",
     "output_type": "stream",
     "text": [
      "division by zero!\n",
      "executing finally clause\n"
     ]
    }
   ],
   "source": [
    "divide(0,0)"
   ]
  },
  {
   "cell_type": "code",
   "execution_count": 13,
   "metadata": {},
   "outputs": [
    {
     "name": "stdout",
     "output_type": "stream",
     "text": [
      "result is 0.6666666666666666\n",
      "executing finally clause\n"
     ]
    }
   ],
   "source": [
    "divide(2,3)"
   ]
  },
  {
   "cell_type": "markdown",
   "metadata": {},
   "source": [
    "# Making your own errors"
   ]
  },
  {
   "cell_type": "markdown",
   "metadata": {},
   "source": [
    "An exception is just a class:"
   ]
  },
  {
   "cell_type": "code",
   "execution_count": 28,
   "metadata": {},
   "outputs": [],
   "source": [
    "class NegativeValueError(Exception):\n",
    "    def __init__(self, value):\n",
    "        self.value = value\n",
    "    def __str__(self):\n",
    "        return \"Value is \" + repr(self.value)"
   ]
  },
  {
   "cell_type": "markdown",
   "metadata": {},
   "source": [
    "Catching the exception you can get any stored values like any object:"
   ]
  },
  {
   "cell_type": "code",
   "execution_count": 29,
   "metadata": {},
   "outputs": [],
   "source": [
    "def my_function(x):\n",
    "    if x < 0:\n",
    "        raise NegativeValueError(x)\n",
    "    return x * 3"
   ]
  },
  {
   "cell_type": "code",
   "execution_count": 30,
   "metadata": {},
   "outputs": [],
   "source": [
    "x = -3\n",
    "try:\n",
    "    my_function(x)\n",
    "except NegativeValueError as e:\n",
    "    my_function(abs(x))"
   ]
  },
  {
   "cell_type": "markdown",
   "metadata": {},
   "source": [
    "Uncaught exceptions prints the string representations of the class:"
   ]
  },
  {
   "cell_type": "code",
   "execution_count": 31,
   "metadata": {},
   "outputs": [
    {
     "ename": "NegativeValueError",
     "evalue": "Value is -2",
     "output_type": "error",
     "traceback": [
      "\u001b[1;31m---------------------------------------------------------------------------\u001b[0m\n\u001b[1;31mNegativeValueError\u001b[0m                        Traceback (most recent call last)",
      "\u001b[1;32m<ipython-input-31-c24a62dffa78>\u001b[0m in \u001b[0;36m<module>\u001b[1;34m()\u001b[0m\n\u001b[1;32m----> 1\u001b[1;33m \u001b[0mmy_function\u001b[0m\u001b[1;33m(\u001b[0m\u001b[1;33m-\u001b[0m\u001b[1;36m2\u001b[0m\u001b[1;33m)\u001b[0m\u001b[1;33m\u001b[0m\u001b[0m\n\u001b[0m",
      "\u001b[1;32m<ipython-input-29-8ddb8c3b7dcc>\u001b[0m in \u001b[0;36mmy_function\u001b[1;34m(x)\u001b[0m\n\u001b[0;32m      1\u001b[0m \u001b[1;32mdef\u001b[0m \u001b[0mmy_function\u001b[0m\u001b[1;33m(\u001b[0m\u001b[0mx\u001b[0m\u001b[1;33m)\u001b[0m\u001b[1;33m:\u001b[0m\u001b[1;33m\u001b[0m\u001b[0m\n\u001b[0;32m      2\u001b[0m     \u001b[1;32mif\u001b[0m \u001b[0mx\u001b[0m \u001b[1;33m<\u001b[0m \u001b[1;36m0\u001b[0m\u001b[1;33m:\u001b[0m\u001b[1;33m\u001b[0m\u001b[0m\n\u001b[1;32m----> 3\u001b[1;33m         \u001b[1;32mraise\u001b[0m \u001b[0mNegativeValueError\u001b[0m\u001b[1;33m(\u001b[0m\u001b[0mx\u001b[0m\u001b[1;33m)\u001b[0m\u001b[1;33m\u001b[0m\u001b[0m\n\u001b[0m\u001b[0;32m      4\u001b[0m     \u001b[1;32mreturn\u001b[0m \u001b[0mx\u001b[0m \u001b[1;33m*\u001b[0m \u001b[1;36m3\u001b[0m\u001b[1;33m\u001b[0m\u001b[0m\n",
      "\u001b[1;31mNegativeValueError\u001b[0m: Value is -2"
     ]
    }
   ],
   "source": [
    "my_function(-2)"
   ]
  },
  {
   "cell_type": "markdown",
   "metadata": {},
   "source": [
    "## Possible custom exceptions"
   ]
  },
  {
   "cell_type": "markdown",
   "metadata": {},
   "source": [
    "** Question **\n",
    "* In your Poker-game library, what would be some suitable exceptions to implement?\n",
    "\n",
    "...\n",
    "\n",
    "...\n",
    "\n",
    "...\n",
    "\n",
    "...\n",
    "\n",
    "...\n",
    "\n",
    "...\n",
    "\n",
    "* MissingCardError\n",
    "* OutOfMoneyError\n",
    "* EmptyDeckError"
   ]
  },
  {
   "cell_type": "markdown",
   "metadata": {},
   "source": [
    "# Operator overloading special methods"
   ]
  },
  {
   "cell_type": "markdown",
   "metadata": {},
   "source": [
    "You have seen a few overloaded operators, but there are several important methods.\n",
    "\n",
    "They are all named according to `__name__` convention (two underscores around the name)."
   ]
  },
  {
   "cell_type": "markdown",
   "metadata": {},
   "source": [
    "Some (possibly useful) unary operators:\n",
    "* repr: `repr(x)` (data **repr**esentation)\n",
    "* len: `len(x)`\n",
    "* abs: `abs(x)`\n",
    "* neg: `-a`\n",
    "\n",
    "and many other things\n",
    "\n",
    "\n",
    "Common conversions:\n",
    "* str\n",
    "* int\n",
    "* float\n",
    "* complex\n",
    "* bool"
   ]
  },
  {
   "cell_type": "markdown",
   "metadata": {},
   "source": [
    "Lets test out a bunch of these:"
   ]
  },
  {
   "cell_type": "code",
   "execution_count": 3,
   "metadata": {},
   "outputs": [],
   "source": [
    "class MyClass:\n",
    "    def __init__(self, x):\n",
    "        self.x = x\n",
    "\n",
    "    def __bool__(self):\n",
    "        return self.x > 0\n",
    "\n",
    "    def __len__(self):\n",
    "        return self.x\n",
    "\n",
    "    def __neg__(self):\n",
    "        return MyClass(-self.x)\n",
    "\n",
    "    def __str__(self):\n",
    "        return \"x = \" + str(self.x)\n",
    "    \n",
    "    def __repr__(self):\n",
    "        return \"MyClass(\" + repr(self.x) + \")\""
   ]
  },
  {
   "cell_type": "code",
   "execution_count": 7,
   "metadata": {},
   "outputs": [
    {
     "name": "stdout",
     "output_type": "stream",
     "text": [
      "x = 3 has length 3\n",
      "MyClass(-3)\n"
     ]
    }
   ],
   "source": [
    "x = MyClass(3)\n",
    "if x:\n",
    "    print(x, \"has length\", len(x))\n",
    "print(repr(-x))"
   ]
  },
  {
   "cell_type": "markdown",
   "metadata": {},
   "source": [
    "### Binary operators"
   ]
  },
  {
   "cell_type": "markdown",
   "metadata": {},
   "source": [
    "There are a massive amount of binary operators one can overload: `+ * - / // | & << **`.\n",
    "\n",
    "If is often in the case that both sides of the infix operator has the same type, and the output from the computation is also of the same type, but this is not strictly necessary.\n",
    "\n",
    "Python will call the suitable special method by doing `a + b === a.__add__(b)`, with similar names for the multitude of other operators (`mul`, `div`, etc.), If `a.__add__` isn't found, then the corresponding \"reverse\" operation is used: `b.__radd__(a)` (if available).\n",
    "\n",
    "Many operators have extended assignments as well, and these can be accessed through special methods as well, e.g. `a += b === a.__iadd__(b)`."
   ]
  },
  {
   "cell_type": "code",
   "execution_count": 11,
   "metadata": {},
   "outputs": [],
   "source": [
    "class Fraction:\n",
    "    def __init__(self, num: int, denom: int):\n",
    "        from math import gcd\n",
    "        x = gcd(num, denom)\n",
    "        self.num = num // x\n",
    "        self.denom = denom // x\n",
    "\n",
    "    def __str__(self):\n",
    "        return str(self.num) + \"/\" + str(self.denom)\n",
    "    \n",
    "    def __float__(self):\n",
    "        return self.num / self.denom\n",
    "\n",
    "    def __add__(self, other: Fraction):\n",
    "        # Expecting \"other\" to be a Fraction.\n",
    "        # The result is a Fraction as well.\n",
    "        return Fraction(self.num * other.denom + other.num * self.denom,\n",
    "                        self.denom * other.denom)\n",
    "    \n",
    "    def __iadd__(self, other: Fraction):\n",
    "        # self += other\n",
    "        # We want to modify \"self\"!\n",
    "        self.num = self.num * other.denom + other.num * self.denom\n",
    "        self.denom *= other.denom\n",
    "        return self # (optional behavior)\n",
    "        \n",
    "    def __mul__(self, other: int):\n",
    "        return Fraction(self.num * other.num, self.denom * other.denom)\n",
    "\n",
    "    def __pow__(self, exponent: int):\n",
    "        # This assumes that the exponent is an integer\n",
    "        return Fraction(self.num ** exponent, self.denom ** exponent)\n",
    "    "
   ]
  },
  {
   "cell_type": "code",
   "execution_count": 12,
   "metadata": {},
   "outputs": [
    {
     "name": "stdout",
     "output_type": "stream",
     "text": [
      "43/36\n",
      "1.8611111111111112\n",
      "4/9\n",
      "43/54\n"
     ]
    }
   ],
   "source": [
    "x = Fraction(30, 40)\n",
    "y = Fraction(2, 3)\n",
    "\n",
    "q = y ** 2\n",
    "x += q\n",
    "z = x + y\n",
    "w = x * y\n",
    "\n",
    "print(x)\n",
    "print(float(z))\n",
    "print(q)\n",
    "print(w)"
   ]
  },
  {
   "cell_type": "markdown",
   "metadata": {},
   "source": [
    "** Questions **\n",
    "* In Python, will `a * b` always give the same result as `b * a`? \n",
    "* How about `a + b` and `b + a`?\n",
    "* Will `a += b` always be the same as `a = a + b`?"
   ]
  },
  {
   "cell_type": "markdown",
   "metadata": {},
   "source": [
    "### Comparison operators"
   ]
  },
  {
   "cell_type": "markdown",
   "metadata": {},
   "source": [
    "Comparison operators have a few special rules, because they have no \"reversed\" operations.\n",
    "Instead, `a < b` is used like `b > a` when `>`-operation is missing.\n",
    "\n",
    "Implementing at least one comparison operator from `__lt__`, `__gt__` or `__cmp__` is necessary for comparisons (sort will try them in that order). Typically, `__lt__` is implemented."
   ]
  },
  {
   "cell_type": "code",
   "execution_count": 13,
   "metadata": {},
   "outputs": [],
   "source": [
    "class MyTestClass:\n",
    "    \"\"\" A test class where only one instance \n",
    "    variable determines the comparison operators\n",
    "    \"\"\"\n",
    "    \n",
    "    def __init__(self, val, val2):\n",
    "        self.val = val\n",
    "        self.val2 = val2\n",
    "\n",
    "    def __eq__(self, other):\n",
    "        return abs(self.val) == abs(other.val)\n",
    "\n",
    "    def __lt__(self, other): # We only check the magnitude:\n",
    "        return abs(self.val) < abs(other.val)"
   ]
  },
  {
   "cell_type": "code",
   "execution_count": 14,
   "metadata": {},
   "outputs": [
    {
     "name": "stdout",
     "output_type": "stream",
     "text": [
      "False\n",
      "True\n"
     ]
    }
   ],
   "source": [
    "x = MyTestClass(-34, \"Hello\")\n",
    "y = MyTestClass(34, \"World\")\n",
    "print(x > y) # Python will look for a match, and will call y < x (which should be mathematically equivalent)\n",
    "print(x == y)"
   ]
  },
  {
   "cell_type": "markdown",
   "metadata": {},
   "source": [
    "If `__eq__` is not implemented, the `is` operator is used instead."
   ]
  },
  {
   "cell_type": "code",
   "execution_count": 15,
   "metadata": {},
   "outputs": [],
   "source": [
    "class MyTestClass:\n",
    "    def __init__(self, val):\n",
    "        self.val = val\n",
    "\n",
    "    def __lt__(self, other): # We only check the magnitude:\n",
    "        return abs(self.val) < abs(other.val)"
   ]
  },
  {
   "cell_type": "code",
   "execution_count": 16,
   "metadata": {},
   "outputs": [
    {
     "data": {
      "text/plain": [
       "False"
      ]
     },
     "execution_count": 16,
     "metadata": {},
     "output_type": "execute_result"
    }
   ],
   "source": [
    "x = MyTestClass(23)\n",
    "y = MyTestClass(23)\n",
    "x == y"
   ]
  },
  {
   "cell_type": "markdown",
   "metadata": {},
   "source": [
    "This strange default behavior is rarely what we want! Therefore, `__eq__` is recommended to overload if `__lt__` has been overloaded."
   ]
  },
  {
   "cell_type": "markdown",
   "metadata": {},
   "source": [
    "## Indexing overloading"
   ]
  },
  {
   "cell_type": "code",
   "execution_count": 17,
   "metadata": {},
   "outputs": [],
   "source": [
    "class LoggingList(list):\n",
    "    def __setitem__(self, pos, val):\n",
    "        print(\"Setting items at:\", pos)\n",
    "        super().__setitem__(pos, val)\n",
    "        \n",
    "    def __getitem__(self, pos):\n",
    "        print(\"Getting items at:\", pos)\n",
    "        return super().__getitem__(pos)\n",
    "\n",
    "    def __delitem__(self, pos):\n",
    "        print(\"Deleting items at:\", pos)\n",
    "        return super().__delitem__(pos)"
   ]
  },
  {
   "cell_type": "code",
   "execution_count": 18,
   "metadata": {},
   "outputs": [
    {
     "name": "stdout",
     "output_type": "stream",
     "text": [
      "Setting items at: slice(0, 2, None)\n",
      "Getting items at: slice(2, None, None)\n",
      "Deleting items at: 0\n"
     ]
    }
   ],
   "source": [
    "x = LoggingList()\n",
    "x += [1,2,3,4]\n",
    "\n",
    "x[0:2] = [123, 456]\n",
    "y = x[2:]\n",
    "del x[0]"
   ]
  },
  {
   "cell_type": "markdown",
   "metadata": {},
   "source": [
    "## Comment on methods vs operators"
   ]
  },
  {
   "cell_type": "markdown",
   "metadata": {},
   "source": [
    "This kind of compact notation is often sought by programmers, why have\n",
    "```python\n",
    "x.add(y)\n",
    "```\n",
    "when you could have\n",
    "```python\n",
    "x + y\n",
    "```\n",
    "\n",
    "But it's often the case that we are not working with mathematics, but strings, lists, graphical objects, and other types of custom objects.\n",
    "Therefore, it's often not clear what the operator will actually do (languages like Java disallow this operator overloading for this reason).\n",
    "\n",
    "When comparing two Car-objects, do we just check if they are of the same model? Same color? Model and color? Same registration number? Top speed?\n",
    "\n",
    "Operators should not be overused, since it is often more clear to write a descriptive method name. Use it only when the purpose is clear."
   ]
  },
  {
   "cell_type": "markdown",
   "metadata": {},
   "source": [
    "# Iterators and generators"
   ]
  },
  {
   "cell_type": "markdown",
   "metadata": {},
   "source": [
    "In the course so far, we've used multiple examples of the for-loop:"
   ]
  },
  {
   "cell_type": "code",
   "execution_count": 1,
   "metadata": {},
   "outputs": [
    {
     "name": "stdout",
     "output_type": "stream",
     "text": [
      "0,1,2,3,4,"
     ]
    }
   ],
   "source": [
    "for i in range(5):\n",
    "    print(i, end=\",\")"
   ]
  },
  {
   "cell_type": "code",
   "execution_count": 2,
   "metadata": {},
   "outputs": [
    {
     "name": "stdout",
     "output_type": "stream",
     "text": [
      "H, e, l, l, o,  , W, o, r, l, d, "
     ]
    }
   ],
   "source": [
    "for x in \"Hello World\":\n",
    "    print(x, end=\", \")"
   ]
  },
  {
   "cell_type": "code",
   "execution_count": 3,
   "metadata": {},
   "outputs": [
    {
     "name": "stdout",
     "output_type": "stream",
     "text": [
      "(6, 'A'), (3, 'B'), (4, 'C'), "
     ]
    }
   ],
   "source": [
    "for x in zip([6,3,4], \"ABC\"):\n",
    "    print(x, end=\", \")"
   ]
  },
  {
   "cell_type": "markdown",
   "metadata": {},
   "source": [
    "All these examples are very different. The `range` keeps generating new numbers until the max value is reached. In the string, we go letter by letter until the end of the string.\n",
    "The `for`-loop is compact, convenient, and easy to read."
   ]
  },
  {
   "cell_type": "markdown",
   "metadata": {},
   "source": [
    "### The `for`-loop"
   ]
  },
  {
   "cell_type": "markdown",
   "metadata": {},
   "source": [
    "Lets assume we have a loop like:\n",
    "```python\n",
    "for a in b:\n",
    "    ...\n",
    "```\n",
    "When the `for`-loop starts, it asks for\n",
    "```python\n",
    "it = iter(b)    # Looks for b.__iter__()\n",
    "```\n",
    "and then it asks for\n",
    "```python\n",
    "a = next(it)    # Looks for it.__next__()\n",
    "```\n",
    "until a `StopIteration`-exception is raised."
   ]
  },
  {
   "cell_type": "markdown",
   "metadata": {},
   "source": [
    "Lets try it out, step-by-step"
   ]
  },
  {
   "cell_type": "code",
   "execution_count": 4,
   "metadata": {},
   "outputs": [
    {
     "name": "stdout",
     "output_type": "stream",
     "text": [
      "<str_iterator object at 0x0000000004462F28>\n"
     ]
    }
   ],
   "source": [
    "b = \"Hello\"\n",
    "it = iter(b)\n",
    "print(it)"
   ]
  },
  {
   "cell_type": "code",
   "execution_count": 5,
   "metadata": {},
   "outputs": [
    {
     "name": "stdout",
     "output_type": "stream",
     "text": [
      "H\n",
      "e\n",
      "l\n",
      "l\n",
      "o\n"
     ]
    }
   ],
   "source": [
    "print( next(it) )\n",
    "print( next(it) )\n",
    "print( next(it) )\n",
    "print( next(it) )\n",
    "print( next(it) )"
   ]
  },
  {
   "cell_type": "markdown",
   "metadata": {},
   "source": [
    "So far so good, what happens when we ask one more time?"
   ]
  },
  {
   "cell_type": "code",
   "execution_count": 6,
   "metadata": {},
   "outputs": [
    {
     "ename": "StopIteration",
     "evalue": "",
     "output_type": "error",
     "traceback": [
      "\u001b[1;31m---------------------------------------------------------------------------\u001b[0m\n\u001b[1;31mStopIteration\u001b[0m                             Traceback (most recent call last)",
      "\u001b[1;32m<ipython-input-6-2cdb14c0d4d6>\u001b[0m in \u001b[0;36m<module>\u001b[1;34m()\u001b[0m\n\u001b[1;32m----> 1\u001b[1;33m \u001b[0mnext\u001b[0m\u001b[1;33m(\u001b[0m\u001b[0mit\u001b[0m\u001b[1;33m)\u001b[0m\u001b[1;33m\u001b[0m\u001b[0m\n\u001b[0m",
      "\u001b[1;31mStopIteration\u001b[0m: "
     ]
    }
   ],
   "source": [
    "next(it)"
   ]
  },
  {
   "cell_type": "markdown",
   "metadata": {},
   "source": [
    "**To sum it up:** \n",
    "1. The object needs support the function `iter`\n",
    "2. Whatever it returned from `iter` must support the function `next`"
   ]
  },
  {
   "cell_type": "markdown",
   "metadata": {},
   "source": [
    "### Lets create a custom iterator"
   ]
  },
  {
   "cell_type": "code",
   "execution_count": 19,
   "metadata": {},
   "outputs": [],
   "source": [
    "class CollatzGenerator:\n",
    "    def __init__(self, n):\n",
    "        self.n = n\n",
    "\n",
    "    def __iter__(self):\n",
    "        # We'll reuse the class generator itself \n",
    "        # as the iterator for this simple case\n",
    "        return self\n",
    "    \n",
    "    def __next__(self):\n",
    "        if self.n == 1:\n",
    "            raise StopIteration\n",
    "        if self.n % 2 == 0:\n",
    "            self.n //= 2\n",
    "        else:\n",
    "            self.n = self.n*3 + 1\n",
    "        \n",
    "        return self.n"
   ]
  },
  {
   "cell_type": "code",
   "execution_count": 20,
   "metadata": {},
   "outputs": [
    {
     "name": "stdout",
     "output_type": "stream",
     "text": [
      "3, 10, 5, 16, 8, 4, 2, 1, "
     ]
    }
   ],
   "source": [
    "# This should produce 3, 10, 5, 16, 8, 4, 2, 1.\n",
    "x = CollatzGenerator(6)\n",
    "for n in x:\n",
    "    print(n, end=\", \")"
   ]
  },
  {
   "cell_type": "markdown",
   "metadata": {},
   "source": [
    "Note! In this `CollatzGenerator`, the iterator is the same as the generator itself.\n",
    "If we try to use `x` again, it will already have reached 1, as the (modified) iterator *is* the generator."
   ]
  },
  {
   "cell_type": "code",
   "execution_count": 21,
   "metadata": {},
   "outputs": [
    {
     "name": "stdout",
     "output_type": "stream",
     "text": [
      "1\n"
     ]
    }
   ],
   "source": [
    "print( x.n )"
   ]
  },
  {
   "cell_type": "markdown",
   "metadata": {},
   "source": [
    "### Another example, the infinite loop!"
   ]
  },
  {
   "cell_type": "markdown",
   "metadata": {},
   "source": [
    "Lets create a loop over all natural numbers. We would like to have\n",
    "```python\n",
    "nat = NaturalNumbers():\n",
    "for x in nat:\n",
    "   ...\n",
    "```\n",
    "Of course, it's not very good that we modified the starting point of the `nat` (in case we want to reuse it).\n",
    "\n",
    "We should therefor avoid `def __iter__(self): return self`, and instead return a different iterator."
   ]
  },
  {
   "cell_type": "code",
   "execution_count": 19,
   "metadata": {},
   "outputs": [],
   "source": [
    "class NaturalNumbers:\n",
    "    def __iter__(self):\n",
    "        # Lets declare an iterator internally:\n",
    "        class NaturalNumbers_It:\n",
    "            def __init__(self):\n",
    "                self.n = 0\n",
    "       \n",
    "            def __next__(self):\n",
    "                self.n += 1\n",
    "                return self.n\n",
    "        # Each time we start a for-loop, \n",
    "        # we'll return a brand new iterator:\n",
    "        return NaturalNumbers_It()"
   ]
  },
  {
   "cell_type": "code",
   "execution_count": 20,
   "metadata": {},
   "outputs": [],
   "source": [
    "nat = NaturalNumbers()"
   ]
  },
  {
   "cell_type": "code",
   "execution_count": 23,
   "metadata": {},
   "outputs": [
    {
     "name": "stdout",
     "output_type": "stream",
     "text": [
      "1035 45\n"
     ]
    }
   ],
   "source": [
    "tot = 0\n",
    "for x in nat:\n",
    "    tot += x\n",
    "    # We might have some condition to stop that \n",
    "    # doesn't depend on only one the value of x!\n",
    "    if tot > 1000:\n",
    "        break\n",
    "print(tot, x)"
   ]
  },
  {
   "cell_type": "markdown",
   "metadata": {},
   "source": [
    "## Generators"
   ]
  },
  {
   "cell_type": "markdown",
   "metadata": {},
   "source": [
    "The interested student can also look up the `yield` statement. For example here:\n",
    "http://www.python-course.eu/python3_generators.php\n",
    "\n",
    "The for-loop will obtain each `yield`'ed value, and the function will be frozen until the next yielded value is requested:"
   ]
  },
  {
   "cell_type": "code",
   "execution_count": 451,
   "metadata": {},
   "outputs": [
    {
     "name": "stdout",
     "output_type": "stream",
     "text": [
      "Yielding a new value!\n",
      "10\n",
      "Yielding a new value!\n",
      "11\n",
      "Yielding a new value!\n",
      "12\n",
      "Yielding a new value!\n",
      "13\n",
      "Yielding a new value!\n",
      "14\n"
     ]
    }
   ],
   "source": [
    "def countfromto(a, b):\n",
    "    while a < b:\n",
    "        print(\"Yielding a new value!\")\n",
    "        yield a\n",
    "        a += 1\n",
    "\n",
    "for i in countfromto(10, 15):\n",
    "    print(i)"
   ]
  },
  {
   "cell_type": "markdown",
   "metadata": {},
   "source": [
    "# Enums"
   ]
  },
  {
   "cell_type": "markdown",
   "metadata": {},
   "source": [
    "Often, we want to store a simple state, for example, whether a game is\n",
    "* Not started\n",
    "* Started\n",
    "* Ended\n",
    "* Paused\n",
    "and we want to quickly have logic that can check for these states:\n",
    "\n",
    "```python\n",
    "if game.status() == \"not started\":\n",
    "    game.start()\n",
    "```\n",
    "\n",
    "But comparing with strings is a bit slow (if the use case is more performance critical), and also introduces the possibilities of having a typo. It also can't be automatically refactored. It's generally _very_ frowned upon to keep hard-coded values (including strings) spread out throughout the code as well.\n",
    "\n",
    "The solution? Enums."
   ]
  },
  {
   "cell_type": "code",
   "execution_count": 23,
   "metadata": {},
   "outputs": [],
   "source": [
    "import enum\n",
    "\n",
    "class GameState(enum.Enum):\n",
    "    not_started = 0\n",
    "    started = 1\n",
    "    ended = 2\n",
    "    paused = 3"
   ]
  },
  {
   "cell_type": "markdown",
   "metadata": {},
   "source": [
    "These variables can be cheaply compared, with the extra safety of typing, completion, etc.:"
   ]
  },
  {
   "cell_type": "code",
   "execution_count": 24,
   "metadata": {},
   "outputs": [
    {
     "name": "stdout",
     "output_type": "stream",
     "text": [
      "GameState.not_started\n",
      "GameState.started\n",
      "GameState.ended\n",
      "GameState.paused\n",
      "True\n",
      "True\n"
     ]
    }
   ],
   "source": [
    "for g in GameState: # We can loop over them!\n",
    "    print(g)\n",
    "# And compare them\n",
    "print(GameState.paused == GameState.paused)\n",
    "print(GameState.paused != GameState.ended)"
   ]
  },
  {
   "cell_type": "markdown",
   "metadata": {},
   "source": [
    "We can also create IntEnum classes"
   ]
  },
  {
   "cell_type": "code",
   "execution_count": 25,
   "metadata": {},
   "outputs": [],
   "source": [
    "class GameState2(enum.IntEnum):\n",
    "    not_started = 0\n",
    "    started = 1\n",
    "    ended = 2\n",
    "    paused = 3\n",
    "    \n",
    "    def __str__(self):\n",
    "        # Added a custom string conversion! \n",
    "        # (the default will print GameState2.*****)\n",
    "        return 'abcd'[self.value]"
   ]
  },
  {
   "cell_type": "markdown",
   "metadata": {},
   "source": [
    "Here I also demonstrate the custom string conversion possible, using the value. By default, the `self.name` parameter is used."
   ]
  },
  {
   "cell_type": "code",
   "execution_count": 26,
   "metadata": {},
   "outputs": [
    {
     "name": "stdout",
     "output_type": "stream",
     "text": [
      "b\n"
     ]
    }
   ],
   "source": [
    "print(GameState2.started)"
   ]
  },
  {
   "cell_type": "markdown",
   "metadata": {},
   "source": [
    "Which lets us convert values to integers"
   ]
  },
  {
   "cell_type": "code",
   "execution_count": 27,
   "metadata": {},
   "outputs": [
    {
     "data": {
      "text/plain": [
       "3"
      ]
     },
     "execution_count": 27,
     "metadata": {},
     "output_type": "execute_result"
    }
   ],
   "source": [
    "GameState2.started + 2"
   ]
  },
  {
   "cell_type": "markdown",
   "metadata": {},
   "source": [
    "Such as comparing them:"
   ]
  },
  {
   "cell_type": "code",
   "execution_count": 28,
   "metadata": {},
   "outputs": [
    {
     "name": "stdout",
     "output_type": "stream",
     "text": [
      "False\n"
     ]
    }
   ],
   "source": [
    "print(GameState2.paused < GameState2.ended)"
   ]
  },
  {
   "cell_type": "markdown",
   "metadata": {},
   "source": [
    "which is explictly disallowed with normal Enums (a type safety thing)"
   ]
  },
  {
   "cell_type": "code",
   "execution_count": 30,
   "metadata": {},
   "outputs": [
    {
     "ename": "TypeError",
     "evalue": "'<' not supported between instances of 'GameState' and 'GameState'",
     "output_type": "error",
     "traceback": [
      "\u001b[0;31m---------------------------------------------------------------------------\u001b[0m",
      "\u001b[0;31mTypeError\u001b[0m                                 Traceback (most recent call last)",
      "\u001b[0;32m<ipython-input-30-723495b8de4f>\u001b[0m in \u001b[0;36m<module>\u001b[0;34m()\u001b[0m\n\u001b[0;32m----> 1\u001b[0;31m \u001b[0mprint\u001b[0m\u001b[0;34m(\u001b[0m\u001b[0mGameState\u001b[0m\u001b[0;34m.\u001b[0m\u001b[0mpaused\u001b[0m \u001b[0;34m<\u001b[0m \u001b[0mGameState\u001b[0m\u001b[0;34m.\u001b[0m\u001b[0mended\u001b[0m\u001b[0;34m)\u001b[0m\u001b[0;34m\u001b[0m\u001b[0;34m\u001b[0m\u001b[0m\n\u001b[0m",
      "\u001b[0;31mTypeError\u001b[0m: '<' not supported between instances of 'GameState' and 'GameState'"
     ]
    }
   ],
   "source": [
    "print(GameState.paused < GameState.ended)"
   ]
  },
  {
   "cell_type": "markdown",
   "metadata": {},
   "source": [
    "You can still overload the '<' operator if you want."
   ]
  },
  {
   "cell_type": "markdown",
   "metadata": {},
   "source": [
    "There is a handy decorator which ensures uniqueness of the values in the enum (often the case):"
   ]
  },
  {
   "cell_type": "code",
   "execution_count": 31,
   "metadata": {
    "collapsed": true
   },
   "outputs": [
    {
     "ename": "ValueError",
     "evalue": "duplicate values found in <enum 'GameState2'>: paused -> ended",
     "output_type": "error",
     "traceback": [
      "\u001b[1;31m---------------------------------------------------------------------------\u001b[0m\n\u001b[1;31mValueError\u001b[0m                                Traceback (most recent call last)",
      "\u001b[1;32m<ipython-input-31-377ebc0ab670>\u001b[0m in \u001b[0;36m<module>\u001b[1;34m()\u001b[0m\n\u001b[0;32m      1\u001b[0m \u001b[1;33m@\u001b[0m\u001b[0menum\u001b[0m\u001b[1;33m.\u001b[0m\u001b[0munique\u001b[0m\u001b[1;33m\u001b[0m\u001b[0m\n\u001b[1;32m----> 2\u001b[1;33m \u001b[1;32mclass\u001b[0m \u001b[0mGameState2\u001b[0m\u001b[1;33m(\u001b[0m\u001b[0menum\u001b[0m\u001b[1;33m.\u001b[0m\u001b[0mIntEnum\u001b[0m\u001b[1;33m)\u001b[0m\u001b[1;33m:\u001b[0m\u001b[1;33m\u001b[0m\u001b[0m\n\u001b[0m\u001b[0;32m      3\u001b[0m     \u001b[0mnot_started\u001b[0m \u001b[1;33m=\u001b[0m \u001b[1;36m0\u001b[0m\u001b[1;33m\u001b[0m\u001b[0m\n\u001b[0;32m      4\u001b[0m     \u001b[0mstarted\u001b[0m \u001b[1;33m=\u001b[0m \u001b[1;36m1\u001b[0m\u001b[1;33m\u001b[0m\u001b[0m\n\u001b[0;32m      5\u001b[0m     \u001b[0mended\u001b[0m \u001b[1;33m=\u001b[0m \u001b[1;36m2\u001b[0m\u001b[1;33m\u001b[0m\u001b[0m\n",
      "\u001b[1;32m/usr/lib64/python3.4/enum.py\u001b[0m in \u001b[0;36munique\u001b[1;34m(enumeration)\u001b[0m\n\u001b[0;32m    522\u001b[0m                 [\"%s -> %s\" % (alias, name) for (alias, name) in duplicates])\n\u001b[0;32m    523\u001b[0m         raise ValueError('duplicate values found in %r: %s' %\n\u001b[1;32m--> 524\u001b[1;33m                 (enumeration, alias_details))\n\u001b[0m\u001b[0;32m    525\u001b[0m     \u001b[1;32mreturn\u001b[0m \u001b[0menumeration\u001b[0m\u001b[1;33m\u001b[0m\u001b[0m\n",
      "\u001b[1;31mValueError\u001b[0m: duplicate values found in <enum 'GameState2'>: paused -> ended"
     ]
    }
   ],
   "source": [
    "@enum.unique\n",
    "class GameState2(enum.IntEnum):\n",
    "    not_started = 0\n",
    "    started = 1\n",
    "    ended = 2\n",
    "    paused = 2 # Opps"
   ]
  }
 ],
 "metadata": {
  "kernelspec": {
   "display_name": "Python 3",
   "language": "python",
   "name": "python3"
  },
  "language_info": {
   "codemirror_mode": {
    "name": "ipython",
    "version": 3
   },
   "file_extension": ".py",
   "mimetype": "text/x-python",
   "name": "python",
   "nbconvert_exporter": "python",
   "pygments_lexer": "ipython3",
   "version": "3.7.2"
  }
 },
 "nbformat": 4,
 "nbformat_minor": 1
}

{
 "cells": [
  {
   "cell_type": "markdown",
   "metadata": {},
   "source": [
    "Lecture 13 will cover further go into examples on how to tie the GUI-widgets to the application logic by looking into more on the signal handling in Qt."
   ]
  },
  {
   "cell_type": "markdown",
   "metadata": {},
   "source": [
    "First a bit of standard stuff needed to work with Qt"
   ]
  },
  {
   "cell_type": "code",
   "execution_count": 1,
   "metadata": {
    "collapsed": false
   },
   "outputs": [],
   "source": [
    "#from PySide.QtCore import *\n",
    "#from PySide.QtGui import *\n",
    "#from PyQt4.QtCore import *\n",
    "#from PyQt4.QtGui import *\n",
    "from PyQt5.QtCore import *\n",
    "from PyQt5.QtGui import *\n",
    "from PyQt5.QtWidgets import *\n",
    "import sys\n",
    "qt_app = QApplication(sys.argv)"
   ]
  },
  {
   "cell_type": "markdown",
   "metadata": {},
   "source": [
    "# Signals"
   ]
  },
  {
   "cell_type": "markdown",
   "metadata": {},
   "source": [
    "Lets start by creating a simpel model that emits a signal when the data has been modified."
   ]
  },
  {
   "cell_type": "code",
   "execution_count": 18,
   "metadata": {
    "collapsed": false
   },
   "outputs": [],
   "source": [
    "class MyCounterModel(QObject):\n",
    "    # We create a new signal\n",
    "    data_changed = pyqtSignal()\n",
    "    \n",
    "    def __init__(self):\n",
    "        super().__init__()\n",
    "        self.count = 0\n",
    "\n",
    "    def value(self):\n",
    "        return self.count\n",
    "\n",
    "    def increment(self):\n",
    "        self.count += 1\n",
    "        self.data_changed.emit()"
   ]
  },
  {
   "cell_type": "code",
   "execution_count": 6,
   "metadata": {
    "collapsed": false
   },
   "outputs": [],
   "source": [
    "class MyCounterView(QWidget):\n",
    "    def __init__(self, model):\n",
    "        super().__init__()\n",
    "        self.button = QPushButton(\"Add 1\")\n",
    "        self.label = QLabel()\n",
    "\n",
    "        layout = QHBoxLayout()\n",
    "        layout.addWidget(self.button)\n",
    "        layout.addWidget(self.label)\n",
    "        self.setLayout(layout)\n",
    "\n",
    "        # Connect logic:\n",
    "        self.model = model\n",
    "        model.data_changed.connect(self.update)\n",
    "        self.button.clicked.connect(model.increment)\n",
    "        \n",
    "        self.update()  # Make sure it's up-to-date from the start.\n",
    "    \n",
    "    def update(self):\n",
    "        self.label.setText(\"Value is \" + str(self.model.value()))"
   ]
  },
  {
   "cell_type": "code",
   "execution_count": 7,
   "metadata": {
    "collapsed": false
   },
   "outputs": [
    {
     "data": {
      "text/plain": [
       "0"
      ]
     },
     "execution_count": 7,
     "metadata": {},
     "output_type": "execute_result"
    }
   ],
   "source": [
    "qt_app = QApplication.instance()\n",
    "\n",
    "counter = MyCounterModel()\n",
    "view = MyCounterView(counter)\n",
    "view.show()\n",
    "\n",
    "qt_app.exec_()"
   ]
  },
  {
   "cell_type": "markdown",
   "metadata": {},
   "source": [
    "Lets start adressing the strange parts:\n",
    "* The signal is declared as a static variable (class variable).\n",
    "* The pyqtSignal() object doesn't actually have a connect or emit method.\n",
    "\n",
    "It's all \"magic\" that the initialization of QObject takes care of. You don't need know how it happens, just how to use it.\n",
    "*In order to use pyqtSignal()'s the class needs to inherit from QObject.*"
   ]
  },
  {
   "cell_type": "markdown",
   "metadata": {},
   "source": [
    "# Sub-models?"
   ]
  },
  {
   "cell_type": "markdown",
   "metadata": {},
   "source": [
    "Many games render the whole view using a single drawing area (not unlike the CardView class illustrated last lecture), and in these cases, there is really only 1 view that displays one 1 model. The view wouldn't really need to use widgets and layouts, and there would be a lot of custom code instead.\n",
    "\n",
    "In applications (and we can make our poker game more into an application design) when using widgets, we might have multiple players, all using the same type of \"PlayerView\"-widget, displayed in a VBoxLayout.\n",
    "In these cases, it makes sense to think of \"sub-models\", which would be isolated components that describe a local section of the application state."
   ]
  },
  {
   "cell_type": "code",
   "execution_count": 19,
   "metadata": {
    "collapsed": false
   },
   "outputs": [],
   "source": [
    "# This is a simple game. The players take turn add 1 through 3, until they reach 20. The player who gets 20 (or higher) wins.\n",
    "# This simple game doesn't motivate the complex design here, but the purpose was to illustrate the local states.\n",
    "class GameState(QObject):\n",
    "    # We might have multiple signals! One for updates\n",
    "    data_changed = pyqtSignal()\n",
    "    # and one for messaging\n",
    "    game_message = pyqtSignal((str,)) # (x,) is the notation for a tuple with just one value!\n",
    "\n",
    "    def __init__(self, players):\n",
    "        super().__init__()\n",
    "        self.running = False\n",
    "        self.players = players\n",
    "        self.player_turn = -1\n",
    "        self.total = 0\n",
    "        \n",
    "    def start(self):\n",
    "        if self.running:\n",
    "            self.game_message.emit(\"Can't start game. Game already running\")\n",
    "        \n",
    "        self.running = True\n",
    "        self.player_turn = 0\n",
    "        self.total = 0\n",
    "        self.players[self.player_turn].set_active(True)\n",
    "        self.data_changed.emit()\n",
    "\n",
    "    def add(self, num):\n",
    "        # Called when a player adds a value (this also switches the players turn)\n",
    "        self.total += num\n",
    "        if self.total >= 20:\n",
    "            winner = self.players[self.player_turn]\n",
    "            self.game_message.emit(\"Player {} won!\".format(winner.name))\n",
    "            winner.won()\n",
    "            self.total = 0\n",
    "\n",
    "        self.players[self.player_turn].set_active(False)\n",
    "        self.player_turn = (self.player_turn + 1) % len(self.players)\n",
    "        self.players[self.player_turn].set_active(True)\n",
    "        self.data_changed.emit()\n",
    "\n",
    "# A simple player state. It keeps track of the score.\n",
    "class PlayerState(QObject):\n",
    "\n",
    "    data_changed = pyqtSignal()\n",
    "    \n",
    "    def __init__(self, name):\n",
    "        super().__init__()\n",
    "        self.name = name\n",
    "        self.wins = 0\n",
    "        self.active = False\n",
    "    \n",
    "    def set_active(self, active):\n",
    "        self.active = active\n",
    "        self.data_changed.emit()\n",
    "\n",
    "    def won(self):\n",
    "        self.wins += 1\n",
    "        self.data_changed.emit()"
   ]
  },
  {
   "cell_type": "code",
   "execution_count": 20,
   "metadata": {
    "collapsed": false
   },
   "outputs": [],
   "source": [
    "class PlayerView(QGroupBox):\n",
    "    def __init__(self, player, game):\n",
    "        super().__init__(player.name)\n",
    "        self.player = player\n",
    "        \n",
    "        layout = QVBoxLayout()\n",
    "        self.setLayout(layout)\n",
    "\n",
    "        self.wins = QLabel()\n",
    "        layout.addWidget(self.wins)\n",
    "\n",
    "        self.buttons = []\n",
    "        for b in range(3):\n",
    "            button = QPushButton(\"Add {}\".format(b+1))\n",
    "            self.buttons.append(button)\n",
    "            layout.addWidget(button)\n",
    "            #button.clicked.connect( lambda : game.add(b+1) )\n",
    "\n",
    "        def add_1(): game.add(1)\n",
    "        def add_2(): game.add(2)\n",
    "        def add_3(): game.add(3)\n",
    "        self.buttons[0].clicked.connect(add_1)\n",
    "        self.buttons[1].clicked.connect(add_2)\n",
    "        self.buttons[2].clicked.connect(add_3)\n",
    "            \n",
    "        player.data_changed.connect(self.update)\n",
    "        self.update()\n",
    "\n",
    "    def update(self):\n",
    "        self.wins.setText(\"Wins: \" + str(self.player.wins))\n",
    "        for b in self.buttons:\n",
    "            b.setEnabled(self.player.active)"
   ]
  },
  {
   "cell_type": "code",
   "execution_count": 23,
   "metadata": {
    "collapsed": false
   },
   "outputs": [],
   "source": [
    "class GameView(QWidget):\n",
    "    def __init__(self, game):\n",
    "        super().__init__()\n",
    "    \n",
    "        self.game = game\n",
    "        \n",
    "        layoutv = QVBoxLayout()\n",
    "        self.setLayout(layoutv)\n",
    "\n",
    "        self.total_label = QLabel(\"uninitialized\")\n",
    "        layoutv.addWidget(self.total_label)\n",
    "        \n",
    "        layouth = QHBoxLayout()\n",
    "        layoutv.addLayout(layouth)\n",
    "        \n",
    "        self.player_views = []\n",
    "        for p in game.players:\n",
    "            player_view = PlayerView(p, game)\n",
    "            self.player_views.append(player_view)\n",
    "            layouth.addWidget(player_view)\n",
    "\n",
    "        game.game_message.connect(self.alert_user)\n",
    "        game.data_changed.connect(self.update)\n",
    "        game.start() # We start as soon as we get a view!\n",
    "        self.update()\n",
    "\n",
    "    def alert_user(self, text):\n",
    "        # A method like this is nice to have for showing if the game is over, \n",
    "        # or warn about faulty input.\n",
    "        box = QMessageBox()\n",
    "        box.setText(text)\n",
    "        box.exec_()\n",
    "        \n",
    "    def update(self):\n",
    "        self.total_label.setText(\"Total: \" + str(self.game.total))"
   ]
  },
  {
   "cell_type": "code",
   "execution_count": 24,
   "metadata": {
    "collapsed": false
   },
   "outputs": [
    {
     "data": {
      "text/plain": [
       "0"
      ]
     },
     "execution_count": 24,
     "metadata": {},
     "output_type": "execute_result"
    }
   ],
   "source": [
    "qt_app = QApplication.instance()\n",
    "\n",
    "model = GameState([PlayerState(\"Lisa\"), PlayerState(\"Pelle\")])\n",
    "view = GameView(model)\n",
    "view.show()\n",
    "\n",
    "qt_app.exec_()"
   ]
  },
  {
   "cell_type": "markdown",
   "metadata": {},
   "source": [
    "The view (which includes the controller) has 3 means of communication;\n",
    "* A model of which it can ask what to draw (e.g. what cards the player has, if any)\n",
    "* A signal to connect the \"update\" method to (which may or may not send information)\n",
    "* Methods to pass information back after user interaction.\n",
    "\n",
    "As we can see, even if we have a widget that represents one player-model, it doens't mean that widget reports changes back to that player-model. \n",
    "Typical in games, we have a controlling overreaching game logic which needs to take the input."
   ]
  },
  {
   "cell_type": "markdown",
   "metadata": {},
   "source": [
    "## Tell or ask?"
   ]
  },
  {
   "cell_type": "markdown",
   "metadata": {},
   "source": [
    "What is best?\n",
    "* The View ask the Model for the information it needs.\n",
    "* The Model sends the information.\n",
    "\n",
    "No right answer! As long as the model logic isn't to strongly influenced by the GUI code, little can go wrong.\n",
    "It's a good idea to be consistent though. You don't have to use the Model+View seperation, but it's a good idea in terms of design."
   ]
  },
  {
   "cell_type": "code",
   "execution_count": null,
   "metadata": {
    "collapsed": false
   },
   "outputs": [],
   "source": []
  }
 ],
 "metadata": {
  "anaconda-cloud": {},
  "kernelspec": {
   "display_name": "Python [default]",
   "language": "python",
   "name": "python3"
  },
  "language_info": {
   "codemirror_mode": {
    "name": "ipython",
    "version": 3
   },
   "file_extension": ".py",
   "mimetype": "text/x-python",
   "name": "python",
   "nbconvert_exporter": "python",
   "pygments_lexer": "ipython3",
   "version": "3.5.2"
  }
 },
 "nbformat": 4,
 "nbformat_minor": 0
}

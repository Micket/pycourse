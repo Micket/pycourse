{
 "cells": [
  {
   "cell_type": "markdown",
   "metadata": {},
   "source": [
    "# Lecture 6"
   ]
  },
  {
   "cell_type": "markdown",
   "metadata": {},
   "source": [
    "In this lecture we will discuss how to create you own library of functions, i.e. write your own module.\n",
    "\n",
    "As part of this we will go through the layout of a module, how to write documentation, namespaces and scope.\n",
    "\n",
    "The book [1] does not cover this gathered in one chapter, and does *not* discuss standard ways of writing documentation in Python code.\n",
    "Information on *scope* can however be found in section 5.8.\n",
    "\n",
    "In [2] there is some documentation on creating modules in chapter 6.4."
   ]
  },
  {
   "cell_type": "markdown",
   "metadata": {},
   "source": [
    "## Python documentation"
   ]
  },
  {
   "cell_type": "markdown",
   "metadata": {},
   "source": [
    "An important part of writing code is to *document* it, both to describe what individual part (loops, sections of a function etc.) does, but also to provide documentation on what modules, functions, classes etc. do, and how they should be used.\n",
    "\n",
    "Comments inside your code is entered by inserting the \"#\" character before the part that is the comment.\n",
    "The \"#\" character can be placed anywhere on a line, and whatever is after it on the line is considered a comment.\n",
    "Each line that is part of a longer comment need to start with a \"#\".\n",
    "\n",
    "*Docstrings* are used by Python to create comments for modules, functions etc. These are simply strings occurring at the start of a file or a function/class declaration.\n",
    "\n",
    "\n",
    "Example: Code comments"
   ]
  },
  {
   "cell_type": "code",
   "execution_count": null,
   "metadata": {
    "collapsed": false
   },
   "outputs": [],
   "source": [
    "import numpy as np\n",
    "np.set_printoptions(precision=1)\n",
    "\n",
    "weights = np.array([85, 74, 56])        # weight in kg\n",
    "heights = np.array([1.89, 1.77, 1.63])  # height in m\n",
    "\n",
    "# create BMI array: BMI = mass / length^2\n",
    "bmi = weights / heights / heights\n",
    "\n",
    "print(bmi)"
   ]
  },
  {
   "cell_type": "markdown",
   "metadata": {},
   "source": [
    "Example: Docstrings"
   ]
  },
  {
   "cell_type": "code",
   "execution_count": null,
   "metadata": {
    "collapsed": false
   },
   "outputs": [],
   "source": [
    "def myfunc(parA, parB):\n",
    "    \"\"\"\n",
    "    My very special function to add 2 numbers.\n",
    "    \n",
    "    Parameters:\n",
    "    -----------\n",
    "    parA, parB : The numbers to add, must be numbers!\n",
    "    \n",
    "    Returns:\n",
    "    --------\n",
    "    The sum of the given numbers\n",
    "    \"\"\"\n",
    "    \n",
    "    return parA + parB"
   ]
  },
  {
   "cell_type": "code",
   "execution_count": null,
   "metadata": {
    "collapsed": false
   },
   "outputs": [],
   "source": [
    "myfunc(2, 4.5)"
   ]
  },
  {
   "cell_type": "markdown",
   "metadata": {},
   "source": [
    "When we have provided a *docstring* to an object in Python, it becomes part of the documentation available to **help(**)!"
   ]
  },
  {
   "cell_type": "code",
   "execution_count": null,
   "metadata": {
    "collapsed": false
   },
   "outputs": [],
   "source": [
    "help(myfunc)"
   ]
  },
  {
   "cell_type": "markdown",
   "metadata": {},
   "source": [
    "### Parameters, return values and type"
   ]
  },
  {
   "cell_type": "markdown",
   "metadata": {},
   "source": [
    "By annotating (or using special \"markers\")  you can indicate what your parameters are, what the function will return and even what types these should be!\n",
    "\n",
    "This information can then be used by for example:\n",
    "- **pydoc** to create documentation in different formats (HTML, text, ...)\n",
    "- **PyCharm** to provide type-checking of arguments etc.\n",
    "\n",
    "The type information can be provided in two different ways:\n",
    "- Using *annotations*\n",
    "- With *keywords* in the *docstring*\n",
    "\n",
    "Lets refine our function above with parameter and return descriptions.\n",
    "- Also include type specifications, first using *annotations* and then *docstrings*:"
   ]
  },
  {
   "cell_type": "code",
   "execution_count": null,
   "metadata": {
    "collapsed": false
   },
   "outputs": [],
   "source": [
    "def myfunc2(parA: float or int, parB: float or int) -> float or int:\n",
    "    \"\"\"\n",
    "    My very special function to sum 2 numbers.\n",
    "    \n",
    "    Parameters:\n",
    "    -----------\n",
    "    :param parA: First number to sum\n",
    "    :param parB: Second number to sum\n",
    "    \n",
    "    Returns:\n",
    "    --------\n",
    "    :return: The sum of the given numbers\n",
    "    \"\"\"\n",
    "    \n",
    "    return parA + parB"
   ]
  },
  {
   "cell_type": "code",
   "execution_count": null,
   "metadata": {
    "collapsed": false
   },
   "outputs": [],
   "source": [
    "myfunc2(2, 4.5)"
   ]
  },
  {
   "cell_type": "code",
   "execution_count": null,
   "metadata": {
    "collapsed": false
   },
   "outputs": [],
   "source": [
    "help(myfunc2)"
   ]
  },
  {
   "cell_type": "code",
   "execution_count": null,
   "metadata": {
    "collapsed": false
   },
   "outputs": [],
   "source": [
    "def myfunc3(parA, parB):\n",
    "    \"\"\"\n",
    "    My very special function to sum 2 numbers.\n",
    "    \n",
    "    Parameters:\n",
    "    -----------\n",
    "    @param parA: First number to sum\n",
    "    @param parB: Second number to sum\n",
    "    \n",
    "    @type parA: float or int\n",
    "    @type parB: float or int\n",
    "\n",
    "    Returns:\n",
    "    --------\n",
    "    @return: The sum of the given numbers\n",
    "    @rtype: float or int\n",
    "    \"\"\"\n",
    "    \n",
    "    return parA + parB"
   ]
  },
  {
   "cell_type": "code",
   "execution_count": null,
   "metadata": {
    "collapsed": false,
    "scrolled": true
   },
   "outputs": [],
   "source": [
    "myfunc3(2, 4.5)"
   ]
  },
  {
   "cell_type": "code",
   "execution_count": null,
   "metadata": {
    "collapsed": false
   },
   "outputs": [],
   "source": [
    "help(myfunc3)"
   ]
  },
  {
   "cell_type": "markdown",
   "metadata": {},
   "source": [
    "Note in the examples above how both *:keyword para:* and *@keyword para:* can be used!"
   ]
  },
  {
   "cell_type": "markdown",
   "metadata": {},
   "source": [
    "### Python documentation and PyCharm"
   ]
  },
  {
   "cell_type": "markdown",
   "metadata": {},
   "source": [
    "PyCharm will let you automatically insert skeletons for documentation on functions etc.\n",
    "\n",
    "Lets try to create and verify our simple example above using PyCharm!\n",
    "\n",
    "(Live demo)\n",
    "\n",
    "Note that *annotations* in pyCharm only works fully for simple types, for union types (*int or float* for example), use the docstring method for now!"
   ]
  },
  {
   "cell_type": "markdown",
   "metadata": {},
   "source": [
    "## Libraries / Modules"
   ]
  },
  {
   "cell_type": "markdown",
   "metadata": {},
   "source": [
    "It is quite common to gather functions etc. in some structure, like you have seen in the SciPy package for example.\n",
    "\n",
    "In Python you can either separate modules by putting them in separate *files* or in a *directory structure*.\n",
    "* If you just want to collect a few (simple) functions, you can use the *file* layout.\n",
    "* If you are creating a library or something to be used like a library, the *directory structure* modell is prefered."
   ]
  },
  {
   "cell_type": "markdown",
   "metadata": {},
   "source": [
    "### Using a simple file"
   ]
  },
  {
   "cell_type": "markdown",
   "metadata": {},
   "source": [
    "Example: A few simple functions in a file (compare: Computer Assignment 1)\n",
    "\n",
    "* Lets say you have functions *funcA* and *funcB* and the constant *WIDTH* you want to provide.\n",
    "* You want to call this library/module *myLib*.\n",
    "\n",
    "Create the file \"myLib.py\" with the following content:"
   ]
  },
  {
   "cell_type": "code",
   "execution_count": null,
   "metadata": {
    "collapsed": false
   },
   "outputs": [],
   "source": [
    "\"\"\"\n",
    "My own library for printing stuff!\n",
    "\n",
    "Not much to say....\n",
    "\"\"\"\n",
    "\n",
    "WIDTH = 10\n",
    "\n",
    "def funcA(dataA1, dataA2):\n",
    "    \"\"\"\n",
    "    funcA: print two objects.\n",
    "\n",
    "    :param dataA1: Any object that can be printed\n",
    "    :param dataA2: Any object that can be printed\n",
    "    \"\"\"\n",
    "    \n",
    "    print('My data is: \"{}\", \"{}\"'.format(dataA1, dataA2))\n",
    "\n",
    "def funcB():\n",
    "    \"\"\"funcB: indicate that task is done.\"\"\"\n",
    "    print('Task done')"
   ]
  },
  {
   "cell_type": "markdown",
   "metadata": {},
   "source": [
    "\n",
    "We can now import our library like we imported other libraries earlier:"
   ]
  },
  {
   "cell_type": "code",
   "execution_count": null,
   "metadata": {
    "collapsed": false
   },
   "outputs": [],
   "source": [
    "import myLib"
   ]
  },
  {
   "cell_type": "markdown",
   "metadata": {},
   "source": [
    "We can now use **help()** on or library:"
   ]
  },
  {
   "cell_type": "code",
   "execution_count": null,
   "metadata": {
    "collapsed": false
   },
   "outputs": [],
   "source": [
    "help(myLib)"
   ]
  },
  {
   "cell_type": "markdown",
   "metadata": {},
   "source": [
    "We can now call our functions:"
   ]
  },
  {
   "cell_type": "code",
   "execution_count": null,
   "metadata": {
    "collapsed": false
   },
   "outputs": [],
   "source": [
    "myLib.funcA(12, \"Blue\")"
   ]
  },
  {
   "cell_type": "markdown",
   "metadata": {},
   "source": [
    "Python will automatically create a few variables for us when we import a module:\n",
    "- *\\_\\_name\\_\\_* contains the \"active\" name, in our example above when we imported our file this is *'myLib'*\n",
    "- *\\_\\_doc\\_\\_* contains the module documentation, more in this below\n",
    "- and some more items that we'll skip for now\n",
    "\n",
    "To see all the object available in a module, both those you created and those automatically created, use **dir()**:"
   ]
  },
  {
   "cell_type": "code",
   "execution_count": null,
   "metadata": {
    "collapsed": false
   },
   "outputs": [],
   "source": [
    "dir(myLib)"
   ]
  },
  {
   "cell_type": "code",
   "execution_count": null,
   "metadata": {
    "collapsed": false
   },
   "outputs": [],
   "source": [
    "print(myLib.__name__)\n",
    "print(myLib.WIDTH)"
   ]
  },
  {
   "cell_type": "markdown",
   "metadata": {},
   "source": [
    "### The module *\\_\\_name\\_\\_* variable"
   ]
  },
  {
   "cell_type": "markdown",
   "metadata": {},
   "source": [
    "The *\\_\\_name\\_\\_* variable actually will show the *namespace* name in which we are accessing it!\n",
    "\n",
    "In the example above, this was the module itself, but if we instead *run* the file \"myLib.py\" directly using the Python command-line it will instead be the main namespace called \"\\_\\_main\\_\\_\"!"
   ]
  },
  {
   "cell_type": "markdown",
   "metadata": {},
   "source": [
    "Lets update **funcB()** in the example to print the current  *\\_\\_name\\_\\_* and add some testing code: (only changed/added stuff shown below)"
   ]
  },
  {
   "cell_type": "code",
   "execution_count": null,
   "metadata": {
    "collapsed": false
   },
   "outputs": [],
   "source": [
    "def funcB():\n",
    "    print('Task done:\"{}\"'.format(__name__))\n",
    "\n",
    "if __name__ == \"__main__\":\n",
    "    funcA(\"Testing\", \"funcA\")\n",
    "    funcB()"
   ]
  },
  {
   "cell_type": "markdown",
   "metadata": {},
   "source": [
    "And lets run this in the interactive python console:  \n",
    "(Running in the iPython notebook does not work exactly as running in interactive Python shell, and therefore can not be used here.)\n",
    "\n",
    "```python\n",
    ">>> import myLib\n",
    ">>> myLib.funcB()\n",
    "Task done: \"myLib\"\n",
    "```"
   ]
  },
  {
   "cell_type": "markdown",
   "metadata": {},
   "source": [
    "If we instead run our file through a non-interactive Python interpreter from the command-line:\n",
    "- *\\_\\_name\\_\\_* will now contain \"\\_\\_main\\_\\_\"\n",
    "- the if-clause will be True and the testing code will be run\n",
    "```python\n",
    "$ python myLib.py\n",
    "My data is: \"Testing\", \"funcA\"\n",
    "Task done: \"__main__\"\n",
    "```\n",
    "\n",
    "(Here \"$\" is the command-line prompt and should _not_ be entered. Running on a different system you might see another prompt!)\n",
    "\n",
    "\n",
    "This method of using the *\\_\\_name\\_\\_* is the recommended method for creating tests for your own functions and modules!"
   ]
  },
  {
   "cell_type": "markdown",
   "metadata": {},
   "source": [
    "### Building modules using directories"
   ]
  },
  {
   "cell_type": "markdown",
   "metadata": {},
   "source": [
    "When you want to go beyond something more than a few simple functions like above, you should build your library/module using a *directory structure*.\n",
    "\n",
    "- For Python to consider a directory as a module, a file named \"\\_\\_init\\_\\_.py\" __must__ exist!\n",
    "- This file can be empty\n",
    "- It is executed on import\n",
    "\n",
    "Example: Create an module named \"myMod\"\n",
    "(Example based on MacOS or Linux command-line, in Window use appropriate tools to create a directory and an empty file)\n",
    "\n",
    "```python\n",
    "$ mkdir myMod\n",
    "\n",
    "$ touch myMod/__init__.py\n",
    "```\n",
    "\n",
    "We can now import this and use **help()** on it:"
   ]
  },
  {
   "cell_type": "code",
   "execution_count": null,
   "metadata": {
    "collapsed": false
   },
   "outputs": [],
   "source": [
    "import myMod\n",
    "help(myMod)"
   ]
  },
  {
   "cell_type": "markdown",
   "metadata": {},
   "source": [
    "Lets add some initialization code to \"\\_\\_init\\_\\_.py\":\n",
    "```python\n",
    "MYCONST = 2\n",
    "\n",
    "print('Loaded \"myMod\"!')\n",
    "```\n",
    "\n",
    "**Note:** Here I am adding new modules, with extensions \"2\", \"3\" and so. This is only for clarity of the presentation, you should of course build on a single module when doing this yourself!"
   ]
  },
  {
   "cell_type": "code",
   "execution_count": null,
   "metadata": {
    "collapsed": false
   },
   "outputs": [],
   "source": [
    "import myMod2"
   ]
  },
  {
   "cell_type": "markdown",
   "metadata": {},
   "source": [
    "Note: Python uses a cache to save loaded modules. If you modify an external file/module you either need to\n",
    "- exit and restart the interpreter\n",
    "- reload the module with the help of the **reload(mod)** method from the **imp** module\n",
    "    ```python\n",
    "    from imp import reload\n",
    "    reload(myMod)\n",
    "    ```\n",
    "    \n",
    "Lets add a new function *funcA* to our module:\n",
    "- create a new file \"myMod2/funcA.py\"\n",
    "- add a simple function with documentation\n",
    "\n",
    "Contents of \"funcA.py\":"
   ]
  },
  {
   "cell_type": "code",
   "execution_count": null,
   "metadata": {
    "collapsed": false
   },
   "outputs": [],
   "source": [
    "def funcA(data1, data2):\n",
    "\t\"\"\"\n",
    "\tFunction to print the two data given\n",
    "\n",
    "\tThis function simply prints the two data given.\n",
    "\n",
    "\t:param data1: First data written\n",
    "\t:param data1: Second data written\n",
    "\n",
    "\t:return: Nothing\n",
    "\t\"\"\"\n",
    "    \n",
    "\tprint('My data is: \"{}\", \"{}\"'.format(data1, data2))"
   ]
  },
  {
   "cell_type": "code",
   "execution_count": null,
   "metadata": {
    "collapsed": false
   },
   "outputs": [],
   "source": [
    "from imp import reload\n",
    "reload(myMod2)"
   ]
  },
  {
   "cell_type": "code",
   "execution_count": null,
   "metadata": {
    "collapsed": false
   },
   "outputs": [],
   "source": [
    "help(myMod2)"
   ]
  },
  {
   "cell_type": "code",
   "execution_count": null,
   "metadata": {
    "collapsed": false
   },
   "outputs": [],
   "source": [
    "dir(myMod2)"
   ]
  },
  {
   "cell_type": "markdown",
   "metadata": {},
   "source": [
    "But our *funcA* is not here!\n",
    "\n",
    "We either need to load it explicitly:"
   ]
  },
  {
   "cell_type": "code",
   "execution_count": null,
   "metadata": {
    "collapsed": false
   },
   "outputs": [],
   "source": [
    "from myMod2 import funcA"
   ]
  },
  {
   "cell_type": "code",
   "execution_count": null,
   "metadata": {
    "collapsed": false
   },
   "outputs": [],
   "source": [
    "help(funcA)"
   ]
  },
  {
   "cell_type": "markdown",
   "metadata": {},
   "source": [
    "Or modify our \"\\_\\_init\\_\\_.py\" to include it automatically by adding:\n",
    "\n",
    "```python\n",
    "from . funcA import *\n",
    "```\n",
    "\n",
    "Note the \"***.***\" to indicate the current module directory\n",
    "(We can of course choose what to include by substituting the \"*\" with a list of functions etc.)"
   ]
  },
  {
   "cell_type": "code",
   "execution_count": null,
   "metadata": {
    "collapsed": false
   },
   "outputs": [],
   "source": [
    "import myMod3"
   ]
  },
  {
   "cell_type": "code",
   "execution_count": null,
   "metadata": {
    "collapsed": false
   },
   "outputs": [],
   "source": [
    "dir(myMod3)"
   ]
  },
  {
   "cell_type": "code",
   "execution_count": null,
   "metadata": {
    "collapsed": false
   },
   "outputs": [],
   "source": [
    "help(myMod3.funcA)"
   ]
  },
  {
   "cell_type": "markdown",
   "metadata": {},
   "source": [
    "Lets add a new file \"funcs.py\" with some more functions:"
   ]
  },
  {
   "cell_type": "code",
   "execution_count": null,
   "metadata": {
    "collapsed": false
   },
   "outputs": [],
   "source": [
    "\"\"\"\n",
    "Additional methods for printing\n",
    "\"\"\"\n",
    "\n",
    "def print_one(arg1):\n",
    "\tprint(arg1)\n",
    "\n",
    "def print_two(arg1, arg2):\n",
    "\tprint(arg1, arg2)\n",
    "\n",
    "def print_many(*args):\n",
    "\tfor i in args[:-1]:\n",
    "\t\tprint(i, end=': ')\n",
    "        \n",
    "\tprint(args[-1])"
   ]
  },
  {
   "cell_type": "markdown",
   "metadata": {},
   "source": [
    "And include it all by adding to \"\\_\\_init\\_\\_.py\":\n",
    "```python\n",
    "from . funcs import *\n",
    "```"
   ]
  },
  {
   "cell_type": "code",
   "execution_count": null,
   "metadata": {
    "collapsed": false
   },
   "outputs": [],
   "source": [
    "import myMod4"
   ]
  },
  {
   "cell_type": "code",
   "execution_count": null,
   "metadata": {
    "collapsed": false
   },
   "outputs": [],
   "source": [
    "dir(myMod4)"
   ]
  },
  {
   "cell_type": "code",
   "execution_count": null,
   "metadata": {
    "collapsed": false
   },
   "outputs": [],
   "source": [
    "myMod4.print_many(1, [2,3], \"Four\")"
   ]
  },
  {
   "cell_type": "markdown",
   "metadata": {},
   "source": [
    "\"\\_\\_init\\_\\_.py\" now looks like this:\n",
    "```python\n",
    "MYCONST = 2\n",
    "\n",
    "print('Loaded \"myMod4\"!')\n",
    "\n",
    "from . funcA import *\n",
    "from . funcs import *\n",
    "```"
   ]
  },
  {
   "cell_type": "markdown",
   "metadata": {},
   "source": [
    "Summary: The routines from your files defferent files that you want to be visible when you load the module (or sub-module), need to be imported in \"\\_\\_init\\_\\_.py\"!"
   ]
  },
  {
   "cell_type": "markdown",
   "metadata": {},
   "source": [
    "## Namespaces and scope"
   ]
  },
  {
   "cell_type": "markdown",
   "metadata": {},
   "source": [
    "Important concepts you need to understand when writing or reading Python code (and many other programming languages as well), is the notations of *namespace* and *scope*."
   ]
  },
  {
   "cell_type": "markdown",
   "metadata": {},
   "source": [
    "### Namespace"
   ]
  },
  {
   "cell_type": "markdown",
   "metadata": {},
   "source": [
    "A *namespace* is by definition a mapping from a textual name to an object, i.e. it is the name by which we access the object.\n",
    "In Python there are a number of pre-defined namespaces, for example the namespace containing the built-in functions and the top level namespace created when you start your Python interpreter.\n",
    "\n",
    "A *local* namespace is created whenever you have a code block, this can be:\n",
    "- the body of a loop\n",
    "- inside an *if*-statement\n",
    "- inside a module\n",
    "- inside a function\n",
    "- etc."
   ]
  },
  {
   "cell_type": "markdown",
   "metadata": {},
   "source": [
    "### Scope"
   ]
  },
  {
   "cell_type": "markdown",
   "metadata": {},
   "source": [
    "A *scope* is a textual region of a program where a *namespace* is **directly** accessible.\n",
    "\n",
    "By “directly accessible” we mean that the object is accessible by its simple name, i.e. using *an unqualified reference*.\n",
    "\n",
    "Example: an *unqualified reference* to an object *A* is simply \"*A*\". compared to addressing it by reference as \"*B.A*\".\n"
   ]
  },
  {
   "cell_type": "markdown",
   "metadata": {},
   "source": [
    "When Python tries to *look up* what object it should map to a textual name it *always* starts at the *inner-most scope*, then it looks at the next scope going outwards until it finds an object with the correct name (or fails!).\n",
    "\n",
    "Example:"
   ]
  },
  {
   "cell_type": "code",
   "execution_count": null,
   "metadata": {
    "collapsed": false
   },
   "outputs": [],
   "source": [
    "K = 10\n",
    "\n",
    "def myfunc(a, b):\n",
    "\n",
    "    for i in range(K):\n",
    "        a = a + b\n",
    "    \n",
    "    return a\n",
    "\n",
    "a = 3\n",
    "x = 4\n",
    "c = myfunc(a, x)\n",
    "\n",
    "# What are the values of a, x, c now?\n",
    "print(a)\n",
    "print(x)\n",
    "print(c)"
   ]
  },
  {
   "cell_type": "markdown",
   "metadata": {},
   "source": [
    "### The *global* and *nonlocal* keywords"
   ]
  },
  {
   "cell_type": "markdown",
   "metadata": {},
   "source": [
    "You can override the scope of a variable using the **global** and **nonlocal** keywords.\n",
    "- **global** *name* will let you modify objects directly in the global (main) scope from within any scope\n",
    "- **nonlocal** *name* does the same, but only for the scope outside of the current\n",
    "\n",
    "Example:"
   ]
  },
  {
   "cell_type": "code",
   "execution_count": null,
   "metadata": {
    "collapsed": false
   },
   "outputs": [],
   "source": [
    "def myfunc():\n",
    "    \n",
    "    def func_local():\n",
    "        a = \"local\"\n",
    "    \n",
    "    def func_nonlocal():\n",
    "        nonlocal a\n",
    "        a = \"nonlocal\"\n",
    "    \n",
    "    def func_global():\n",
    "        global a\n",
    "        a = \"global\"\n",
    "    \n",
    "    a = \"func\"\n",
    "    \n",
    "    func_local()\n",
    "    print(\"After func_local:\", a)\n",
    "    \n",
    "    func_nonlocal()\n",
    "    print(\"After func_nonlocal:\", a)\n",
    "    \n",
    "    func_global()\n",
    "    print(\"After global assignment:\", a)\n",
    "\n",
    "a = \"main\"\n",
    "print(\"In global (main) scope, before call:\", a)\n",
    "\n",
    "myfunc()\n",
    "print(\"In global (main) scope, after call:\", a)"
   ]
  },
  {
   "cell_type": "markdown",
   "metadata": {},
   "source": [
    "### What *import* actually does"
   ]
  },
  {
   "cell_type": "markdown",
   "metadata": {},
   "source": [
    "So, now we can give a better explanation of what the different forms of **import** actually do!\n",
    "\n",
    "- **import myMod**:\n",
    "    1. load the module *myMod*\n",
    "    2. add its name (\"myMod\") to the *current* namespace\n",
    "    3. creata a new, \"myMod\", namespace populating it with the contents from the module\n",
    "\n",
    "\n",
    "- **import myMod as mM**:\n",
    "    1. load the module *myMod*\n",
    "    2. add it by the given name (\"mM\") to the *current* namespace\n",
    "    3. creata a new, \"mM\", namespace populating it with the contents from the module\n",
    "    \n",
    "\n",
    "- **from myMod import funcA**:\n",
    "    1. load *funcA* from the module *myMod*\n",
    "    2. add its name (\"funcA\") to the *current* namespace    \n",
    "\n",
    "\n",
    "- **from myMod import funcA as fA**:\n",
    "    1. load *funcA* from the module *myMod*\n",
    "    2. add it by the given name (\"fA\") to the *current* namespace    \n",
    "\n",
    "\n",
    "- **from myMod import \\* **:\n",
    "    1. load *all* objects from the module *myMod*\n",
    "    2. add them by their names (for example \"funcA\") to the *current* namespace"
   ]
  },
  {
   "cell_type": "markdown",
   "metadata": {},
   "source": [
    "### Parsing command-line arguments"
   ]
  },
  {
   "cell_type": "markdown",
   "metadata": {},
   "source": [
    "To parse command-line arguments, the most basic method is using sys.argv."
   ]
  },
  {
   "cell_type": "code",
   "execution_count": null,
   "metadata": {
    "collapsed": false
   },
   "outputs": [],
   "source": [
    "from sys import argv"
   ]
  },
  {
   "cell_type": "code",
   "execution_count": null,
   "metadata": {
    "collapsed": false
   },
   "outputs": [],
   "source": [
    "type(argv)"
   ]
  },
  {
   "cell_type": "code",
   "execution_count": null,
   "metadata": {
    "collapsed": false
   },
   "outputs": [],
   "source": [
    "print(argv)"
   ]
  },
  {
   "cell_type": "markdown",
   "metadata": {},
   "source": [
    "For more advance parsing of parameters, the **argparse** module is recommended (https://docs.python.org/3/howto/argparse.html)"
   ]
  },
  {
   "cell_type": "code",
   "execution_count": null,
   "metadata": {
    "collapsed": false
   },
   "outputs": [],
   "source": [
    "import argparse"
   ]
  },
  {
   "cell_type": "code",
   "execution_count": null,
   "metadata": {
    "collapsed": false
   },
   "outputs": [],
   "source": [
    "help(argparse)"
   ]
  },
  {
   "cell_type": "code",
   "execution_count": null,
   "metadata": {
    "collapsed": false
   },
   "outputs": [],
   "source": []
  }
 ],
 "metadata": {
  "kernelspec": {
   "display_name": "Python 3",
   "language": "python",
   "name": "python3"
  },
  "language_info": {
   "codemirror_mode": {
    "name": "ipython",
    "version": 3
   },
   "file_extension": ".py",
   "mimetype": "text/x-python",
   "name": "python",
   "nbconvert_exporter": "python",
   "pygments_lexer": "ipython3",
   "version": "3.4.3"
  }
 },
 "nbformat": 4,
 "nbformat_minor": 0
}
